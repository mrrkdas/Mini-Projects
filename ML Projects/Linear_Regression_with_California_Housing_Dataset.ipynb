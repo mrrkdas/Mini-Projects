{
  "nbformat": 4,
  "nbformat_minor": 0,
  "metadata": {
    "colab": {
      "name": "**Mini Project** Linear Regression with California Housing Dataset",
      "provenance": [],
      "authorship_tag": "ABX9TyO1HYQolBuG4qfqV1rFJTWy",
      "include_colab_link": true
    },
    "kernelspec": {
      "name": "python3",
      "display_name": "Python 3"
    },
    "language_info": {
      "name": "python"
    }
  },
  "cells": [
    {
      "cell_type": "markdown",
      "metadata": {
        "id": "view-in-github",
        "colab_type": "text"
      },
      "source": [
        "<a href=\"https://colab.research.google.com/github/mrrkdas/Mini-Projects/blob/main/Linear_Regression_with_California_Housing_Dataset.ipynb\" target=\"_parent\"><img src=\"https://colab.research.google.com/assets/colab-badge.svg\" alt=\"Open In Colab\"/></a>"
      ]
    },
    {
      "cell_type": "code",
      "execution_count": 2,
      "metadata": {
        "id": "vAQaa_1kt4ae"
      },
      "outputs": [],
      "source": [
        "import tensorflow as tf\n",
        "import pandas as pd\n",
        "import matplotlib.pyplot as plt\n",
        "import numpy as np\n",
        "\n",
        "from sklearn.datasets import fetch_california_housing\n",
        "from sklearn.model_selection import train_test_split\n",
        "from sklearn.preprocessing import MinMaxScaler\n",
        "\n",
        "from tensorflow.keras.layers import Dense\n",
        "from tensorflow.keras import Model\n",
        "from tensorflow.keras import Input"
      ]
    },
    {
      "cell_type": "markdown",
      "source": [
        "## Getting to know the Data"
      ],
      "metadata": {
        "id": "ImwuDYLwu3nT"
      }
    },
    {
      "cell_type": "code",
      "source": [
        "data = fetch_california_housing()"
      ],
      "metadata": {
        "id": "Q3Ajzd0-ukKt"
      },
      "execution_count": 3,
      "outputs": []
    },
    {
      "cell_type": "code",
      "source": [
        "data.keys()"
      ],
      "metadata": {
        "colab": {
          "base_uri": "https://localhost:8080/"
        },
        "id": "QDn8EhqAusxO",
        "outputId": "81797e60-bfdd-4edb-fca1-2979c2a8a27a"
      },
      "execution_count": 4,
      "outputs": [
        {
          "output_type": "execute_result",
          "data": {
            "text/plain": [
              "dict_keys(['data', 'target', 'frame', 'target_names', 'feature_names', 'DESCR'])"
            ]
          },
          "metadata": {},
          "execution_count": 4
        }
      ]
    },
    {
      "cell_type": "code",
      "source": [
        "data.data.shape # 20640 entries 8 features per entry"
      ],
      "metadata": {
        "colab": {
          "base_uri": "https://localhost:8080/"
        },
        "id": "L3w-ODk6uuT2",
        "outputId": "cdaa15cd-2506-40f8-e0a2-5f11951165ad"
      },
      "execution_count": 5,
      "outputs": [
        {
          "output_type": "execute_result",
          "data": {
            "text/plain": [
              "(20640, 8)"
            ]
          },
          "metadata": {},
          "execution_count": 5
        }
      ]
    },
    {
      "cell_type": "code",
      "source": [
        "data.feature_names"
      ],
      "metadata": {
        "colab": {
          "base_uri": "https://localhost:8080/"
        },
        "id": "1CniDi26uymh",
        "outputId": "afa72f84-d1b0-4077-f9ad-68a73d87944e"
      },
      "execution_count": 6,
      "outputs": [
        {
          "output_type": "execute_result",
          "data": {
            "text/plain": [
              "['MedInc',\n",
              " 'HouseAge',\n",
              " 'AveRooms',\n",
              " 'AveBedrms',\n",
              " 'Population',\n",
              " 'AveOccup',\n",
              " 'Latitude',\n",
              " 'Longitude']"
            ]
          },
          "metadata": {},
          "execution_count": 6
        }
      ]
    },
    {
      "cell_type": "code",
      "source": [
        "data.target"
      ],
      "metadata": {
        "colab": {
          "base_uri": "https://localhost:8080/"
        },
        "id": "EdJCLtbiu0QK",
        "outputId": "762332ca-7a0b-48a5-a7f7-61a62472086d"
      },
      "execution_count": 7,
      "outputs": [
        {
          "output_type": "execute_result",
          "data": {
            "text/plain": [
              "array([4.526, 3.585, 3.521, ..., 0.923, 0.847, 0.894])"
            ]
          },
          "metadata": {},
          "execution_count": 7
        }
      ]
    },
    {
      "cell_type": "code",
      "source": [
        "data.target.shape"
      ],
      "metadata": {
        "colab": {
          "base_uri": "https://localhost:8080/"
        },
        "id": "NNxcv46yvLkP",
        "outputId": "b8f6f36b-55e2-4436-a11b-b3a74e82779e"
      },
      "execution_count": 8,
      "outputs": [
        {
          "output_type": "execute_result",
          "data": {
            "text/plain": [
              "(20640,)"
            ]
          },
          "metadata": {},
          "execution_count": 8
        }
      ]
    },
    {
      "cell_type": "markdown",
      "source": [
        "## Preprocessing"
      ],
      "metadata": {
        "id": "1umWOEwdvNfN"
      }
    },
    {
      "cell_type": "code",
      "source": [
        "X = data.data\n",
        "y = data.target"
      ],
      "metadata": {
        "id": "Nr5AX7rgvQ_7"
      },
      "execution_count": 9,
      "outputs": []
    },
    {
      "cell_type": "code",
      "source": [
        "# train test split\n",
        "X_train, X_test, y_train, y_test = train_test_split(X, y, test_size = 0.30, random_state = 42)"
      ],
      "metadata": {
        "id": "dMSTnwWCvU7H"
      },
      "execution_count": 11,
      "outputs": []
    },
    {
      "cell_type": "code",
      "source": [
        "# Min Max Scaling\n",
        "mm_scaler = MinMaxScaler()\n",
        "\n",
        "X_train_scaled = mm_scaler.fit_transform(X_train)\n",
        "X_test_scaled = mm_scaler.transform(X_test)"
      ],
      "metadata": {
        "id": "_t13ssdrvfVP"
      },
      "execution_count": 12,
      "outputs": []
    },
    {
      "cell_type": "markdown",
      "source": [
        "## Model with keras functional API"
      ],
      "metadata": {
        "id": "FCmnn_81vsvY"
      }
    },
    {
      "cell_type": "code",
      "source": [
        "# Simple model\n",
        "input = Input((8, ))\n",
        "\n",
        "dense = Dense(64, activation = 'relu')\n",
        "\n",
        "x = dense(input)\n",
        "x = Dense(24, activation = 'relu') (x)\n",
        "x = Dense(8, activation = 'relu') (x)\n",
        "\n",
        "output = Dense(1) (x)\n",
        "\n",
        "model = Model(inputs = input, outputs = output)"
      ],
      "metadata": {
        "id": "cEgj1m1Qvzur"
      },
      "execution_count": 18,
      "outputs": []
    },
    {
      "cell_type": "code",
      "source": [
        "model.compile(loss = 'MAE', optimizer = tf.keras.optimizers.Adam(learning_rate = 0.001), metrics = [\"MAE\"])"
      ],
      "metadata": {
        "id": "BwQagZX2wNWQ"
      },
      "execution_count": 19,
      "outputs": []
    },
    {
      "cell_type": "code",
      "source": [
        "# Early Stopping Callback and Learning Rate Callback\n",
        "\n",
        "# Early Stopping\n",
        "es_callback = tf.keras.callbacks.EarlyStopping(monitor = 'MAE', min_delta = 1, patience = 3, mode = 'auto', baseline = None)\n",
        "\n",
        "\n",
        "# Learning Rate Callback\n",
        "def scheduler(epoch, lr):\n",
        "  if epoch < 15:\n",
        "    return lr\n",
        "  else:\n",
        "    return lr * tf.math.exp(-0.1)\n",
        "\n",
        "lr_callback = tf.keras.callbacks.LearningRateScheduler(scheduler)"
      ],
      "metadata": {
        "id": "roGxqDhCwcp_"
      },
      "execution_count": 21,
      "outputs": []
    },
    {
      "cell_type": "code",
      "source": [
        "r = model.fit(X_train_scaled, y_train, validation_data = (X_test_scaled, y_test), epochs = 100, callbacks = [es_callback, lr_callback])"
      ],
      "metadata": {
        "colab": {
          "base_uri": "https://localhost:8080/"
        },
        "id": "TAY042OiwSyZ",
        "outputId": "5a39177b-3b65-4051-ae6e-fe17c254b3eb"
      },
      "execution_count": 23,
      "outputs": [
        {
          "output_type": "stream",
          "name": "stdout",
          "text": [
            "Epoch 1/100\n",
            "452/452 [==============================] - 3s 5ms/step - loss: 0.7165 - MAE: 0.7165 - val_loss: 0.5333 - val_MAE: 0.5333 - lr: 0.0010\n",
            "Epoch 2/100\n",
            "452/452 [==============================] - 2s 4ms/step - loss: 0.5258 - MAE: 0.5258 - val_loss: 0.5081 - val_MAE: 0.5081 - lr: 0.0010\n",
            "Epoch 3/100\n",
            "452/452 [==============================] - 2s 3ms/step - loss: 0.5039 - MAE: 0.5039 - val_loss: 0.4898 - val_MAE: 0.4898 - lr: 0.0010\n",
            "Epoch 4/100\n",
            "452/452 [==============================] - 2s 4ms/step - loss: 0.4883 - MAE: 0.4883 - val_loss: 0.4782 - val_MAE: 0.4782 - lr: 0.0010\n"
          ]
        }
      ]
    },
    {
      "cell_type": "code",
      "source": [
        "plt.plot(r.history['MAE'], label = 'MAE')\n",
        "plt.plot(r.history['loss'], label = 'loss')\n",
        "\n",
        "plt.legend()"
      ],
      "metadata": {
        "colab": {
          "base_uri": "https://localhost:8080/",
          "height": 283
        },
        "id": "VxeyI9HCytgp",
        "outputId": "407297fc-8534-4160-a9f6-3ff75ebe37c7"
      },
      "execution_count": 25,
      "outputs": [
        {
          "output_type": "execute_result",
          "data": {
            "text/plain": [
              "<matplotlib.legend.Legend at 0x7fb890b0e310>"
            ]
          },
          "metadata": {},
          "execution_count": 25
        },
        {
          "output_type": "display_data",
          "data": {
            "text/plain": [
              "<Figure size 432x288 with 1 Axes>"
            ],
            "image/png": "[encoded data removed]"
          },
          "metadata": {
            "needs_background": "light"
          }
        }
      ]
    },
    {
      "cell_type": "code",
      "source": [
        ""
      ],
      "metadata": {
        "id": "aq8yvsUCy2K8"
      },
      "execution_count": null,
      "outputs": []
    }
  ]
}