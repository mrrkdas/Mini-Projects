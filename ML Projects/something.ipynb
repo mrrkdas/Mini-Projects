{
 "cells": [
  {
   "cell_type": "code",
   "execution_count": 12,
   "metadata": {},
   "outputs": [],
   "source": [
    "import pandas as pd\n",
    "import numpy as np\n",
    "import scipy\n",
    "import matplotlib.pyplot as plt"
   ]
  },
  {
   "cell_type": "code",
   "execution_count": 4,
   "metadata": {},
   "outputs": [
    {
     "data": {
      "text/html": [
       "<div>\n",
       "<style scoped>\n",
       "    .dataframe tbody tr th:only-of-type {\n",
       "        vertical-align: middle;\n",
       "    }\n",
       "\n",
       "    .dataframe tbody tr th {\n",
       "        vertical-align: top;\n",
       "    }\n",
       "\n",
       "    .dataframe thead th {\n",
       "        text-align: right;\n",
       "    }\n",
       "</style>\n",
       "<table border=\"1\" class=\"dataframe\">\n",
       "  <thead>\n",
       "    <tr style=\"text-align: right;\">\n",
       "      <th></th>\n",
       "      <th>Age</th>\n",
       "      <th>Age.Group</th>\n",
       "      <th>Gender</th>\n",
       "      <th>Locality</th>\n",
       "      <th>Marital status</th>\n",
       "      <th>Life.Style</th>\n",
       "      <th>Sleep</th>\n",
       "      <th>Category</th>\n",
       "      <th>Depression</th>\n",
       "      <th>Hyperlipi</th>\n",
       "      <th>...</th>\n",
       "      <th>oldpeak</th>\n",
       "      <th>slope</th>\n",
       "      <th>ca</th>\n",
       "      <th>thal</th>\n",
       "      <th>num</th>\n",
       "      <th>SK</th>\n",
       "      <th>SK.React</th>\n",
       "      <th>Reaction</th>\n",
       "      <th>Mortality</th>\n",
       "      <th>Follow.Up</th>\n",
       "    </tr>\n",
       "  </thead>\n",
       "  <tbody>\n",
       "    <tr>\n",
       "      <th>0</th>\n",
       "      <td>45</td>\n",
       "      <td>41-50</td>\n",
       "      <td>Female</td>\n",
       "      <td>RURAL</td>\n",
       "      <td>MARRIED</td>\n",
       "      <td>NO</td>\n",
       "      <td>NO</td>\n",
       "      <td>FREE</td>\n",
       "      <td>YES</td>\n",
       "      <td>YES</td>\n",
       "      <td>...</td>\n",
       "      <td>3.0</td>\n",
       "      <td>2</td>\n",
       "      <td>0</td>\n",
       "      <td>7</td>\n",
       "      <td>2</td>\n",
       "      <td>1</td>\n",
       "      <td>NO</td>\n",
       "      <td>0</td>\n",
       "      <td>0</td>\n",
       "      <td>60</td>\n",
       "    </tr>\n",
       "    <tr>\n",
       "      <th>1</th>\n",
       "      <td>51</td>\n",
       "      <td>51-60</td>\n",
       "      <td>Female</td>\n",
       "      <td>URBAN</td>\n",
       "      <td>MARRIED</td>\n",
       "      <td>NO</td>\n",
       "      <td>NO</td>\n",
       "      <td>FREE</td>\n",
       "      <td>YES</td>\n",
       "      <td>YES</td>\n",
       "      <td>...</td>\n",
       "      <td>1.2</td>\n",
       "      <td>2</td>\n",
       "      <td>0</td>\n",
       "      <td>7</td>\n",
       "      <td>2</td>\n",
       "      <td>1</td>\n",
       "      <td>NO</td>\n",
       "      <td>0</td>\n",
       "      <td>0</td>\n",
       "      <td>15</td>\n",
       "    </tr>\n",
       "    <tr>\n",
       "      <th>2</th>\n",
       "      <td>55</td>\n",
       "      <td>51-60</td>\n",
       "      <td>Female</td>\n",
       "      <td>RURAL</td>\n",
       "      <td>MARRIED</td>\n",
       "      <td>YES</td>\n",
       "      <td>YES</td>\n",
       "      <td>FREE</td>\n",
       "      <td>YES</td>\n",
       "      <td>YES</td>\n",
       "      <td>...</td>\n",
       "      <td>3.4</td>\n",
       "      <td>2</td>\n",
       "      <td>0</td>\n",
       "      <td>3</td>\n",
       "      <td>2</td>\n",
       "      <td>1</td>\n",
       "      <td>NO</td>\n",
       "      <td>0</td>\n",
       "      <td>0</td>\n",
       "      <td>6</td>\n",
       "    </tr>\n",
       "    <tr>\n",
       "      <th>3</th>\n",
       "      <td>55</td>\n",
       "      <td>51-60</td>\n",
       "      <td>Female</td>\n",
       "      <td>RURAL</td>\n",
       "      <td>MARRIED</td>\n",
       "      <td>YES</td>\n",
       "      <td>YES</td>\n",
       "      <td>FREE</td>\n",
       "      <td>YES</td>\n",
       "      <td>YES</td>\n",
       "      <td>...</td>\n",
       "      <td>2.0</td>\n",
       "      <td>2</td>\n",
       "      <td>1</td>\n",
       "      <td>7</td>\n",
       "      <td>3</td>\n",
       "      <td>1</td>\n",
       "      <td>NO</td>\n",
       "      <td>0</td>\n",
       "      <td>0</td>\n",
       "      <td>52</td>\n",
       "    </tr>\n",
       "    <tr>\n",
       "      <th>4</th>\n",
       "      <td>56</td>\n",
       "      <td>51-60</td>\n",
       "      <td>Female</td>\n",
       "      <td>RURAL</td>\n",
       "      <td>MARRIED</td>\n",
       "      <td>YES</td>\n",
       "      <td>NO</td>\n",
       "      <td>FREE</td>\n",
       "      <td>YES</td>\n",
       "      <td>YES</td>\n",
       "      <td>...</td>\n",
       "      <td>4.0</td>\n",
       "      <td>3</td>\n",
       "      <td>2</td>\n",
       "      <td>7</td>\n",
       "      <td>3</td>\n",
       "      <td>1</td>\n",
       "      <td>NO</td>\n",
       "      <td>0</td>\n",
       "      <td>0</td>\n",
       "      <td>34</td>\n",
       "    </tr>\n",
       "  </tbody>\n",
       "</table>\n",
       "<p>5 rows × 60 columns</p>\n",
       "</div>"
      ],
      "text/plain": [
       "   Age Age.Group  Gender Locality   Marital status                         \\\n",
       "0   45     41-50  Female      RURAL                               MARRIED   \n",
       "1   51     51-60  Female      URBAN                               MARRIED   \n",
       "2   55     51-60  Female      RURAL                               MARRIED   \n",
       "3   55     51-60  Female      RURAL                               MARRIED   \n",
       "4   56     51-60  Female      RURAL                               MARRIED   \n",
       "\n",
       "  Life.Style                                                                                \\\n",
       "0                                                 NO                                         \n",
       "1                                                 NO                                         \n",
       "2                                                YES                                         \n",
       "3                                                YES                                         \n",
       "4                                                YES                                         \n",
       "\n",
       "  Sleep Category Depression Hyperlipi  ... oldpeak slope  ca  thal num SK  \\\n",
       "0    NO     FREE        YES       YES  ...     3.0     2   0     7   2  1   \n",
       "1    NO     FREE        YES       YES  ...     1.2     2   0     7   2  1   \n",
       "2   YES     FREE        YES       YES  ...     3.4     2   0     3   2  1   \n",
       "3   YES     FREE        YES       YES  ...     2.0     2   1     7   3  1   \n",
       "4    NO     FREE        YES       YES  ...     4.0     3   2     7   3  1   \n",
       "\n",
       "   SK.React  Reaction  Mortality  Follow.Up  \n",
       "0        NO         0          0         60  \n",
       "1        NO         0          0         15  \n",
       "2        NO         0          0          6  \n",
       "3        NO         0          0         52  \n",
       "4        NO         0          0         34  \n",
       "\n",
       "[5 rows x 60 columns]"
      ]
     },
     "execution_count": 4,
     "metadata": {},
     "output_type": "execute_result"
    }
   ],
   "source": [
    "df = pd.read_csv(\"/Users/rish/Desktop/Mini-Projects/ML Projects/Data/heartdiseasedataset.csv\")\n",
    "df.head()"
   ]
  },
  {
   "cell_type": "markdown",
   "metadata": {},
   "source": [
    "# EDA"
   ]
  },
  {
   "cell_type": "code",
   "execution_count": 5,
   "metadata": {},
   "outputs": [
    {
     "data": {
      "text/plain": [
       "Index(['Age', 'Age.Group', 'Gender', 'Locality  ',\n",
       "       'Marital status                       ',\n",
       "       'Life.Style                                                                              ',\n",
       "       'Sleep', 'Category', 'Depression', 'Hyperlipi', 'Smoking',\n",
       "       'Family.History', 'F.History', 'Diabetes', 'HTN', 'Allergies', 'BP',\n",
       "       'Thrombolysis', 'BGR', 'B.Urea', 'S.Cr', 'S.Sodium', 'S.Potassium',\n",
       "       'S.Chloride', 'C.P.K', 'CK.MB', 'ESR', 'WBC', 'RBC', 'Hemoglobin',\n",
       "       'P.C.V', 'M.C.V', 'M.C.H', 'M.C.H.C', 'PLATELET_COUNT', 'NEUTROPHIL',\n",
       "       'LYMPHO', 'MONOCYTE', 'EOSINO', 'Others ', 'CO', 'Diagnosis',\n",
       "       'Hypersensitivity', 'cp', 'trestbps', 'chol', 'fbs', 'restecg',\n",
       "       'thalach', 'exang', 'oldpeak', 'slope', 'ca', 'thal', 'num', 'SK',\n",
       "       'SK.React', 'Reaction', 'Mortality', 'Follow.Up'],\n",
       "      dtype='object')"
      ]
     },
     "execution_count": 5,
     "metadata": {},
     "output_type": "execute_result"
    }
   ],
   "source": [
    "df.columns"
   ]
  },
  {
   "cell_type": "code",
   "execution_count": 8,
   "metadata": {},
   "outputs": [
    {
     "name": "stdout",
     "output_type": "stream",
     "text": [
      "<class 'pandas.core.series.Series'>\n",
      "RangeIndex: 368 entries, 0 to 367\n",
      "Series name: Category\n",
      "Non-Null Count  Dtype \n",
      "--------------  ----- \n",
      "368 non-null    object\n",
      "dtypes: object(1)\n",
      "memory usage: 3.0+ KB\n"
     ]
    }
   ],
   "source": [
    "df[\"Category\"].info()"
   ]
  },
  {
   "cell_type": "code",
   "execution_count": 22,
   "metadata": {},
   "outputs": [
    {
     "ename": "ValueError",
     "evalue": "The truth value of a Series is ambiguous. Use a.empty, a.bool(), a.item(), a.any() or a.all().",
     "output_type": "error",
     "traceback": [
      "\u001b[0;31m---------------------------------------------------------------------------\u001b[0m",
      "\u001b[0;31mValueError\u001b[0m                                Traceback (most recent call last)",
      "\u001b[1;32m/Users/rish/Desktop/Mini-Projects/ML Projects/something.ipynb Cell 6'\u001b[0m in \u001b[0;36m<cell line: 1>\u001b[0;34m()\u001b[0m\n\u001b[0;32m----> <a href='vscode-notebook-cell:/Users/rish/Desktop/Mini-Projects/ML%20Projects/something.ipynb#ch0000008?line=0'>1</a>\u001b[0m df[\u001b[39m\"\u001b[39m\u001b[39mCategory\u001b[39m\u001b[39m\"\u001b[39m] \u001b[39m==\u001b[39m \u001b[39m\"\u001b[39m\u001b[39mPAID\u001b[39m\u001b[39m\"\u001b[39m \u001b[39m==\u001b[39m \u001b[39mTrue\u001b[39;00m\n",
      "File \u001b[0;32m~/opt/anaconda3/lib/python3.9/site-packages/pandas/core/generic.py:1527\u001b[0m, in \u001b[0;36mNDFrame.__nonzero__\u001b[0;34m(self)\u001b[0m\n\u001b[1;32m   1525\u001b[0m \u001b[39m@final\u001b[39m\n\u001b[1;32m   1526\u001b[0m \u001b[39mdef\u001b[39;00m \u001b[39m__nonzero__\u001b[39m(\u001b[39mself\u001b[39m):\n\u001b[0;32m-> 1527\u001b[0m     \u001b[39mraise\u001b[39;00m \u001b[39mValueError\u001b[39;00m(\n\u001b[1;32m   1528\u001b[0m         \u001b[39mf\u001b[39m\u001b[39m\"\u001b[39m\u001b[39mThe truth value of a \u001b[39m\u001b[39m{\u001b[39;00m\u001b[39mtype\u001b[39m(\u001b[39mself\u001b[39m)\u001b[39m.\u001b[39m\u001b[39m__name__\u001b[39m\u001b[39m}\u001b[39;00m\u001b[39m is ambiguous. \u001b[39m\u001b[39m\"\u001b[39m\n\u001b[1;32m   1529\u001b[0m         \u001b[39m\"\u001b[39m\u001b[39mUse a.empty, a.bool(), a.item(), a.any() or a.all().\u001b[39m\u001b[39m\"\u001b[39m\n\u001b[1;32m   1530\u001b[0m     )\n",
      "\u001b[0;31mValueError\u001b[0m: The truth value of a Series is ambiguous. Use a.empty, a.bool(), a.item(), a.any() or a.all()."
     ]
    }
   ],
   "source": [
    "df[\"Category\"] == \"PAID\" "
   ]
  },
  {
   "cell_type": "code",
   "execution_count": 20,
   "metadata": {},
   "outputs": [
    {
     "data": {
      "text/plain": [
       "<BarContainer object of 368 artists>"
      ]
     },
     "execution_count": 20,
     "metadata": {},
     "output_type": "execute_result"
    },
    {
     "data": {
      "image/png": "[encoded data removed]",
      "text/plain": [
       "<Figure size 432x288 with 1 Axes>"
      ]
     },
     "metadata": {
      "needs_background": "light"
     },
     "output_type": "display_data"
    }
   ],
   "source": [
    "plt.bar(df[\"Category\"], height = 500)"
   ]
  },
  {
   "cell_type": "code",
   "execution_count": 23,
   "metadata": {},
   "outputs": [],
   "source": [
    "# Function for finding the range of certain columns\n",
    "def range(column):\n",
    "    range = column.max() - column.min()"
   ]
  }
 ],
 "metadata": {
  "kernelspec": {
   "display_name": "Python 3.9.12 ('base')",
   "language": "python",
   "name": "python3"
  },
  "language_info": {
   "codemirror_mode": {
    "name": "ipython",
    "version": 3
   },
   "file_extension": ".py",
   "mimetype": "text/x-python",
   "name": "python",
   "nbconvert_exporter": "python",
   "pygments_lexer": "ipython3",
   "version": "3.9.12"
  },
  "orig_nbformat": 4,
  "vscode": {
   "interpreter": {
    "hash": "31b54185ef9236271117b65ccd40447ed8c429f8dbf9fa6a895ee5e4cb482fd5"
   }
  }
 },
 "nbformat": 4,
 "nbformat_minor": 2
}
