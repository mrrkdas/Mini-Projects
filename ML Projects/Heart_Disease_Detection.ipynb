{
 "cells": [
  {
   "cell_type": "code",
   "execution_count": 1,
   "metadata": {},
   "outputs": [],
   "source": [
    "import pandas as pd\n",
    "import numpy as np\n",
    "import scipy\n",
    "import matplotlib.pyplot as plt"
   ]
  },
  {
   "cell_type": "code",
   "execution_count": 2,
   "metadata": {},
   "outputs": [
    {
     "data": {
      "text/html": [
       "<div>\n",
       "<style scoped>\n",
       "    .dataframe tbody tr th:only-of-type {\n",
       "        vertical-align: middle;\n",
       "    }\n",
       "\n",
       "    .dataframe tbody tr th {\n",
       "        vertical-align: top;\n",
       "    }\n",
       "\n",
       "    .dataframe thead th {\n",
       "        text-align: right;\n",
       "    }\n",
       "</style>\n",
       "<table border=\"1\" class=\"dataframe\">\n",
       "  <thead>\n",
       "    <tr style=\"text-align: right;\">\n",
       "      <th></th>\n",
       "      <th>Age</th>\n",
       "      <th>Age.Group</th>\n",
       "      <th>Gender</th>\n",
       "      <th>Locality</th>\n",
       "      <th>Marital status</th>\n",
       "      <th>Life.Style</th>\n",
       "      <th>Sleep</th>\n",
       "      <th>Category</th>\n",
       "      <th>Depression</th>\n",
       "      <th>Hyperlipi</th>\n",
       "      <th>...</th>\n",
       "      <th>oldpeak</th>\n",
       "      <th>slope</th>\n",
       "      <th>ca</th>\n",
       "      <th>thal</th>\n",
       "      <th>num</th>\n",
       "      <th>SK</th>\n",
       "      <th>SK.React</th>\n",
       "      <th>Reaction</th>\n",
       "      <th>Mortality</th>\n",
       "      <th>Follow.Up</th>\n",
       "    </tr>\n",
       "  </thead>\n",
       "  <tbody>\n",
       "    <tr>\n",
       "      <th>0</th>\n",
       "      <td>45</td>\n",
       "      <td>41-50</td>\n",
       "      <td>Female</td>\n",
       "      <td>RURAL</td>\n",
       "      <td>MARRIED</td>\n",
       "      <td>NO</td>\n",
       "      <td>NO</td>\n",
       "      <td>FREE</td>\n",
       "      <td>YES</td>\n",
       "      <td>YES</td>\n",
       "      <td>...</td>\n",
       "      <td>3.0</td>\n",
       "      <td>2</td>\n",
       "      <td>0</td>\n",
       "      <td>7</td>\n",
       "      <td>2</td>\n",
       "      <td>1</td>\n",
       "      <td>NO</td>\n",
       "      <td>0</td>\n",
       "      <td>0</td>\n",
       "      <td>60</td>\n",
       "    </tr>\n",
       "    <tr>\n",
       "      <th>1</th>\n",
       "      <td>51</td>\n",
       "      <td>51-60</td>\n",
       "      <td>Female</td>\n",
       "      <td>URBAN</td>\n",
       "      <td>MARRIED</td>\n",
       "      <td>NO</td>\n",
       "      <td>NO</td>\n",
       "      <td>FREE</td>\n",
       "      <td>YES</td>\n",
       "      <td>YES</td>\n",
       "      <td>...</td>\n",
       "      <td>1.2</td>\n",
       "      <td>2</td>\n",
       "      <td>0</td>\n",
       "      <td>7</td>\n",
       "      <td>2</td>\n",
       "      <td>1</td>\n",
       "      <td>NO</td>\n",
       "      <td>0</td>\n",
       "      <td>0</td>\n",
       "      <td>15</td>\n",
       "    </tr>\n",
       "    <tr>\n",
       "      <th>2</th>\n",
       "      <td>55</td>\n",
       "      <td>51-60</td>\n",
       "      <td>Female</td>\n",
       "      <td>RURAL</td>\n",
       "      <td>MARRIED</td>\n",
       "      <td>YES</td>\n",
       "      <td>YES</td>\n",
       "      <td>FREE</td>\n",
       "      <td>YES</td>\n",
       "      <td>YES</td>\n",
       "      <td>...</td>\n",
       "      <td>3.4</td>\n",
       "      <td>2</td>\n",
       "      <td>0</td>\n",
       "      <td>3</td>\n",
       "      <td>2</td>\n",
       "      <td>1</td>\n",
       "      <td>NO</td>\n",
       "      <td>0</td>\n",
       "      <td>0</td>\n",
       "      <td>6</td>\n",
       "    </tr>\n",
       "    <tr>\n",
       "      <th>3</th>\n",
       "      <td>55</td>\n",
       "      <td>51-60</td>\n",
       "      <td>Female</td>\n",
       "      <td>RURAL</td>\n",
       "      <td>MARRIED</td>\n",
       "      <td>YES</td>\n",
       "      <td>YES</td>\n",
       "      <td>FREE</td>\n",
       "      <td>YES</td>\n",
       "      <td>YES</td>\n",
       "      <td>...</td>\n",
       "      <td>2.0</td>\n",
       "      <td>2</td>\n",
       "      <td>1</td>\n",
       "      <td>7</td>\n",
       "      <td>3</td>\n",
       "      <td>1</td>\n",
       "      <td>NO</td>\n",
       "      <td>0</td>\n",
       "      <td>0</td>\n",
       "      <td>52</td>\n",
       "    </tr>\n",
       "    <tr>\n",
       "      <th>4</th>\n",
       "      <td>56</td>\n",
       "      <td>51-60</td>\n",
       "      <td>Female</td>\n",
       "      <td>RURAL</td>\n",
       "      <td>MARRIED</td>\n",
       "      <td>YES</td>\n",
       "      <td>NO</td>\n",
       "      <td>FREE</td>\n",
       "      <td>YES</td>\n",
       "      <td>YES</td>\n",
       "      <td>...</td>\n",
       "      <td>4.0</td>\n",
       "      <td>3</td>\n",
       "      <td>2</td>\n",
       "      <td>7</td>\n",
       "      <td>3</td>\n",
       "      <td>1</td>\n",
       "      <td>NO</td>\n",
       "      <td>0</td>\n",
       "      <td>0</td>\n",
       "      <td>34</td>\n",
       "    </tr>\n",
       "  </tbody>\n",
       "</table>\n",
       "<p>5 rows × 60 columns</p>\n",
       "</div>"
      ],
      "text/plain": [
       "   Age Age.Group  Gender Locality   Marital status                         \\\n",
       "0   45     41-50  Female      RURAL                               MARRIED   \n",
       "1   51     51-60  Female      URBAN                               MARRIED   \n",
       "2   55     51-60  Female      RURAL                               MARRIED   \n",
       "3   55     51-60  Female      RURAL                               MARRIED   \n",
       "4   56     51-60  Female      RURAL                               MARRIED   \n",
       "\n",
       "  Life.Style                                                                                \\\n",
       "0                                                 NO                                         \n",
       "1                                                 NO                                         \n",
       "2                                                YES                                         \n",
       "3                                                YES                                         \n",
       "4                                                YES                                         \n",
       "\n",
       "  Sleep Category Depression Hyperlipi  ... oldpeak slope  ca  thal num SK  \\\n",
       "0    NO     FREE        YES       YES  ...     3.0     2   0     7   2  1   \n",
       "1    NO     FREE        YES       YES  ...     1.2     2   0     7   2  1   \n",
       "2   YES     FREE        YES       YES  ...     3.4     2   0     3   2  1   \n",
       "3   YES     FREE        YES       YES  ...     2.0     2   1     7   3  1   \n",
       "4    NO     FREE        YES       YES  ...     4.0     3   2     7   3  1   \n",
       "\n",
       "   SK.React  Reaction  Mortality  Follow.Up  \n",
       "0        NO         0          0         60  \n",
       "1        NO         0          0         15  \n",
       "2        NO         0          0          6  \n",
       "3        NO         0          0         52  \n",
       "4        NO         0          0         34  \n",
       "\n",
       "[5 rows x 60 columns]"
      ]
     },
     "execution_count": 2,
     "metadata": {},
     "output_type": "execute_result"
    }
   ],
   "source": [
    "df = pd.read_csv(\"/Users/rish/Desktop/Mini-Projects/ML Projects/Data/heartdiseasedataset.csv\")\n",
    "df.head()"
   ]
  },
  {
   "cell_type": "markdown",
   "metadata": {},
   "source": [
    "# EDA"
   ]
  },
  {
   "cell_type": "code",
   "execution_count": 3,
   "metadata": {},
   "outputs": [],
   "source": [
    "# Function for finding the range of certain columns\n",
    "def range(column):\n",
    "    range = column.max() - column.min()"
   ]
  },
  {
   "cell_type": "code",
   "execution_count": 4,
   "metadata": {},
   "outputs": [
    {
     "data": {
      "text/plain": [
       "Index(['Age', 'Age.Group', 'Gender', 'Locality  ',\n",
       "       'Marital status                       ',\n",
       "       'Life.Style                                                                              ',\n",
       "       'Sleep', 'Category', 'Depression', 'Hyperlipi', 'Smoking',\n",
       "       'Family.History', 'F.History', 'Diabetes', 'HTN', 'Allergies', 'BP',\n",
       "       'Thrombolysis', 'BGR', 'B.Urea', 'S.Cr', 'S.Sodium', 'S.Potassium',\n",
       "       'S.Chloride', 'C.P.K', 'CK.MB', 'ESR', 'WBC', 'RBC', 'Hemoglobin',\n",
       "       'P.C.V', 'M.C.V', 'M.C.H', 'M.C.H.C', 'PLATELET_COUNT', 'NEUTROPHIL',\n",
       "       'LYMPHO', 'MONOCYTE', 'EOSINO', 'Others ', 'CO', 'Diagnosis',\n",
       "       'Hypersensitivity', 'cp', 'trestbps', 'chol', 'fbs', 'restecg',\n",
       "       'thalach', 'exang', 'oldpeak', 'slope', 'ca', 'thal', 'num', 'SK',\n",
       "       'SK.React', 'Reaction', 'Mortality', 'Follow.Up'],\n",
       "      dtype='object')"
      ]
     },
     "execution_count": 4,
     "metadata": {},
     "output_type": "execute_result"
    }
   ],
   "source": [
    "df.columns"
   ]
  },
  {
   "cell_type": "code",
   "execution_count": 5,
   "metadata": {},
   "outputs": [
    {
     "name": "stdout",
     "output_type": "stream",
     "text": [
      "<class 'pandas.core.series.Series'>\n",
      "RangeIndex: 368 entries, 0 to 367\n",
      "Series name: Category\n",
      "Non-Null Count  Dtype \n",
      "--------------  ----- \n",
      "368 non-null    object\n",
      "dtypes: object(1)\n",
      "memory usage: 3.0+ KB\n"
     ]
    }
   ],
   "source": [
    "df[\"Category\"].info()"
   ]
  },
  {
   "cell_type": "code",
   "execution_count": 6,
   "metadata": {},
   "outputs": [
    {
     "data": {
      "text/plain": [
       "37"
      ]
     },
     "execution_count": 6,
     "metadata": {},
     "output_type": "execute_result"
    }
   ],
   "source": [
    "(df[\"Category\"].values == \"PAID\").sum()"
   ]
  },
  {
   "cell_type": "code",
   "execution_count": 7,
   "metadata": {},
   "outputs": [
    {
     "data": {
      "image/png": "[encoded data removed]",
      "text/plain": [
       "<Figure size 432x288 with 1 Axes>"
      ]
     },
     "metadata": {
      "needs_background": "light"
     },
     "output_type": "display_data"
    }
   ],
   "source": [
    "plt.hist(df[\"oldpeak\"].values)\n",
    "plt.show() # We see that the values are "
   ]
  },
  {
   "cell_type": "code",
   "execution_count": 8,
   "metadata": {},
   "outputs": [
    {
     "data": {
      "text/plain": [
       "1.0195527981602122"
      ]
     },
     "execution_count": 8,
     "metadata": {},
     "output_type": "execute_result"
    }
   ],
   "source": [
    "df[\"oldpeak\"].skew()"
   ]
  },
  {
   "cell_type": "code",
   "execution_count": 9,
   "metadata": {},
   "outputs": [],
   "source": [
    "import scipy.stats as ss"
   ]
  },
  {
   "cell_type": "code",
   "execution_count": 10,
   "metadata": {},
   "outputs": [
    {
     "data": {
      "text/plain": [
       "ShapiroResult(statistic=0.9006395936012268, pvalue=8.871375856145391e-15)"
      ]
     },
     "execution_count": 10,
     "metadata": {},
     "output_type": "execute_result"
    }
   ],
   "source": [
    "ss.shapiro(df[\"oldpeak\"]) # Nowhere near a normal ditribution as we can see from the p-value and the histogram"
   ]
  },
  {
   "cell_type": "markdown",
   "metadata": {},
   "source": [
    "I am going to try and unskew the df[\"oldpeak\"] column\n",
    "\n",
    "We have the equation from this medium article https://medium.com/@TheDataGyan/day-8-data-transformation-skewness-normalization-and-much-more-4c144d370e55\n",
    "\n",
    "        z = x - min(x) / max(x) - min(x)\n",
    "\n",
    "This is called Min-Max Normalization\n",
    "\n",
    "I am going to make my own function and then use sklearn's function"
   ]
  },
  {
   "cell_type": "code",
   "execution_count": 36,
   "metadata": {},
   "outputs": [],
   "source": [
    "def MinMaxNormalization(x):\n",
    "    \"\"\" Uses the equation \n",
    "    z = x - min(x) / max(x) - min(x) \n",
    "    and normalizes the data \"\"\"\n",
    "\n",
    "    z = ((x - x.min()) / (x.max() - x.min()))\n",
    "\n",
    "    return z"
   ]
  },
  {
   "cell_type": "code",
   "execution_count": 30,
   "metadata": {},
   "outputs": [],
   "source": [
    "x = df[\"oldpeak\"].values"
   ]
  },
  {
   "cell_type": "code",
   "execution_count": 31,
   "metadata": {},
   "outputs": [
    {
     "data": {
      "text/plain": [
       "array([3. , 1.2, 3.4, 2. , 4. , 1.9, 0.2, 0. , 0. , 2.8, 0. , 2.6, 0. ,\n",
       "       0. , 1. , 3.6, 6.2, 1.2, 1.9, 1.4, 4. , 1.8, 0. , 1. , 1. , 1.6,\n",
       "       0. , 3.8, 1.2, 2. , 0. , 0. , 1.8, 2.5, 0.1, 0. , 0. , 2.8, 0. ,\n",
       "       1.2, 3.6, 0.8, 1.8, 0. , 1. , 1. , 0. , 0.5, 2. , 0.8, 2.6, 0.6,\n",
       "       0.9, 1.6, 4.2, 0. , 0. , 1. , 1. , 3.1, 2. , 2.2, 1.4, 2.8, 0. ,\n",
       "       0. , 3.2, 1.2, 5.6, 0.8, 0.6, 1.2, 2.1, 1.6, 0.6, 0.4, 1. , 1.2,\n",
       "       0.3, 0. , 3. , 1.2, 1.8, 3.2, 2.5, 2.2, 0.8, 0. , 3. , 0.1, 2. ,\n",
       "       4.4, 3.4, 1.2, 0. , 0.2, 0. , 2.2, 0.8, 1. , 2.4, 1.4, 1.4, 2.8,\n",
       "       3. , 2.8, 1.2, 3.6, 2.6, 3.6, 1.9, 0. , 1.8, 1.4, 1.4, 1.8, 4. ,\n",
       "       0. , 1.8, 2.2, 2. , 0.6, 2.8, 1.4, 0. , 0.1, 1.5, 2.6, 0.2, 0.9,\n",
       "       1. , 0.8, 1.6, 3.4, 2. , 2.6, 2.4, 2.9, 0. , 1.6, 0. , 3.8, 1.2,\n",
       "       2. , 0. , 0. , 1.8, 2.5, 0.1, 0. , 0. , 2.8, 0. , 1.2, 0.9, 1.6,\n",
       "       4.2, 0. , 0. , 1. , 1. , 3.1, 2. , 2.2, 1.4, 2.8, 0. , 0. , 3.2,\n",
       "       1.2, 5.6, 0.8, 0.6, 1.2, 2.1, 2.6, 0. , 0. , 1. , 3.6, 6.2, 1.2,\n",
       "       1.9, 1.4, 4. , 1.8, 0. , 1. , 1. , 1.6, 0. , 3.8, 1.2, 2. , 0. ,\n",
       "       0. , 1.8, 2.5, 0.1, 0. , 0. , 2.8, 0. , 1.2, 3.6, 0.8, 1.8, 0. ,\n",
       "       1. , 1. , 0. , 0.5, 2. , 0.8, 2.6, 0.6, 1.2, 0.9, 1.6, 4.2, 0. ,\n",
       "       0. , 1. , 1. , 3.1, 2. , 2.2, 1.4, 2.8, 0. , 0. , 3.2, 1.2, 5.6,\n",
       "       0.8, 0.6, 1.2, 2.1, 2.6, 0. , 0. , 1. , 3.6, 6.2, 1.2, 1.9, 1.4,\n",
       "       4. , 1.8, 0. , 1. , 1. , 1.6, 0. , 3.8, 1.2, 2. , 0. , 0. , 1.8,\n",
       "       2.5, 0.1, 0. , 0. , 2.8, 0. , 1.2, 3.6, 1.2, 0.9, 1.6, 4.2, 0. ,\n",
       "       0. , 1. , 1. , 3.1, 2. , 2.2, 1.4, 2.8, 0. , 0. , 3.2, 1.2, 5.6,\n",
       "       0.8, 0.6, 1.2, 2.1, 2.6, 0. , 0. , 1. , 3.6, 6.2, 1.2, 1.9, 1.4,\n",
       "       4. , 1.8, 0. , 1. , 1. , 1.6, 1.2, 0.9, 1.6, 4.2, 0. , 0. , 1. ,\n",
       "       1. , 3.1, 2. , 2.2, 1.4, 2.8, 0. , 0. , 3.2, 1.2, 5.6, 0.8, 0.6,\n",
       "       1.2, 2.1, 2.6, 0. , 0. , 1. , 3.6, 6.2, 1.2, 1.9, 1.4, 4. , 1.8,\n",
       "       0. , 1. , 1. , 1.6, 0. , 3.8, 1.2, 2. , 0. , 0. , 1.8, 2.5, 0.1,\n",
       "       0. , 0. , 2.8, 0. , 1.2, 3.6, 0.8, 1.8, 0. , 1. , 1. , 0. , 0.5,\n",
       "       2. , 0.8, 2.6, 0.6])"
      ]
     },
     "execution_count": 31,
     "metadata": {},
     "output_type": "execute_result"
    }
   ],
   "source": [
    "x"
   ]
  },
  {
   "cell_type": "code",
   "execution_count": 37,
   "metadata": {},
   "outputs": [],
   "source": [
    "z = MinMaxNormalization(x)"
   ]
  },
  {
   "cell_type": "code",
   "execution_count": 38,
   "metadata": {},
   "outputs": [
    {
     "data": {
      "image/png": "[encoded data removed]",
      "text/plain": [
       "<Figure size 432x288 with 1 Axes>"
      ]
     },
     "metadata": {
      "needs_background": "light"
     },
     "output_type": "display_data"
    }
   ],
   "source": [
    "plt.hist(z)\n",
    "plt.show() "
   ]
  },
  {
   "cell_type": "markdown",
   "metadata": {},
   "source": [
    "The equation worked and now I will use the sklean minmaxscaler function"
   ]
  },
  {
   "cell_type": "code",
   "execution_count": 39,
   "metadata": {},
   "outputs": [],
   "source": [
    "from sklearn.preprocessing import MinMaxScaler"
   ]
  },
  {
   "cell_type": "code",
   "execution_count": 40,
   "metadata": {},
   "outputs": [],
   "source": [
    "x = df[\"oldpeak\"].values"
   ]
  },
  {
   "cell_type": "code",
   "execution_count": 41,
   "metadata": {},
   "outputs": [
    {
     "ename": "ValueError",
     "evalue": "Expected 2D array, got 1D array instead:\narray=[3.  1.2 3.4 2.  4.  1.9 0.2 0.  0.  2.8 0.  2.6 0.  0.  1.  3.6 6.2 1.2\n 1.9 1.4 4.  1.8 0.  1.  1.  1.6 0.  3.8 1.2 2.  0.  0.  1.8 2.5 0.1 0.\n 0.  2.8 0.  1.2 3.6 0.8 1.8 0.  1.  1.  0.  0.5 2.  0.8 2.6 0.6 0.9 1.6\n 4.2 0.  0.  1.  1.  3.1 2.  2.2 1.4 2.8 0.  0.  3.2 1.2 5.6 0.8 0.6 1.2\n 2.1 1.6 0.6 0.4 1.  1.2 0.3 0.  3.  1.2 1.8 3.2 2.5 2.2 0.8 0.  3.  0.1\n 2.  4.4 3.4 1.2 0.  0.2 0.  2.2 0.8 1.  2.4 1.4 1.4 2.8 3.  2.8 1.2 3.6\n 2.6 3.6 1.9 0.  1.8 1.4 1.4 1.8 4.  0.  1.8 2.2 2.  0.6 2.8 1.4 0.  0.1\n 1.5 2.6 0.2 0.9 1.  0.8 1.6 3.4 2.  2.6 2.4 2.9 0.  1.6 0.  3.8 1.2 2.\n 0.  0.  1.8 2.5 0.1 0.  0.  2.8 0.  1.2 0.9 1.6 4.2 0.  0.  1.  1.  3.1\n 2.  2.2 1.4 2.8 0.  0.  3.2 1.2 5.6 0.8 0.6 1.2 2.1 2.6 0.  0.  1.  3.6\n 6.2 1.2 1.9 1.4 4.  1.8 0.  1.  1.  1.6 0.  3.8 1.2 2.  0.  0.  1.8 2.5\n 0.1 0.  0.  2.8 0.  1.2 3.6 0.8 1.8 0.  1.  1.  0.  0.5 2.  0.8 2.6 0.6\n 1.2 0.9 1.6 4.2 0.  0.  1.  1.  3.1 2.  2.2 1.4 2.8 0.  0.  3.2 1.2 5.6\n 0.8 0.6 1.2 2.1 2.6 0.  0.  1.  3.6 6.2 1.2 1.9 1.4 4.  1.8 0.  1.  1.\n 1.6 0.  3.8 1.2 2.  0.  0.  1.8 2.5 0.1 0.  0.  2.8 0.  1.2 3.6 1.2 0.9\n 1.6 4.2 0.  0.  1.  1.  3.1 2.  2.2 1.4 2.8 0.  0.  3.2 1.2 5.6 0.8 0.6\n 1.2 2.1 2.6 0.  0.  1.  3.6 6.2 1.2 1.9 1.4 4.  1.8 0.  1.  1.  1.6 1.2\n 0.9 1.6 4.2 0.  0.  1.  1.  3.1 2.  2.2 1.4 2.8 0.  0.  3.2 1.2 5.6 0.8\n 0.6 1.2 2.1 2.6 0.  0.  1.  3.6 6.2 1.2 1.9 1.4 4.  1.8 0.  1.  1.  1.6\n 0.  3.8 1.2 2.  0.  0.  1.8 2.5 0.1 0.  0.  2.8 0.  1.2 3.6 0.8 1.8 0.\n 1.  1.  0.  0.5 2.  0.8 2.6 0.6].\nReshape your data either using array.reshape(-1, 1) if your data has a single feature or array.reshape(1, -1) if it contains a single sample.",
     "output_type": "error",
     "traceback": [
      "\u001b[0;31m---------------------------------------------------------------------------\u001b[0m",
      "\u001b[0;31mValueError\u001b[0m                                Traceback (most recent call last)",
      "\u001b[1;32m/Users/rish/Desktop/Mini-Projects/ML Projects/Heart_Disease_Detection.ipynb Cell 21'\u001b[0m in \u001b[0;36m<cell line: 3>\u001b[0;34m()\u001b[0m\n\u001b[1;32m      <a href='vscode-notebook-cell:/Users/rish/Desktop/Mini-Projects/ML%20Projects/Heart_Disease_Detection.ipynb#ch0000023?line=0'>1</a>\u001b[0m mms \u001b[39m=\u001b[39m MinMaxScaler()\n\u001b[0;32m----> <a href='vscode-notebook-cell:/Users/rish/Desktop/Mini-Projects/ML%20Projects/Heart_Disease_Detection.ipynb#ch0000023?line=2'>3</a>\u001b[0m x \u001b[39m=\u001b[39m mms\u001b[39m.\u001b[39;49mfit_transform(x)\n",
      "File \u001b[0;32m~/opt/anaconda3/lib/python3.9/site-packages/sklearn/base.py:852\u001b[0m, in \u001b[0;36mTransformerMixin.fit_transform\u001b[0;34m(self, X, y, **fit_params)\u001b[0m\n\u001b[1;32m    848\u001b[0m \u001b[39m# non-optimized default implementation; override when a better\u001b[39;00m\n\u001b[1;32m    849\u001b[0m \u001b[39m# method is possible for a given clustering algorithm\u001b[39;00m\n\u001b[1;32m    850\u001b[0m \u001b[39mif\u001b[39;00m y \u001b[39mis\u001b[39;00m \u001b[39mNone\u001b[39;00m:\n\u001b[1;32m    851\u001b[0m     \u001b[39m# fit method of arity 1 (unsupervised transformation)\u001b[39;00m\n\u001b[0;32m--> 852\u001b[0m     \u001b[39mreturn\u001b[39;00m \u001b[39mself\u001b[39;49m\u001b[39m.\u001b[39;49mfit(X, \u001b[39m*\u001b[39;49m\u001b[39m*\u001b[39;49mfit_params)\u001b[39m.\u001b[39mtransform(X)\n\u001b[1;32m    853\u001b[0m \u001b[39melse\u001b[39;00m:\n\u001b[1;32m    854\u001b[0m     \u001b[39m# fit method of arity 2 (supervised transformation)\u001b[39;00m\n\u001b[1;32m    855\u001b[0m     \u001b[39mreturn\u001b[39;00m \u001b[39mself\u001b[39m\u001b[39m.\u001b[39mfit(X, y, \u001b[39m*\u001b[39m\u001b[39m*\u001b[39mfit_params)\u001b[39m.\u001b[39mtransform(X)\n",
      "File \u001b[0;32m~/opt/anaconda3/lib/python3.9/site-packages/sklearn/preprocessing/_data.py:416\u001b[0m, in \u001b[0;36mMinMaxScaler.fit\u001b[0;34m(self, X, y)\u001b[0m\n\u001b[1;32m    414\u001b[0m \u001b[39m# Reset internal state before fitting\u001b[39;00m\n\u001b[1;32m    415\u001b[0m \u001b[39mself\u001b[39m\u001b[39m.\u001b[39m_reset()\n\u001b[0;32m--> 416\u001b[0m \u001b[39mreturn\u001b[39;00m \u001b[39mself\u001b[39;49m\u001b[39m.\u001b[39;49mpartial_fit(X, y)\n",
      "File \u001b[0;32m~/opt/anaconda3/lib/python3.9/site-packages/sklearn/preprocessing/_data.py:453\u001b[0m, in \u001b[0;36mMinMaxScaler.partial_fit\u001b[0;34m(self, X, y)\u001b[0m\n\u001b[1;32m    447\u001b[0m     \u001b[39mraise\u001b[39;00m \u001b[39mTypeError\u001b[39;00m(\n\u001b[1;32m    448\u001b[0m         \u001b[39m\"\u001b[39m\u001b[39mMinMaxScaler does not support sparse input. \u001b[39m\u001b[39m\"\u001b[39m\n\u001b[1;32m    449\u001b[0m         \u001b[39m\"\u001b[39m\u001b[39mConsider using MaxAbsScaler instead.\u001b[39m\u001b[39m\"\u001b[39m\n\u001b[1;32m    450\u001b[0m     )\n\u001b[1;32m    452\u001b[0m first_pass \u001b[39m=\u001b[39m \u001b[39mnot\u001b[39;00m \u001b[39mhasattr\u001b[39m(\u001b[39mself\u001b[39m, \u001b[39m\"\u001b[39m\u001b[39mn_samples_seen_\u001b[39m\u001b[39m\"\u001b[39m)\n\u001b[0;32m--> 453\u001b[0m X \u001b[39m=\u001b[39m \u001b[39mself\u001b[39;49m\u001b[39m.\u001b[39;49m_validate_data(\n\u001b[1;32m    454\u001b[0m     X,\n\u001b[1;32m    455\u001b[0m     reset\u001b[39m=\u001b[39;49mfirst_pass,\n\u001b[1;32m    456\u001b[0m     estimator\u001b[39m=\u001b[39;49m\u001b[39mself\u001b[39;49m,\n\u001b[1;32m    457\u001b[0m     dtype\u001b[39m=\u001b[39;49mFLOAT_DTYPES,\n\u001b[1;32m    458\u001b[0m     force_all_finite\u001b[39m=\u001b[39;49m\u001b[39m\"\u001b[39;49m\u001b[39mallow-nan\u001b[39;49m\u001b[39m\"\u001b[39;49m,\n\u001b[1;32m    459\u001b[0m )\n\u001b[1;32m    461\u001b[0m data_min \u001b[39m=\u001b[39m np\u001b[39m.\u001b[39mnanmin(X, axis\u001b[39m=\u001b[39m\u001b[39m0\u001b[39m)\n\u001b[1;32m    462\u001b[0m data_max \u001b[39m=\u001b[39m np\u001b[39m.\u001b[39mnanmax(X, axis\u001b[39m=\u001b[39m\u001b[39m0\u001b[39m)\n",
      "File \u001b[0;32m~/opt/anaconda3/lib/python3.9/site-packages/sklearn/base.py:566\u001b[0m, in \u001b[0;36mBaseEstimator._validate_data\u001b[0;34m(self, X, y, reset, validate_separately, **check_params)\u001b[0m\n\u001b[1;32m    564\u001b[0m     \u001b[39mraise\u001b[39;00m \u001b[39mValueError\u001b[39;00m(\u001b[39m\"\u001b[39m\u001b[39mValidation should be done on X, y or both.\u001b[39m\u001b[39m\"\u001b[39m)\n\u001b[1;32m    565\u001b[0m \u001b[39melif\u001b[39;00m \u001b[39mnot\u001b[39;00m no_val_X \u001b[39mand\u001b[39;00m no_val_y:\n\u001b[0;32m--> 566\u001b[0m     X \u001b[39m=\u001b[39m check_array(X, \u001b[39m*\u001b[39;49m\u001b[39m*\u001b[39;49mcheck_params)\n\u001b[1;32m    567\u001b[0m     out \u001b[39m=\u001b[39m X\n\u001b[1;32m    568\u001b[0m \u001b[39melif\u001b[39;00m no_val_X \u001b[39mand\u001b[39;00m \u001b[39mnot\u001b[39;00m no_val_y:\n",
      "File \u001b[0;32m~/opt/anaconda3/lib/python3.9/site-packages/sklearn/utils/validation.py:769\u001b[0m, in \u001b[0;36mcheck_array\u001b[0;34m(array, accept_sparse, accept_large_sparse, dtype, order, copy, force_all_finite, ensure_2d, allow_nd, ensure_min_samples, ensure_min_features, estimator)\u001b[0m\n\u001b[1;32m    767\u001b[0m     \u001b[39m# If input is 1D raise error\u001b[39;00m\n\u001b[1;32m    768\u001b[0m     \u001b[39mif\u001b[39;00m array\u001b[39m.\u001b[39mndim \u001b[39m==\u001b[39m \u001b[39m1\u001b[39m:\n\u001b[0;32m--> 769\u001b[0m         \u001b[39mraise\u001b[39;00m \u001b[39mValueError\u001b[39;00m(\n\u001b[1;32m    770\u001b[0m             \u001b[39m\"\u001b[39m\u001b[39mExpected 2D array, got 1D array instead:\u001b[39m\u001b[39m\\n\u001b[39;00m\u001b[39marray=\u001b[39m\u001b[39m{}\u001b[39;00m\u001b[39m.\u001b[39m\u001b[39m\\n\u001b[39;00m\u001b[39m\"\u001b[39m\n\u001b[1;32m    771\u001b[0m             \u001b[39m\"\u001b[39m\u001b[39mReshape your data either using array.reshape(-1, 1) if \u001b[39m\u001b[39m\"\u001b[39m\n\u001b[1;32m    772\u001b[0m             \u001b[39m\"\u001b[39m\u001b[39myour data has a single feature or array.reshape(1, -1) \u001b[39m\u001b[39m\"\u001b[39m\n\u001b[1;32m    773\u001b[0m             \u001b[39m\"\u001b[39m\u001b[39mif it contains a single sample.\u001b[39m\u001b[39m\"\u001b[39m\u001b[39m.\u001b[39mformat(array)\n\u001b[1;32m    774\u001b[0m         )\n\u001b[1;32m    776\u001b[0m \u001b[39m# make sure we actually converted to numeric:\u001b[39;00m\n\u001b[1;32m    777\u001b[0m \u001b[39mif\u001b[39;00m dtype_numeric \u001b[39mand\u001b[39;00m array\u001b[39m.\u001b[39mdtype\u001b[39m.\u001b[39mkind \u001b[39min\u001b[39;00m \u001b[39m\"\u001b[39m\u001b[39mOUSV\u001b[39m\u001b[39m\"\u001b[39m:\n",
      "\u001b[0;31mValueError\u001b[0m: Expected 2D array, got 1D array instead:\narray=[3.  1.2 3.4 2.  4.  1.9 0.2 0.  0.  2.8 0.  2.6 0.  0.  1.  3.6 6.2 1.2\n 1.9 1.4 4.  1.8 0.  1.  1.  1.6 0.  3.8 1.2 2.  0.  0.  1.8 2.5 0.1 0.\n 0.  2.8 0.  1.2 3.6 0.8 1.8 0.  1.  1.  0.  0.5 2.  0.8 2.6 0.6 0.9 1.6\n 4.2 0.  0.  1.  1.  3.1 2.  2.2 1.4 2.8 0.  0.  3.2 1.2 5.6 0.8 0.6 1.2\n 2.1 1.6 0.6 0.4 1.  1.2 0.3 0.  3.  1.2 1.8 3.2 2.5 2.2 0.8 0.  3.  0.1\n 2.  4.4 3.4 1.2 0.  0.2 0.  2.2 0.8 1.  2.4 1.4 1.4 2.8 3.  2.8 1.2 3.6\n 2.6 3.6 1.9 0.  1.8 1.4 1.4 1.8 4.  0.  1.8 2.2 2.  0.6 2.8 1.4 0.  0.1\n 1.5 2.6 0.2 0.9 1.  0.8 1.6 3.4 2.  2.6 2.4 2.9 0.  1.6 0.  3.8 1.2 2.\n 0.  0.  1.8 2.5 0.1 0.  0.  2.8 0.  1.2 0.9 1.6 4.2 0.  0.  1.  1.  3.1\n 2.  2.2 1.4 2.8 0.  0.  3.2 1.2 5.6 0.8 0.6 1.2 2.1 2.6 0.  0.  1.  3.6\n 6.2 1.2 1.9 1.4 4.  1.8 0.  1.  1.  1.6 0.  3.8 1.2 2.  0.  0.  1.8 2.5\n 0.1 0.  0.  2.8 0.  1.2 3.6 0.8 1.8 0.  1.  1.  0.  0.5 2.  0.8 2.6 0.6\n 1.2 0.9 1.6 4.2 0.  0.  1.  1.  3.1 2.  2.2 1.4 2.8 0.  0.  3.2 1.2 5.6\n 0.8 0.6 1.2 2.1 2.6 0.  0.  1.  3.6 6.2 1.2 1.9 1.4 4.  1.8 0.  1.  1.\n 1.6 0.  3.8 1.2 2.  0.  0.  1.8 2.5 0.1 0.  0.  2.8 0.  1.2 3.6 1.2 0.9\n 1.6 4.2 0.  0.  1.  1.  3.1 2.  2.2 1.4 2.8 0.  0.  3.2 1.2 5.6 0.8 0.6\n 1.2 2.1 2.6 0.  0.  1.  3.6 6.2 1.2 1.9 1.4 4.  1.8 0.  1.  1.  1.6 1.2\n 0.9 1.6 4.2 0.  0.  1.  1.  3.1 2.  2.2 1.4 2.8 0.  0.  3.2 1.2 5.6 0.8\n 0.6 1.2 2.1 2.6 0.  0.  1.  3.6 6.2 1.2 1.9 1.4 4.  1.8 0.  1.  1.  1.6\n 0.  3.8 1.2 2.  0.  0.  1.8 2.5 0.1 0.  0.  2.8 0.  1.2 3.6 0.8 1.8 0.\n 1.  1.  0.  0.5 2.  0.8 2.6 0.6].\nReshape your data either using array.reshape(-1, 1) if your data has a single feature or array.reshape(1, -1) if it contains a single sample."
     ]
    }
   ],
   "source": [
    "mms = MinMaxScaler()\n",
    "\n",
    "x = mms.fit_transform(x)"
   ]
  },
  {
   "cell_type": "code",
   "execution_count": null,
   "metadata": {},
   "outputs": [],
   "source": []
  }
 ],
 "metadata": {
  "kernelspec": {
   "display_name": "Python 3.9.12 ('base')",
   "language": "python",
   "name": "python3"
  },
  "language_info": {
   "codemirror_mode": {
    "name": "ipython",
    "version": 3
   },
   "file_extension": ".py",
   "mimetype": "text/x-python",
   "name": "python",
   "nbconvert_exporter": "python",
   "pygments_lexer": "ipython3",
   "version": "3.9.12"
  },
  "orig_nbformat": 4,
  "vscode": {
   "interpreter": {
    "hash": "31b54185ef9236271117b65ccd40447ed8c429f8dbf9fa6a895ee5e4cb482fd5"
   }
  }
 },
 "nbformat": 4,
 "nbformat_minor": 2
}
