{
  "nbformat": 4,
  "nbformat_minor": 0,
  "metadata": {
    "colab": {
      "name": "**Mini Project** CNN with cifar-10 dataset",
      "provenance": [],
      "authorship_tag": "ABX9TyPt5wbSNErJFP0LmZTx8xGD",
      "include_colab_link": true
    },
    "kernelspec": {
      "name": "python3",
      "display_name": "Python 3"
    },
    "language_info": {
      "name": "python"
    }
  },
  "cells": [
    {
      "cell_type": "markdown",
      "metadata": {
        "id": "view-in-github",
        "colab_type": "text"
      },
      "source": [
        "<a href=\"https://colab.research.google.com/github/mrrkdas/Mini-Projects/blob/main/CNN_with_cifar_10.ipynb\" target=\"_parent\"><img src=\"https://colab.research.google.com/assets/colab-badge.svg\" alt=\"Open In Colab\"/></a>"
      ]
    },
    {
      "cell_type": "code",
      "execution_count": 25,
      "metadata": {
        "id": "FZgDxTwetWdt"
      },
      "outputs": [],
      "source": [
        "import tensorflow as tf\n",
        "import pandas as pd\n",
        "import numpy as np\n",
        "import matplotlib.pyplot as plt\n",
        "\n",
        "from tensorflow.keras.layers import Dense, Conv2D, Flatten, Input, MaxPool2D, Dropout\n",
        "from tensorflow.keras.utils import to_categorical\n",
        "from tensorflow.keras.datasets.cifar10 import load_data\n",
        "from tensorflow.keras.models import Model, load_model\n",
        "from tensorflow.keras.callbacks import EarlyStopping, LearningRateScheduler"
      ]
    },
    {
      "cell_type": "code",
      "source": [
        "(train_images, train_labels), (test_images, test_labels) = load_data()"
      ],
      "metadata": {
        "colab": {
          "base_uri": "https://localhost:8080/"
        },
        "id": "x0ELBRlotbwj",
        "outputId": "9f9119c4-0579-43cd-9366-6b3057984b65"
      },
      "execution_count": 2,
      "outputs": [
        {
          "output_type": "stream",
          "name": "stdout",
          "text": [
            "Downloading data from https://www.cs.toronto.edu/~kriz/cifar-10-python.tar.gz\n",
            "170500096/170498071 [==============================] - 3s 0us/step\n",
            "170508288/170498071 [==============================] - 3s 0us/step\n"
          ]
        }
      ]
    },
    {
      "cell_type": "markdown",
      "source": [
        "## Getting to know the data"
      ],
      "metadata": {
        "id": "H2PTKahutdlf"
      }
    },
    {
      "cell_type": "code",
      "source": [
        "train_images.shape # All the images are in the shape (32, 32, 3)"
      ],
      "metadata": {
        "colab": {
          "base_uri": "https://localhost:8080/"
        },
        "id": "Srnfyubbtf1Y",
        "outputId": "872ee088-b052-42d2-8208-16de9f09a574"
      },
      "execution_count": 3,
      "outputs": [
        {
          "output_type": "execute_result",
          "data": {
            "text/plain": [
              "(50000, 32, 32, 3)"
            ]
          },
          "metadata": {},
          "execution_count": 3
        }
      ]
    },
    {
      "cell_type": "code",
      "source": [
        "train_labels.shape"
      ],
      "metadata": {
        "colab": {
          "base_uri": "https://localhost:8080/"
        },
        "id": "9ieTfInBthX7",
        "outputId": "27770778-3345-47aa-e31c-b9e56cb3f55f"
      },
      "execution_count": 4,
      "outputs": [
        {
          "output_type": "execute_result",
          "data": {
            "text/plain": [
              "(50000, 1)"
            ]
          },
          "metadata": {},
          "execution_count": 4
        }
      ]
    },
    {
      "cell_type": "code",
      "source": [
        "plt.imshow(train_images[1])\n",
        "print(train_labels[1])"
      ],
      "metadata": {
        "colab": {
          "base_uri": "https://localhost:8080/",
          "height": 284
        },
        "id": "jn_h4zh_tio6",
        "outputId": "e7edbb59-8884-46d8-8195-e2837e626df3"
      },
      "execution_count": 5,
      "outputs": [
        {
          "output_type": "stream",
          "name": "stdout",
          "text": [
            "[9]\n"
          ]
        },
        {
          "output_type": "display_data",
          "data": {
            "text/plain": [
              "<Figure size 432x288 with 1 Axes>"
            ],
            "image/png": "[encoded data removed]"
          },
          "metadata": {
            "needs_background": "light"
          }
        }
      ]
    },
    {
      "cell_type": "code",
      "source": [
        "classes = ['airplane', 'automobile', 'bird', 'cat', 'deer',\n",
        "               'dog', 'frog', 'horse', 'ship', 'truck']"
      ],
      "metadata": {
        "id": "JDcJyGtJtkMr"
      },
      "execution_count": 6,
      "outputs": []
    },
    {
      "cell_type": "markdown",
      "source": [
        "## Preprocessing"
      ],
      "metadata": {
        "id": "L05uIGZttlgx"
      }
    },
    {
      "cell_type": "code",
      "source": [
        "# Standardizing\n",
        "train_images = train_images/255\n",
        "test_images = test_images/255"
      ],
      "metadata": {
        "id": "6bzRAtNi3Ptl"
      },
      "execution_count": 11,
      "outputs": []
    },
    {
      "cell_type": "code",
      "source": [
        "# Turning the labels into categorical\n",
        "train_labels_cat = to_categorical(train_labels, num_classes = 10)\n",
        "\n",
        "test_labels_copy = test_labels.copy()\n",
        "\n",
        "test_labels_cat = to_categorical(test_labels_copy, num_classes = 10)"
      ],
      "metadata": {
        "id": "K2DX6Sel3TKh"
      },
      "execution_count": 12,
      "outputs": []
    },
    {
      "cell_type": "code",
      "source": [
        "train_labels_cat.shape, test_labels_cat.shape"
      ],
      "metadata": {
        "colab": {
          "base_uri": "https://localhost:8080/"
        },
        "id": "i5F9WZmy4I_G",
        "outputId": "b145666a-5307-4da3-b8de-13d8302a7b43"
      },
      "execution_count": 13,
      "outputs": [
        {
          "output_type": "execute_result",
          "data": {
            "text/plain": [
              "((50000, 10), (10000, 10))"
            ]
          },
          "metadata": {},
          "execution_count": 13
        }
      ]
    },
    {
      "cell_type": "markdown",
      "source": [
        "## Model"
      ],
      "metadata": {
        "id": "bFIc9Psf4SPa"
      }
    },
    {
      "cell_type": "code",
      "source": [
        "input = Input((32,32,3))\n",
        "\n",
        "conv2d = Conv2D(64, (3,3), activation = 'relu')\n",
        "\n",
        "# Convolutional Layers\n",
        "x = conv2d(input)\n",
        "x = MaxPool2D((2,2)) (x)\n",
        "x = Dropout(0.3) (x)\n",
        "x = Conv2D(32, (2,2), activation = 'relu') (x)\n",
        "x = Flatten() (x)\n",
        "\n",
        "# Dense\n",
        "x = Dense(32, activation = 'relu') (x)\n",
        "\n",
        "output = Dense(10, activation = 'softmax') (x)\n",
        "\n",
        "model = Model(input, output, name = 'cifar_10_model')"
      ],
      "metadata": {
        "id": "QSIJFGZL4Z_j"
      },
      "execution_count": 36,
      "outputs": []
    },
    {
      "cell_type": "code",
      "source": [
        "model.summary()"
      ],
      "metadata": {
        "colab": {
          "base_uri": "https://localhost:8080/"
        },
        "id": "91cajeZN5kMs",
        "outputId": "a8a30e57-7b37-44be-b4ff-b84c6f3fe56b"
      },
      "execution_count": 37,
      "outputs": [
        {
          "output_type": "stream",
          "name": "stdout",
          "text": [
            "Model: \"cifar_10_model\"\n",
            "_________________________________________________________________\n",
            " Layer (type)                Output Shape              Param #   \n",
            "=================================================================\n",
            " input_5 (InputLayer)        [(None, 32, 32, 3)]       0         \n",
            "                                                                 \n",
            " conv2d_8 (Conv2D)           (None, 30, 30, 64)        1792      \n",
            "                                                                 \n",
            " max_pooling2d_4 (MaxPooling  (None, 15, 15, 64)       0         \n",
            " 2D)                                                             \n",
            "                                                                 \n",
            " dropout_4 (Dropout)         (None, 15, 15, 64)        0         \n",
            "                                                                 \n",
            " conv2d_9 (Conv2D)           (None, 14, 14, 32)        8224      \n",
            "                                                                 \n",
            " flatten_4 (Flatten)         (None, 6272)              0         \n",
            "                                                                 \n",
            " dense_8 (Dense)             (None, 32)                200736    \n",
            "                                                                 \n",
            " dense_9 (Dense)             (None, 10)                330       \n",
            "                                                                 \n",
            "=================================================================\n",
            "Total params: 211,082\n",
            "Trainable params: 211,082\n",
            "Non-trainable params: 0\n",
            "_________________________________________________________________\n"
          ]
        }
      ]
    },
    {
      "cell_type": "code",
      "source": [
        "model.compile(loss = 'categorical_crossentropy', optimizer='rmsprop', metrics = ['accuracy'])"
      ],
      "metadata": {
        "id": "i5zQgvVC5l5l"
      },
      "execution_count": 38,
      "outputs": []
    },
    {
      "cell_type": "code",
      "source": [
        "# Callbacks\n",
        "# Early Stopping\n",
        "es_callback = EarlyStopping(monitor = 'loss', min_delta = 0.3, patience = 3)\n",
        "\n",
        "# Learning Rate Scheduler \n",
        "def scheduler(epoch, lr):\n",
        "  if epoch < 10:\n",
        "    return lr\n",
        "  else:\n",
        "    return lr * tf.math.exp(-0.1)\n",
        "\n",
        "lrs_callback = LearningRateScheduler(scheduler)"
      ],
      "metadata": {
        "id": "I4zkVrMW6Hm9"
      },
      "execution_count": 39,
      "outputs": []
    },
    {
      "cell_type": "code",
      "source": [
        "r = model.fit(train_images, train_labels_cat, validation_data = (test_images, test_labels_cat), epochs = 50, callbacks = [es_callback, lrs_callback])"
      ],
      "metadata": {
        "colab": {
          "base_uri": "https://localhost:8080/"
        },
        "id": "M4W21XEA58dg",
        "outputId": "96171265-bcb8-4f0c-b86a-b2dc9d261f1b"
      },
      "execution_count": 40,
      "outputs": [
        {
          "output_type": "stream",
          "name": "stdout",
          "text": [
            "Epoch 1/50\n",
            "1563/1563 [==============================] - 130s 83ms/step - loss: 1.5754 - accuracy: 0.4328 - val_loss: 1.3042 - val_accuracy: 0.5430 - lr: 0.0010\n",
            "Epoch 2/50\n",
            "1563/1563 [==============================] - 114s 73ms/step - loss: 1.2034 - accuracy: 0.5768 - val_loss: 1.1652 - val_accuracy: 0.5858 - lr: 0.0010\n",
            "Epoch 3/50\n",
            "1563/1563 [==============================] - 117s 75ms/step - loss: 1.0574 - accuracy: 0.6311 - val_loss: 1.1181 - val_accuracy: 0.6127 - lr: 0.0010\n",
            "Epoch 4/50\n",
            "1563/1563 [==============================] - 105s 67ms/step - loss: 0.9682 - accuracy: 0.6639 - val_loss: 1.0083 - val_accuracy: 0.6489 - lr: 0.0010\n",
            "Epoch 5/50\n",
            "1563/1563 [==============================] - 99s 64ms/step - loss: 0.9079 - accuracy: 0.6845 - val_loss: 0.9492 - val_accuracy: 0.6735 - lr: 0.0010\n"
          ]
        }
      ]
    },
    {
      "cell_type": "markdown",
      "source": [
        "## After Model"
      ],
      "metadata": {
        "id": "djEfuOUg7FO_"
      }
    },
    {
      "cell_type": "code",
      "source": [
        "# Loss\n",
        "plt.plot(r.history['loss'], label = 'loss')\n",
        "plt.plot(r.history['val_loss'], label = 'val_loss')"
      ],
      "metadata": {
        "colab": {
          "base_uri": "https://localhost:8080/",
          "height": 285
        },
        "id": "VkUIgYJ97IpS",
        "outputId": "8b830965-5aa7-45ad-da83-830340c25366"
      },
      "execution_count": 42,
      "outputs": [
        {
          "output_type": "execute_result",
          "data": {
            "text/plain": [
              "[<matplotlib.lines.Line2D at 0x7f04ff60db10>]"
            ]
          },
          "metadata": {},
          "execution_count": 42
        },
        {
          "output_type": "display_data",
          "data": {
            "text/plain": [
              "<Figure size 432x288 with 1 Axes>"
            ],
            "image/png": "[encoded data removed]"
          },
          "metadata": {
            "needs_background": "light"
          }
        }
      ]
    },
    {
      "cell_type": "code",
      "source": [
        "# Accuracy\n",
        "plt.plot(r.history['accuracy'], label = 'accuracy')\n",
        "plt.plot(r.history['val_accuracy'], label = 'val_accuracy')"
      ],
      "metadata": {
        "colab": {
          "base_uri": "https://localhost:8080/",
          "height": 283
        },
        "id": "Oc2ngpmD7Zd9",
        "outputId": "02a51b0e-27bc-45b6-f409-f66fe417d069"
      },
      "execution_count": 43,
      "outputs": [
        {
          "output_type": "execute_result",
          "data": {
            "text/plain": [
              "[<matplotlib.lines.Line2D at 0x7f04ff581c90>]"
            ]
          },
          "metadata": {},
          "execution_count": 43
        },
        {
          "output_type": "display_data",
          "data": {
            "text/plain": [
              "<Figure size 432x288 with 1 Axes>"
            ],
            "image/png": "[encoded data removed]"
          },
          "metadata": {
            "needs_background": "light"
          }
        }
      ]
    },
    {
      "cell_type": "code",
      "source": [
        "model.evaluate(test_images, test_labels_cat)"
      ],
      "metadata": {
        "colab": {
          "base_uri": "https://localhost:8080/"
        },
        "id": "SDPiNuRN7twS",
        "outputId": "3c934943-1739-42a9-9453-b1d9b54c95b8"
      },
      "execution_count": 44,
      "outputs": [
        {
          "output_type": "stream",
          "name": "stdout",
          "text": [
            "313/313 [==============================] - 4s 12ms/step - loss: 0.9492 - accuracy: 0.6735\n"
          ]
        },
        {
          "output_type": "execute_result",
          "data": {
            "text/plain": [
              "[0.9491786360740662, 0.6735000014305115]"
            ]
          },
          "metadata": {},
          "execution_count": 44
        }
      ]
    },
    {
      "cell_type": "code",
      "source": [
        "preds = model.predict(test_images)"
      ],
      "metadata": {
        "id": "0mgoMe3173Tq"
      },
      "execution_count": 45,
      "outputs": []
    },
    {
      "cell_type": "code",
      "source": [
        "preds_ncat = []\n",
        "\n",
        "for i in range(len(preds)):\n",
        "  argmax = preds[i].argmax()\n",
        "  preds_ncat.append(argmax)"
      ],
      "metadata": {
        "id": "TM09Blnv-bEX"
      },
      "execution_count": 48,
      "outputs": []
    },
    {
      "cell_type": "code",
      "source": [
        "from sklearn.metrics import classification_report\n",
        "\n",
        "print(classification_report(test_labels, preds_ncat))"
      ],
      "metadata": {
        "colab": {
          "base_uri": "https://localhost:8080/"
        },
        "id": "CbvUYVDM76is",
        "outputId": "075a4b73-9fb0-4a88-ae4a-1651ea77e8cc"
      },
      "execution_count": 50,
      "outputs": [
        {
          "output_type": "stream",
          "name": "stdout",
          "text": [
            "              precision    recall  f1-score   support\n",
            "\n",
            "           0       0.70      0.69      0.70      1000\n",
            "           1       0.73      0.85      0.79      1000\n",
            "           2       0.55      0.53      0.54      1000\n",
            "           3       0.54      0.45      0.49      1000\n",
            "           4       0.64      0.58      0.61      1000\n",
            "           5       0.53      0.70      0.60      1000\n",
            "           6       0.80      0.69      0.74      1000\n",
            "           7       0.69      0.77      0.72      1000\n",
            "           8       0.78      0.77      0.78      1000\n",
            "           9       0.83      0.70      0.76      1000\n",
            "\n",
            "    accuracy                           0.67     10000\n",
            "   macro avg       0.68      0.67      0.67     10000\n",
            "weighted avg       0.68      0.67      0.67     10000\n",
            "\n"
          ]
        }
      ]
    },
    {
      "cell_type": "code",
      "source": [
        "import random\n",
        "i = random.randint(0, 10001)\n",
        "\n",
        "plt.imshow(np.reshape(test_images[i], (32, 32, 3)), cmap = 'gray')\n",
        "plt.show()\n",
        "\n",
        "print(f\"Predicted: {classes[preds[i].argmax()]}\")\n",
        "print(f\"Actual: {classes[test_labels_cat[i].argmax()]}\")"
      ],
      "metadata": {
        "colab": {
          "base_uri": "https://localhost:8080/",
          "height": 301
        },
        "id": "qwdHzhl48GEG",
        "outputId": "577d11d0-906b-4c42-9c46-59a6b5b88922"
      },
      "execution_count": 59,
      "outputs": [
        {
          "output_type": "display_data",
          "data": {
            "text/plain": [
              "<Figure size 432x288 with 1 Axes>"
            ],
            "image/png": "[encoded data removed]"
          },
          "metadata": {
            "needs_background": "light"
          }
        },
        {
          "output_type": "stream",
          "name": "stdout",
          "text": [
            "Predicted: ship\n",
            "Actual: ship\n"
          ]
        }
      ]
    },
    {
      "cell_type": "code",
      "source": [
        "# Saving and loading model\n",
        "model.save('cifar_10_model')\n",
        "new_model = load_model('cifar_10_model')"
      ],
      "metadata": {
        "colab": {
          "base_uri": "https://localhost:8080/"
        },
        "id": "IFxDw5QU8Y6a",
        "outputId": "801d6555-3dd5-4c50-d4ca-143fa39cfeed"
      },
      "execution_count": 60,
      "outputs": [
        {
          "output_type": "stream",
          "name": "stdout",
          "text": [
            "INFO:tensorflow:Assets written to: cifar_10_model/assets\n"
          ]
        }
      ]
    },
    {
      "cell_type": "code",
      "source": [
        "new_preds = new_model.predict(test_images)"
      ],
      "metadata": {
        "id": "LoZIm-VF8qYk"
      },
      "execution_count": 66,
      "outputs": []
    },
    {
      "cell_type": "code",
      "source": [
        "import random\n",
        "i = random.randint(0, 10001)\n",
        "\n",
        "plt.imshow(np.reshape(test_images[i], (32, 32, 3)), cmap = 'gray')\n",
        "plt.show()\n",
        "\n",
        "print(f\"Predicted: {classes[new_preds[i].argmax()]}\")\n",
        "print(f\"Actual: {classes[test_labels_cat[i].argmax()]}\")"
      ],
      "metadata": {
        "colab": {
          "base_uri": "https://localhost:8080/",
          "height": 301
        },
        "id": "T-1emTqb_E9t",
        "outputId": "29bc0704-351a-4ca5-c996-3ce52db39688"
      },
      "execution_count": 67,
      "outputs": [
        {
          "output_type": "display_data",
          "data": {
            "text/plain": [
              "<Figure size 432x288 with 1 Axes>"
            ],
            "image/png": "[encoded data removed]"
          },
          "metadata": {
            "needs_background": "light"
          }
        },
        {
          "output_type": "stream",
          "name": "stdout",
          "text": [
            "Predicted: ship\n",
            "Actual: ship\n"
          ]
        }
      ]
    }
  ]
}