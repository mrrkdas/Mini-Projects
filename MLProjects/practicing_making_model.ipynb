{
 "cells": [
  {
   "cell_type": "code",
   "execution_count": null,
   "metadata": {},
   "outputs": [],
   "source": [
    "import tensorflow as tf\n",
    "import pytorch as torch"
   ]
  },
  {
   "cell_type": "code",
   "execution_count": null,
   "metadata": {},
   "outputs": [],
   "source": [
    "model = tf.keras.Sequential(\n",
    "    tf.keras.layers.Dense(25, input = (16, ), activation = \"relu\"),\n",
    "    tf.keras.layers.Dense(50, activation = \"relu\"),\n",
    "    tf.keras.layers.Dense(1, activation = \"sigmoid\")\n",
    ")"
   ]
  },
  {
   "cell_type": "code",
   "execution_count": null,
   "metadata": {},
   "outputs": [],
   "source": [
    "input = tf.keras.layers.Input(shape = (12,))\n",
    "x = tf.keras.layers.Dense(24, activation = \"relu\")(input)\n",
    "x = tf.keras.layers.Dense(50, activation = \"relu\")(x)\n",
    "output = tf.keras.layers.Dense(1, activation = \"sigmoid\") (x)"
   ]
  },
  {
   "cell_type": "code",
   "execution_count": null,
   "metadata": {},
   "outputs": [],
   "source": [
    "class Model(torch.nn.Module):\n",
    "    def __init__(self):\n",
    "        super(Model, self).__init__()\n",
    "\n",
    "        self.input = torch.nn.Input(shape = (23,))\n",
    "        self.layer_1 = torch.nn.Dense(25)\n",
    "        self.activation = torch.nn.ReLU()\n",
    "        self.layer_2 = torch.nn.Dense(50)\n",
    "        self.activation_2 = torch.nn.ReLU()\n",
    "        self.ouput = torch.nn.Dense(1)\n",
    "        self.output_activation = torch.nn.Sigmoid()\n",
    "\n",
    "    def forward(self, x):\n",
    "        x = self.input(x)\n",
    "        x = self.layer_1(x)\n",
    "        x = self.activation(x)\n",
    "        x = self.layer_2(x)\n",
    "        x = self.activation_2(x)\n",
    "        x = self.ouput(x)\n",
    "        x = self.output_activation(x)\n",
    "\n",
    "        return x\n",
    "\n",
    "model = Model()\n",
    "\n",
    "    \n",
    "        "
   ]
  }
 ],
 "metadata": {
  "language_info": {
   "name": "python"
  },
  "orig_nbformat": 4
 },
 "nbformat": 4,
 "nbformat_minor": 2
}
