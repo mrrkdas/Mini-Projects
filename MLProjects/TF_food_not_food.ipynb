{
 "cells": [
  {
   "cell_type": "code",
   "execution_count": 1,
   "metadata": {},
   "outputs": [],
   "source": [
    "# Import Needed Libraries\n",
    "import numpy as np\n",
    "import pandas as pd\n",
    "import tensorflow as tf\n",
    "import os\n",
    "import matplotlib.pyplot as plt\n",
    "import pathlib\n",
    "import random\n",
    "import math\n",
    "import splitfolders\n"
   ]
  },
  {
   "cell_type": "code",
   "execution_count": 2,
   "metadata": {},
   "outputs": [
    {
     "name": "stdout",
     "output_type": "stream",
     "text": [
      "/Users/rish/Desktop/Mini-Projects/MLProjects/Data/food_not_food/data/food (204) (Copy).jpg\n",
      "/Users/rish/Desktop/Mini-Projects/MLProjects/Data/food_not_food/data/food (86) (Copy).jpg\n",
      "/Users/rish/Desktop/Mini-Projects/MLProjects/Data/food_not_food/data/food (101) (Copy).jpg\n",
      "/Users/rish/Desktop/Mini-Projects/MLProjects/Data/food_not_food/data/food (25) (Copy).jpg\n",
      "/Users/rish/Desktop/Mini-Projects/MLProjects/Data/food_not_food/data/food (171) (Copy).jpg\n",
      "/Users/rish/Desktop/Mini-Projects/MLProjects/Data/food_not_food/data/train_image_png_115.png\n",
      "/Users/rish/Desktop/Mini-Projects/MLProjects/Data/food_not_food/data/train_image_png_101.png\n",
      "/Users/rish/Desktop/Mini-Projects/MLProjects/Data/food_not_food/data/food (1) (Copy).jpg\n",
      "/Users/rish/Desktop/Mini-Projects/MLProjects/Data/food_not_food/data/train_image_png_129.png\n",
      "/Users/rish/Desktop/Mini-Projects/MLProjects/Data/food_not_food/data/food (55) (Copy).jpg\n",
      "/Users/rish/Desktop/Mini-Projects/MLProjects/Data/food_not_food/data/train_image_png_11.png\n",
      "/Users/rish/Desktop/Mini-Projects/MLProjects/Data/food_not_food/data/train_image_png_39.png\n",
      "/Users/rish/Desktop/Mini-Projects/MLProjects/Data/food_not_food/data/food (190) (Copy).jpg\n",
      "/Users/rish/Desktop/Mini-Projects/MLProjects/Data/food_not_food/data/train_image_png_38.png\n",
      "/Users/rish/Desktop/Mini-Projects/MLProjects/Data/food_not_food/data/train_image_png_10.png\n",
      "/Users/rish/Desktop/Mini-Projects/MLProjects/Data/food_not_food/data/food (49) (Copy).jpg\n",
      "/Users/rish/Desktop/Mini-Projects/MLProjects/Data/food_not_food/data/train_image_png_128.png\n",
      "/Users/rish/Desktop/Mini-Projects/MLProjects/Data/food_not_food/data/train_image_png_100.png\n",
      "/Users/rish/Desktop/Mini-Projects/MLProjects/Data/food_not_food/data/train_image_png_114.png\n",
      "/Users/rish/Desktop/Mini-Projects/MLProjects/Data/food_not_food/data/food (39) (Copy).jpg\n",
      "/Users/rish/Desktop/Mini-Projects/MLProjects/Data/food_not_food/data/food (143) (Copy).jpg\n",
      "/Users/rish/Desktop/Mini-Projects/MLProjects/Data/food_not_food/data/food (67) (Copy).jpg\n",
      "/Users/rish/Desktop/Mini-Projects/MLProjects/Data/food_not_food/data/food (133) (Copy).jpg\n",
      "/Users/rish/Desktop/Mini-Projects/MLProjects/Data/food_not_food/data/food (17) (Copy).jpg\n",
      "/Users/rish/Desktop/Mini-Projects/MLProjects/Data/food_not_food/data/food (156) (Copy).jpg\n",
      "/Users/rish/Desktop/Mini-Projects/MLProjects/Data/food_not_food/data/food (72) (Copy).jpg\n",
      "/Users/rish/Desktop/Mini-Projects/MLProjects/Data/food_not_food/data/food (126) (Copy).jpg\n",
      "/Users/rish/Desktop/Mini-Projects/MLProjects/Data/food_not_food/data/food (185) (Copy).jpg\n",
      "/Users/rish/Desktop/Mini-Projects/MLProjects/Data/food_not_food/data/food (8) (Copy).jpg\n",
      "/Users/rish/Desktop/Mini-Projects/MLProjects/Data/food_not_food/data/food (178) (Copy).jpg\n",
      "/Users/rish/Desktop/Mini-Projects/MLProjects/Data/food_not_food/data/train_image_png_102.png\n",
      "/Users/rish/Desktop/Mini-Projects/MLProjects/Data/food_not_food/data/train_image_png_116.png\n",
      "/Users/rish/Desktop/Mini-Projects/MLProjects/Data/food_not_food/data/train_image_png_12.png\n",
      "/Users/rish/Desktop/Mini-Projects/MLProjects/Data/food_not_food/data/food (108) (Copy).jpg\n",
      "/Users/rish/Desktop/Mini-Projects/MLProjects/Data/food_not_food/data/food (114) (Copy).jpg\n",
      "/Users/rish/Desktop/Mini-Projects/MLProjects/Data/food_not_food/data/train_image_png_13.png\n",
      "/Users/rish/Desktop/Mini-Projects/MLProjects/Data/food_not_food/data/food (30) (Copy).jpg\n",
      "/Users/rish/Desktop/Mini-Projects/MLProjects/Data/food_not_food/data/train_image_png_117.png\n",
      "/Users/rish/Desktop/Mini-Projects/MLProjects/Data/food_not_food/data/train_image_png_103.png\n",
      "/Users/rish/Desktop/Mini-Projects/MLProjects/Data/food_not_food/data/food (164) (Copy).jpg\n",
      "/Users/rish/Desktop/Mini-Projects/MLProjects/Data/food_not_food/data/food (40) (Copy).jpg\n",
      "/Users/rish/Desktop/Mini-Projects/MLProjects/Data/food_not_food/data/food (199) (Copy).jpg\n",
      "/Users/rish/Desktop/Mini-Projects/MLProjects/Data/food_not_food/data/food (93) (Copy).jpg\n",
      "/Users/rish/Desktop/Mini-Projects/MLProjects/Data/food_not_food/data/food (29) (Copy).jpg\n",
      "/Users/rish/Desktop/Mini-Projects/MLProjects/Data/food_not_food/data/food (180) (Copy).jpg\n",
      "/Users/rish/Desktop/Mini-Projects/MLProjects/Data/food_not_food/data/food (59) (Copy).jpg\n",
      "/Users/rish/Desktop/Mini-Projects/MLProjects/Data/food_not_food/data/food (123) (Copy).jpg\n",
      "/Users/rish/Desktop/Mini-Projects/MLProjects/Data/food_not_food/data/food (77) (Copy).jpg\n",
      "/Users/rish/Desktop/Mini-Projects/MLProjects/Data/food_not_food/data/train_image_png_107.png\n",
      "/Users/rish/Desktop/Mini-Projects/MLProjects/Data/food_not_food/data/train_image_png_113.png\n",
      "/Users/rish/Desktop/Mini-Projects/MLProjects/Data/food_not_food/data/food (153) (Copy).jpg\n",
      "/Users/rish/Desktop/Mini-Projects/MLProjects/Data/food_not_food/data/train_image_png_17.png\n",
      "/Users/rish/Desktop/Mini-Projects/MLProjects/Data/food_not_food/data/food (96) (Copy).jpg\n",
      "/Users/rish/Desktop/Mini-Projects/MLProjects/Data/food_not_food/data/train_image_png_16.png\n",
      "/Users/rish/Desktop/Mini-Projects/MLProjects/Data/food_not_food/data/train_image_png_112.png\n",
      "/Users/rish/Desktop/Mini-Projects/MLProjects/Data/food_not_food/data/train_image_png_106.png\n",
      "/Users/rish/Desktop/Mini-Projects/MLProjects/Data/food_not_food/data/food (45) (Copy).jpg\n",
      "/Users/rish/Desktop/Mini-Projects/MLProjects/Data/food_not_food/data/food (161) (Copy).jpg\n",
      "/Users/rish/Desktop/Mini-Projects/MLProjects/Data/food_not_food/data/food (35) (Copy).jpg\n",
      "/Users/rish/Desktop/Mini-Projects/MLProjects/Data/food_not_food/data/food (111) (Copy).jpg\n",
      "/Users/rish/Desktop/Mini-Projects/MLProjects/Data/food_not_food/data/food (50) (Copy).jpg\n",
      "/Users/rish/Desktop/Mini-Projects/MLProjects/Data/food_not_food/data/food (189) (Copy).jpg\n",
      "/Users/rish/Desktop/Mini-Projects/MLProjects/Data/food_not_food/data/food (174) (Copy).jpg\n",
      "/Users/rish/Desktop/Mini-Projects/MLProjects/Data/food_not_food/data/food (4) (Copy).jpg\n",
      "/Users/rish/Desktop/Mini-Projects/MLProjects/Data/food_not_food/data/food (20) (Copy).jpg\n",
      "/Users/rish/Desktop/Mini-Projects/MLProjects/Data/food_not_food/data/food (104) (Copy).jpg\n",
      "/Users/rish/Desktop/Mini-Projects/MLProjects/Data/food_not_food/data/food (83) (Copy).jpg\n",
      "/Users/rish/Desktop/Mini-Projects/MLProjects/Data/food_not_food/data/train_image_png_138.png\n",
      "/Users/rish/Desktop/Mini-Projects/MLProjects/Data/food_not_food/data/train_image_png_110.png\n",
      "/Users/rish/Desktop/Mini-Projects/MLProjects/Data/food_not_food/data/train_image_png_104.png\n",
      "/Users/rish/Desktop/Mini-Projects/MLProjects/Data/food_not_food/data/train_image_png_28.png\n",
      "/Users/rish/Desktop/Mini-Projects/MLProjects/Data/food_not_food/data/food (201) (Copy).jpg\n",
      "/Users/rish/Desktop/Mini-Projects/MLProjects/Data/food_not_food/data/train_image_png_14.png\n",
      "/Users/rish/Desktop/Mini-Projects/MLProjects/Data/food_not_food/data/train_image_png_15.png\n",
      "/Users/rish/Desktop/Mini-Projects/MLProjects/Data/food_not_food/data/food (12) (Copy).jpg\n",
      "/Users/rish/Desktop/Mini-Projects/MLProjects/Data/food_not_food/data/train_image_png_29.png\n",
      "/Users/rish/Desktop/Mini-Projects/MLProjects/Data/food_not_food/data/train_image_png_105.png\n",
      "/Users/rish/Desktop/Mini-Projects/MLProjects/Data/food_not_food/data/food (136) (Copy).jpg\n",
      "/Users/rish/Desktop/Mini-Projects/MLProjects/Data/food_not_food/data/train_image_png_111.png\n",
      "/Users/rish/Desktop/Mini-Projects/MLProjects/Data/food_not_food/data/train_image_png_139.png\n",
      "/Users/rish/Desktop/Mini-Projects/MLProjects/Data/food_not_food/data/food (62) (Copy).jpg\n",
      "/Users/rish/Desktop/Mini-Projects/MLProjects/Data/food_not_food/data/food (146) (Copy).jpg\n",
      "/Users/rish/Desktop/Mini-Projects/MLProjects/Data/food_not_food/data/food (118) (Copy).jpg\n",
      "/Users/rish/Desktop/Mini-Projects/MLProjects/Data/food_not_food/data/food (168) (Copy).jpg\n",
      "/Users/rish/Desktop/Mini-Projects/MLProjects/Data/food_not_food/data/food (195) (Copy).jpg\n",
      "/Users/rish/Desktop/Mini-Projects/MLProjects/Data/food_not_food/data/train_image_png_1.png\n",
      "/Users/rish/Desktop/Mini-Projects/MLProjects/Data/food_not_food/data/train_image_png_200.png\n",
      "/Users/rish/Desktop/Mini-Projects/MLProjects/Data/food_not_food/data/food (196) (Copy).jpg\n",
      "/Users/rish/Desktop/Mini-Projects/MLProjects/Data/food_not_food/data/food (135) (Copy).jpg\n",
      "/Users/rish/Desktop/Mini-Projects/MLProjects/Data/food_not_food/data/food (11) (Copy).jpg\n",
      "/Users/rish/Desktop/Mini-Projects/MLProjects/Data/food_not_food/data/train_image_png_176.png\n",
      "/Users/rish/Desktop/Mini-Projects/MLProjects/Data/food_not_food/data/train_image_png_162.png\n",
      "/Users/rish/Desktop/Mini-Projects/MLProjects/Data/food_not_food/data/train_image_png_99.png\n",
      "/Users/rish/Desktop/Mini-Projects/MLProjects/Data/food_not_food/data/food (145) (Copy).jpg\n",
      "/Users/rish/Desktop/Mini-Projects/MLProjects/Data/food_not_food/data/train_image_png_66.png\n",
      "/Users/rish/Desktop/Mini-Projects/MLProjects/Data/food_not_food/data/train_image_png_72.png\n",
      "/Users/rish/Desktop/Mini-Projects/MLProjects/Data/food_not_food/data/train_image_png_189.png\n",
      "/Users/rish/Desktop/Mini-Projects/MLProjects/Data/food_not_food/data/food (61) (Copy).jpg\n",
      "/Users/rish/Desktop/Mini-Projects/MLProjects/Data/food_not_food/data/train_image_png_188.png\n",
      "/Users/rish/Desktop/Mini-Projects/MLProjects/Data/food_not_food/data/train_image_png_73.png\n",
      "/Users/rish/Desktop/Mini-Projects/MLProjects/Data/food_not_food/data/train_image_png_67.png\n",
      "/Users/rish/Desktop/Mini-Projects/MLProjects/Data/food_not_food/data/food (159) (Copy).jpg\n",
      "/Users/rish/Desktop/Mini-Projects/MLProjects/Data/food_not_food/data/train_image_png_98.png\n",
      "/Users/rish/Desktop/Mini-Projects/MLProjects/Data/food_not_food/data/train_image_png_163.png\n",
      "/Users/rish/Desktop/Mini-Projects/MLProjects/Data/food_not_food/data/food (80) (Copy).jpg\n",
      "/Users/rish/Desktop/Mini-Projects/MLProjects/Data/food_not_food/data/train_image_png_177.png\n",
      "/Users/rish/Desktop/Mini-Projects/MLProjects/Data/food_not_food/data/food (202) (Copy).jpg\n",
      "/Users/rish/Desktop/Mini-Projects/MLProjects/Data/food_not_food/data/food (129) (Copy).jpg\n",
      "/Users/rish/Desktop/Mini-Projects/MLProjects/Data/food_not_food/data/food (7) (Copy).jpg\n",
      "/Users/rish/Desktop/Mini-Projects/MLProjects/Data/food_not_food/data/food (177) (Copy).jpg\n",
      "/Users/rish/Desktop/Mini-Projects/MLProjects/Data/food_not_food/data/food (53) (Copy).jpg\n",
      "/Users/rish/Desktop/Mini-Projects/MLProjects/Data/food_not_food/data/train_image_png_201.png\n",
      "/Users/rish/Desktop/Mini-Projects/MLProjects/Data/food_not_food/data/food (107) (Copy).jpg\n",
      "/Users/rish/Desktop/Mini-Projects/MLProjects/Data/food_not_food/data/food (23) (Copy).jpg\n",
      "/Users/rish/Desktop/Mini-Projects/MLProjects/Data/food_not_food/data/train_image_png_2.png\n",
      "/Users/rish/Desktop/Mini-Projects/MLProjects/Data/food_not_food/data/food (162) (Copy).jpg\n",
      "/Users/rish/Desktop/Mini-Projects/MLProjects/Data/food_not_food/data/food (46) (Copy).jpg\n",
      "/Users/rish/Desktop/Mini-Projects/MLProjects/Data/food_not_food/data/train_image_png_203.png\n",
      "/Users/rish/Desktop/Mini-Projects/MLProjects/Data/food_not_food/data/food (112) (Copy).jpg\n",
      "/Users/rish/Desktop/Mini-Projects/MLProjects/Data/food_not_food/data/food (36) (Copy).jpg\n",
      "/Users/rish/Desktop/Mini-Projects/MLProjects/Data/food_not_food/data/food (68) (Copy).jpg\n",
      "/Users/rish/Desktop/Mini-Projects/MLProjects/Data/food_not_food/data/food (95) (Copy).jpg\n",
      "/Users/rish/Desktop/Mini-Projects/MLProjects/Data/food_not_food/data/train_image_png_161.png\n",
      "/Users/rish/Desktop/Mini-Projects/MLProjects/Data/food_not_food/data/food (18) (Copy).jpg\n",
      "/Users/rish/Desktop/Mini-Projects/MLProjects/Data/food_not_food/data/train_image_png_175.png\n",
      "/Users/rish/Desktop/Mini-Projects/MLProjects/Data/food_not_food/data/train_image_png_149.png\n",
      "/Users/rish/Desktop/Mini-Projects/MLProjects/Data/food_not_food/data/train_image_png_71.png\n",
      "/Users/rish/Desktop/Mini-Projects/MLProjects/Data/food_not_food/data/train_image_png_65.png\n",
      "/Users/rish/Desktop/Mini-Projects/MLProjects/Data/food_not_food/data/train_image_png_59.png\n",
      "/Users/rish/Desktop/Mini-Projects/MLProjects/Data/food_not_food/data/train_image_png_58.png\n",
      "/Users/rish/Desktop/Mini-Projects/MLProjects/Data/food_not_food/data/train_image_png_64.png\n",
      "/Users/rish/Desktop/Mini-Projects/MLProjects/Data/food_not_food/data/food (120) (Copy).jpg\n",
      "/Users/rish/Desktop/Mini-Projects/MLProjects/Data/food_not_food/data/train_image_png_70.png\n",
      "/Users/rish/Desktop/Mini-Projects/MLProjects/Data/food_not_food/data/train_image_png_148.png\n",
      "/Users/rish/Desktop/Mini-Projects/MLProjects/Data/food_not_food/data/train_image_png_174.png\n",
      "/Users/rish/Desktop/Mini-Projects/MLProjects/Data/food_not_food/data/train_image_png_160.png\n",
      "/Users/rish/Desktop/Mini-Projects/MLProjects/Data/food_not_food/data/food (89) (Copy).jpg\n",
      "/Users/rish/Desktop/Mini-Projects/MLProjects/Data/food_not_food/data/food (150) (Copy).jpg\n",
      "/Users/rish/Desktop/Mini-Projects/MLProjects/Data/food_not_food/data/food (74) (Copy).jpg\n",
      "/Users/rish/Desktop/Mini-Projects/MLProjects/Data/food_not_food/data/train_image_png_202.png\n",
      "/Users/rish/Desktop/Mini-Projects/MLProjects/Data/food_not_food/data/food (183) (Copy).jpg\n",
      "/Users/rish/Desktop/Mini-Projects/MLProjects/Data/food_not_food/data/train_image_png_3.png\n",
      "/Users/rish/Desktop/Mini-Projects/MLProjects/Data/food_not_food/data/train_image_png_7.png\n",
      "/Users/rish/Desktop/Mini-Projects/MLProjects/Data/food_not_food/data/food (139) (Copy).jpg\n",
      "/Users/rish/Desktop/Mini-Projects/MLProjects/Data/food_not_food/data/food (149) (Copy).jpg\n",
      "/Users/rish/Desktop/Mini-Projects/MLProjects/Data/food_not_food/data/food (90) (Copy).jpg\n",
      "/Users/rish/Desktop/Mini-Projects/MLProjects/Data/food_not_food/data/food (33) (Copy).jpg\n",
      "/Users/rish/Desktop/Mini-Projects/MLProjects/Data/food_not_food/data/food (117) (Copy).jpg\n",
      "/Users/rish/Desktop/Mini-Projects/MLProjects/Data/food_not_food/data/train_image_png_158.png\n",
      "/Users/rish/Desktop/Mini-Projects/MLProjects/Data/food_not_food/data/food (43) (Copy).jpg\n",
      "/Users/rish/Desktop/Mini-Projects/MLProjects/Data/food_not_food/data/train_image_png_164.png\n",
      "/Users/rish/Desktop/Mini-Projects/MLProjects/Data/food_not_food/data/train_image_png_170.png\n",
      "/Users/rish/Desktop/Mini-Projects/MLProjects/Data/food_not_food/data/train_image_png_48.png\n",
      "/Users/rish/Desktop/Mini-Projects/MLProjects/Data/food_not_food/data/train_image_png_74.png\n",
      "/Users/rish/Desktop/Mini-Projects/MLProjects/Data/food_not_food/data/train_image_png_60.png\n",
      "/Users/rish/Desktop/Mini-Projects/MLProjects/Data/food_not_food/data/food (167) (Copy).jpg\n",
      "/Users/rish/Desktop/Mini-Projects/MLProjects/Data/food_not_food/data/train_image_png_61.png\n",
      "/Users/rish/Desktop/Mini-Projects/MLProjects/Data/food_not_food/data/train_image_png_75.png\n",
      "/Users/rish/Desktop/Mini-Projects/MLProjects/Data/food_not_food/data/train_image_png_49.png\n",
      "/Users/rish/Desktop/Mini-Projects/MLProjects/Data/food_not_food/data/train_image_png_171.png\n",
      "/Users/rish/Desktop/Mini-Projects/MLProjects/Data/food_not_food/data/train_image_png_165.png\n",
      "/Users/rish/Desktop/Mini-Projects/MLProjects/Data/food_not_food/data/food (186) (Copy).jpg\n",
      "/Users/rish/Desktop/Mini-Projects/MLProjects/Data/food_not_food/data/train_image_png_159.png\n",
      "/Users/rish/Desktop/Mini-Projects/MLProjects/Data/food_not_food/data/food (71) (Copy).jpg\n",
      "/Users/rish/Desktop/Mini-Projects/MLProjects/Data/food_not_food/data/food (155) (Copy).jpg\n",
      "/Users/rish/Desktop/Mini-Projects/MLProjects/Data/food_not_food/data/train_image_png_6.png\n",
      "/Users/rish/Desktop/Mini-Projects/MLProjects/Data/food_not_food/data/food (125) (Copy).jpg\n",
      "/Users/rish/Desktop/Mini-Projects/MLProjects/Data/food_not_food/data/train_image_png_4.png\n",
      "/Users/rish/Desktop/Mini-Projects/MLProjects/Data/food_not_food/data/food (64) (Copy).jpg\n",
      "/Users/rish/Desktop/Mini-Projects/MLProjects/Data/food_not_food/data/food (99) (Copy).jpg\n",
      "/Users/rish/Desktop/Mini-Projects/MLProjects/Data/food_not_food/data/food (140) (Copy).jpg\n",
      "/Users/rish/Desktop/Mini-Projects/MLProjects/Data/food_not_food/data/food (14) (Copy).jpg\n",
      "/Users/rish/Desktop/Mini-Projects/MLProjects/Data/food_not_food/data/food (130) (Copy).jpg\n",
      "/Users/rish/Desktop/Mini-Projects/MLProjects/Data/food_not_food/data/food (193) (Copy).jpg\n",
      "/Users/rish/Desktop/Mini-Projects/MLProjects/Data/food_not_food/data/train_image_png_88.png\n",
      "/Users/rish/Desktop/Mini-Projects/MLProjects/Data/food_not_food/data/train_image_png_173.png\n",
      "/Users/rish/Desktop/Mini-Projects/MLProjects/Data/food_not_food/data/train_image_png_167.png\n",
      "/Users/rish/Desktop/Mini-Projects/MLProjects/Data/food_not_food/data/train_image_png_198.png\n",
      "/Users/rish/Desktop/Mini-Projects/MLProjects/Data/food_not_food/data/train_image_png_63.png\n",
      "/Users/rish/Desktop/Mini-Projects/MLProjects/Data/food_not_food/data/train_image_png_77.png\n",
      "/Users/rish/Desktop/Mini-Projects/MLProjects/Data/food_not_food/data/train_image_png_76.png\n",
      "/Users/rish/Desktop/Mini-Projects/MLProjects/Data/food_not_food/data/train_image_png_62.png\n",
      "/Users/rish/Desktop/Mini-Projects/MLProjects/Data/food_not_food/data/train_image_png_199.png\n",
      "/Users/rish/Desktop/Mini-Projects/MLProjects/Data/food_not_food/data/food (26) (Copy).jpg\n",
      "/Users/rish/Desktop/Mini-Projects/MLProjects/Data/food_not_food/data/train_image_png_166.png\n",
      "/Users/rish/Desktop/Mini-Projects/MLProjects/Data/food_not_food/data/train_image_png_172.png\n",
      "/Users/rish/Desktop/Mini-Projects/MLProjects/Data/food_not_food/data/food (102) (Copy).jpg\n",
      "/Users/rish/Desktop/Mini-Projects/MLProjects/Data/food_not_food/data/train_image_png_89.png\n",
      "/Users/rish/Desktop/Mini-Projects/MLProjects/Data/food_not_food/data/food (56) (Copy).jpg\n",
      "/Users/rish/Desktop/Mini-Projects/MLProjects/Data/food_not_food/data/food (2) (Copy).jpg\n",
      "/Users/rish/Desktop/Mini-Projects/MLProjects/Data/food_not_food/data/food (172) (Copy).jpg\n",
      "/Users/rish/Desktop/Mini-Projects/MLProjects/Data/food_not_food/data/train_image_png_204.png\n",
      "/Users/rish/Desktop/Mini-Projects/MLProjects/Data/food_not_food/data/food (85) (Copy).jpg\n",
      "/Users/rish/Desktop/Mini-Projects/MLProjects/Data/food_not_food/data/food (78) (Copy).jpg\n",
      "/Users/rish/Desktop/Mini-Projects/MLProjects/Data/food_not_food/data/train_image_png_5.png\n",
      "/Users/rish/Desktop/Mini-Projects/MLProjects/Data/food_not_food/data/train_image_png_8.png\n",
      "/Users/rish/Desktop/Mini-Projects/MLProjects/Data/food_not_food/data/food (147) (Copy).jpg\n",
      "/Users/rish/Desktop/Mini-Projects/MLProjects/Data/food_not_food/data/food (63) (Copy).jpg\n",
      "/Users/rish/Desktop/Mini-Projects/MLProjects/Data/food_not_food/data/food (137) (Copy).jpg\n",
      "/Users/rish/Desktop/Mini-Projects/MLProjects/Data/food_not_food/data/food (13) (Copy).jpg\n",
      "/Users/rish/Desktop/Mini-Projects/MLProjects/Data/food_not_food/data/food (194) (Copy).jpg\n",
      "/Users/rish/Desktop/Mini-Projects/MLProjects/Data/food_not_food/data/food (169) (Copy).jpg\n",
      "/Users/rish/Desktop/Mini-Projects/MLProjects/Data/food_not_food/data/train_image_png_157.png\n",
      "/Users/rish/Desktop/Mini-Projects/MLProjects/Data/food_not_food/data/train_image_png_84.png\n",
      "/Users/rish/Desktop/Mini-Projects/MLProjects/Data/food_not_food/data/train_image_png_90.png\n",
      "/Users/rish/Desktop/Mini-Projects/MLProjects/Data/food_not_food/data/train_image_png_143.png\n",
      "/Users/rish/Desktop/Mini-Projects/MLProjects/Data/food_not_food/data/train_image_png_194.png\n",
      "/Users/rish/Desktop/Mini-Projects/MLProjects/Data/food_not_food/data/train_image_png_47.png\n",
      "/Users/rish/Desktop/Mini-Projects/MLProjects/Data/food_not_food/data/train_image_png_53.png\n",
      "/Users/rish/Desktop/Mini-Projects/MLProjects/Data/food_not_food/data/train_image_png_180.png\n",
      "/Users/rish/Desktop/Mini-Projects/MLProjects/Data/food_not_food/data/food (119) (Copy).jpg\n",
      "/Users/rish/Desktop/Mini-Projects/MLProjects/Data/food_not_food/data/train_image_png_52.png\n",
      "/Users/rish/Desktop/Mini-Projects/MLProjects/Data/food_not_food/data/train_image_png_181.png\n",
      "/Users/rish/Desktop/Mini-Projects/MLProjects/Data/food_not_food/data/food (105) (Copy).jpg\n",
      "/Users/rish/Desktop/Mini-Projects/MLProjects/Data/food_not_food/data/train_image_png_195.png\n",
      "/Users/rish/Desktop/Mini-Projects/MLProjects/Data/food_not_food/data/train_image_png_46.png\n",
      "/Users/rish/Desktop/Mini-Projects/MLProjects/Data/food_not_food/data/train_image_png_91.png\n",
      "/Users/rish/Desktop/Mini-Projects/MLProjects/Data/food_not_food/data/food (21) (Copy).jpg\n",
      "/Users/rish/Desktop/Mini-Projects/MLProjects/Data/food_not_food/data/train_image_png_142.png\n",
      "/Users/rish/Desktop/Mini-Projects/MLProjects/Data/food_not_food/data/train_image_png_156.png\n",
      "/Users/rish/Desktop/Mini-Projects/MLProjects/Data/food_not_food/data/train_image_png_85.png\n",
      "/Users/rish/Desktop/Mini-Projects/MLProjects/Data/food_not_food/data/food (5) (Copy).jpg\n",
      "/Users/rish/Desktop/Mini-Projects/MLProjects/Data/food_not_food/data/food (175) (Copy).jpg\n",
      "/Users/rish/Desktop/Mini-Projects/MLProjects/Data/food_not_food/data/food (188) (Copy).jpg\n",
      "/Users/rish/Desktop/Mini-Projects/MLProjects/Data/food_not_food/data/food (51) (Copy).jpg\n",
      "/Users/rish/Desktop/Mini-Projects/MLProjects/Data/food_not_food/data/food (200) (Copy).jpg\n",
      "/Users/rish/Desktop/Mini-Projects/MLProjects/Data/food_not_food/data/food (82) (Copy).jpg\n",
      "/Users/rish/Desktop/Mini-Projects/MLProjects/Data/food_not_food/data/train_image_png_9.png\n",
      "/Users/rish/Desktop/Mini-Projects/MLProjects/Data/food_not_food/data/food (97) (Copy).jpg\n",
      "/Users/rish/Desktop/Mini-Projects/MLProjects/Data/food_not_food/data/food (110) (Copy).jpg\n",
      "/Users/rish/Desktop/Mini-Projects/MLProjects/Data/food_not_food/data/food (34) (Copy).jpg\n",
      "/Users/rish/Desktop/Mini-Projects/MLProjects/Data/food_not_food/data/train_image_png_140.png\n",
      "/Users/rish/Desktop/Mini-Projects/MLProjects/Data/food_not_food/data/train_image_png_93.png\n",
      "/Users/rish/Desktop/Mini-Projects/MLProjects/Data/food_not_food/data/train_image_png_87.png\n",
      "/Users/rish/Desktop/Mini-Projects/MLProjects/Data/food_not_food/data/train_image_png_154.png\n",
      "/Users/rish/Desktop/Mini-Projects/MLProjects/Data/food_not_food/data/food (160) (Copy).jpg\n",
      "/Users/rish/Desktop/Mini-Projects/MLProjects/Data/food_not_food/data/train_image_png_168.png\n",
      "/Users/rish/Desktop/Mini-Projects/MLProjects/Data/food_not_food/data/train_image_png_183.png\n",
      "/Users/rish/Desktop/Mini-Projects/MLProjects/Data/food_not_food/data/train_image_png_50.png\n",
      "/Users/rish/Desktop/Mini-Projects/MLProjects/Data/food_not_food/data/train_image_png_44.png\n",
      "/Users/rish/Desktop/Mini-Projects/MLProjects/Data/food_not_food/data/train_image_png_197.png\n",
      "/Users/rish/Desktop/Mini-Projects/MLProjects/Data/food_not_food/data/train_image_png_78.png\n",
      "/Users/rish/Desktop/Mini-Projects/MLProjects/Data/food_not_food/data/food (44) (Copy).jpg\n",
      "/Users/rish/Desktop/Mini-Projects/MLProjects/Data/food_not_food/data/train_image_png_79.png\n",
      "/Users/rish/Desktop/Mini-Projects/MLProjects/Data/food_not_food/data/food (58) (Copy).jpg\n",
      "/Users/rish/Desktop/Mini-Projects/MLProjects/Data/food_not_food/data/train_image_png_45.png\n",
      "/Users/rish/Desktop/Mini-Projects/MLProjects/Data/food_not_food/data/train_image_png_196.png\n",
      "/Users/rish/Desktop/Mini-Projects/MLProjects/Data/food_not_food/data/train_image_png_182.png\n",
      "/Users/rish/Desktop/Mini-Projects/MLProjects/Data/food_not_food/data/food (181) (Copy).jpg\n",
      "/Users/rish/Desktop/Mini-Projects/MLProjects/Data/food_not_food/data/train_image_png_51.png\n",
      "/Users/rish/Desktop/Mini-Projects/MLProjects/Data/food_not_food/data/train_image_png_169.png\n",
      "/Users/rish/Desktop/Mini-Projects/MLProjects/Data/food_not_food/data/train_image_png_86.png\n",
      "/Users/rish/Desktop/Mini-Projects/MLProjects/Data/food_not_food/data/train_image_png_155.png\n",
      "/Users/rish/Desktop/Mini-Projects/MLProjects/Data/food_not_food/data/train_image_png_141.png\n",
      "/Users/rish/Desktop/Mini-Projects/MLProjects/Data/food_not_food/data/train_image_png_92.png\n",
      "/Users/rish/Desktop/Mini-Projects/MLProjects/Data/food_not_food/data/food (28) (Copy).jpg\n",
      "/Users/rish/Desktop/Mini-Projects/MLProjects/Data/food_not_food/data/food (152) (Copy).jpg\n",
      "/Users/rish/Desktop/Mini-Projects/MLProjects/Data/food_not_food/data/food (76) (Copy).jpg\n",
      "/Users/rish/Desktop/Mini-Projects/MLProjects/Data/food_not_food/data/food (122) (Copy).jpg\n",
      "/Users/rish/Desktop/Mini-Projects/MLProjects/Data/food_not_food/data/food (198) (Copy).jpg\n",
      "/Users/rish/Desktop/Mini-Projects/MLProjects/Data/food_not_food/data/food (41) (Copy).jpg\n",
      "/Users/rish/Desktop/Mini-Projects/MLProjects/Data/food_not_food/data/food (165) (Copy).jpg\n",
      "/Users/rish/Desktop/Mini-Projects/MLProjects/Data/food_not_food/data/food (31) (Copy).jpg\n",
      "/Users/rish/Desktop/Mini-Projects/MLProjects/Data/food_not_food/data/food (115) (Copy).jpg\n",
      "/Users/rish/Desktop/Mini-Projects/MLProjects/Data/food_not_food/data/food (92) (Copy).jpg\n",
      "/Users/rish/Desktop/Mini-Projects/MLProjects/Data/food_not_food/data/train_image_png_179.png\n",
      "/Users/rish/Desktop/Mini-Projects/MLProjects/Data/food_not_food/data/train_image_png_96.png\n",
      "/Users/rish/Desktop/Mini-Projects/MLProjects/Data/food_not_food/data/train_image_png_145.png\n",
      "/Users/rish/Desktop/Mini-Projects/MLProjects/Data/food_not_food/data/train_image_png_151.png\n",
      "/Users/rish/Desktop/Mini-Projects/MLProjects/Data/food_not_food/data/train_image_png_82.png\n",
      "/Users/rish/Desktop/Mini-Projects/MLProjects/Data/food_not_food/data/train_image_png_69.png\n",
      "/Users/rish/Desktop/Mini-Projects/MLProjects/Data/food_not_food/data/train_image_png_55.png\n",
      "/Users/rish/Desktop/Mini-Projects/MLProjects/Data/food_not_food/data/train_image_png_186.png\n",
      "/Users/rish/Desktop/Mini-Projects/MLProjects/Data/food_not_food/data/train_image_png_192.png\n",
      "/Users/rish/Desktop/Mini-Projects/MLProjects/Data/food_not_food/data/train_image_png_41.png\n",
      "/Users/rish/Desktop/Mini-Projects/MLProjects/Data/food_not_food/data/train_image_png_193.png\n",
      "/Users/rish/Desktop/Mini-Projects/MLProjects/Data/food_not_food/data/train_image_png_40.png\n",
      "/Users/rish/Desktop/Mini-Projects/MLProjects/Data/food_not_food/data/train_image_png_54.png\n",
      "/Users/rish/Desktop/Mini-Projects/MLProjects/Data/food_not_food/data/train_image_png_187.png\n",
      "/Users/rish/Desktop/Mini-Projects/MLProjects/Data/food_not_food/data/train_image_png_68.png\n",
      "/Users/rish/Desktop/Mini-Projects/MLProjects/Data/food_not_food/data/train_image_png_150.png\n",
      "/Users/rish/Desktop/Mini-Projects/MLProjects/Data/food_not_food/data/train_image_png_83.png\n",
      "/Users/rish/Desktop/Mini-Projects/MLProjects/Data/food_not_food/data/train_image_png_97.png\n",
      "/Users/rish/Desktop/Mini-Projects/MLProjects/Data/food_not_food/data/train_image_png_144.png\n",
      "/Users/rish/Desktop/Mini-Projects/MLProjects/Data/food_not_food/data/food (127) (Copy).jpg\n",
      "/Users/rish/Desktop/Mini-Projects/MLProjects/Data/food_not_food/data/train_image_png_178.png\n",
      "/Users/rish/Desktop/Mini-Projects/MLProjects/Data/food_not_food/data/food (73) (Copy).jpg\n",
      "/Users/rish/Desktop/Mini-Projects/MLProjects/Data/food_not_food/data/food (157) (Copy).jpg\n",
      "/Users/rish/Desktop/Mini-Projects/MLProjects/Data/food_not_food/data/food (109) (Copy).jpg\n",
      "/Users/rish/Desktop/Mini-Projects/MLProjects/Data/food_not_food/data/food (179) (Copy).jpg\n",
      "/Users/rish/Desktop/Mini-Projects/MLProjects/Data/food_not_food/data/food (9) (Copy).jpg\n",
      "/Users/rish/Desktop/Mini-Projects/MLProjects/Data/food_not_food/data/food (184) (Copy).jpg\n",
      "/Users/rish/Desktop/Mini-Projects/MLProjects/Data/food_not_food/data/food (38) (Copy).jpg\n",
      "/Users/rish/Desktop/Mini-Projects/MLProjects/Data/food_not_food/data/food (48) (Copy).jpg\n",
      "/Users/rish/Desktop/Mini-Projects/MLProjects/Data/food_not_food/data/food (191) (Copy).jpg\n",
      "/Users/rish/Desktop/Mini-Projects/MLProjects/Data/food_not_food/data/food (16) (Copy).jpg\n",
      "/Users/rish/Desktop/Mini-Projects/MLProjects/Data/food_not_food/data/food (132) (Copy).jpg\n",
      "/Users/rish/Desktop/Mini-Projects/MLProjects/Data/food_not_food/data/train_image_png_81.png\n",
      "/Users/rish/Desktop/Mini-Projects/MLProjects/Data/food_not_food/data/food (66) (Copy).jpg\n",
      "/Users/rish/Desktop/Mini-Projects/MLProjects/Data/food_not_food/data/train_image_png_152.png\n",
      "/Users/rish/Desktop/Mini-Projects/MLProjects/Data/food_not_food/data/train_image_png_146.png\n",
      "/Users/rish/Desktop/Mini-Projects/MLProjects/Data/food_not_food/data/train_image_png_95.png\n",
      "/Users/rish/Desktop/Mini-Projects/MLProjects/Data/food_not_food/data/train_image_png_42.png\n",
      "/Users/rish/Desktop/Mini-Projects/MLProjects/Data/food_not_food/data/train_image_png_191.png\n",
      "/Users/rish/Desktop/Mini-Projects/MLProjects/Data/food_not_food/data/train_image_png_185.png\n",
      "/Users/rish/Desktop/Mini-Projects/MLProjects/Data/food_not_food/data/train_image_png_56.png\n",
      "/Users/rish/Desktop/Mini-Projects/MLProjects/Data/food_not_food/data/food (142) (Copy).jpg\n",
      "/Users/rish/Desktop/Mini-Projects/MLProjects/Data/food_not_food/data/train_image_png_184.png\n",
      "/Users/rish/Desktop/Mini-Projects/MLProjects/Data/food_not_food/data/train_image_png_57.png\n",
      "/Users/rish/Desktop/Mini-Projects/MLProjects/Data/food_not_food/data/train_image_png_43.png\n",
      "/Users/rish/Desktop/Mini-Projects/MLProjects/Data/food_not_food/data/train_image_png_190.png\n",
      "/Users/rish/Desktop/Mini-Projects/MLProjects/Data/food_not_food/data/food (87) (Copy).jpg\n",
      "/Users/rish/Desktop/Mini-Projects/MLProjects/Data/food_not_food/data/train_image_png_147.png\n",
      "/Users/rish/Desktop/Mini-Projects/MLProjects/Data/food_not_food/data/train_image_png_94.png\n",
      "/Users/rish/Desktop/Mini-Projects/MLProjects/Data/food_not_food/data/train_image_png_80.png\n",
      "/Users/rish/Desktop/Mini-Projects/MLProjects/Data/food_not_food/data/train_image_png_153.png\n",
      "/Users/rish/Desktop/Mini-Projects/MLProjects/Data/food_not_food/data/food (54) (Copy).jpg\n",
      "/Users/rish/Desktop/Mini-Projects/MLProjects/Data/food_not_food/data/food (170) (Copy).jpg\n",
      "/Users/rish/Desktop/Mini-Projects/MLProjects/Data/food_not_food/data/food (24) (Copy).jpg\n",
      "/Users/rish/Desktop/Mini-Projects/MLProjects/Data/food_not_food/data/food (100) (Copy).jpg\n",
      "/Users/rish/Desktop/Mini-Projects/MLProjects/Data/food_not_food/data/food (173) (Copy).jpg\n",
      "/Users/rish/Desktop/Mini-Projects/MLProjects/Data/food_not_food/data/food (3) (Copy).jpg\n",
      "/Users/rish/Desktop/Mini-Projects/MLProjects/Data/food_not_food/data/food (57) (Copy).jpg\n",
      "/Users/rish/Desktop/Mini-Projects/MLProjects/Data/food_not_food/data/food (103) (Copy).jpg\n",
      "/Users/rish/Desktop/Mini-Projects/MLProjects/Data/food_not_food/data/food (27) (Copy).jpg\n",
      "/Users/rish/Desktop/Mini-Projects/MLProjects/Data/food_not_food/data/food (79) (Copy).jpg\n",
      "/Users/rish/Desktop/Mini-Projects/MLProjects/Data/food_not_food/data/food (84) (Copy).jpg\n",
      "/Users/rish/Desktop/Mini-Projects/MLProjects/Data/food_not_food/data/train_image_png_134.png\n",
      "/Users/rish/Desktop/Mini-Projects/MLProjects/Data/food_not_food/data/train_image_png_120.png\n",
      "/Users/rish/Desktop/Mini-Projects/MLProjects/Data/food_not_food/data/train_image_png_108.png\n",
      "/Users/rish/Desktop/Mini-Projects/MLProjects/Data/food_not_food/data/train_image_png_24.png\n",
      "/Users/rish/Desktop/Mini-Projects/MLProjects/Data/food_not_food/data/train_image_png_30.png\n",
      "/Users/rish/Desktop/Mini-Projects/MLProjects/Data/food_not_food/data/train_image_png_18.png\n",
      "/Users/rish/Desktop/Mini-Projects/MLProjects/Data/food_not_food/data/train_image_png_19.png\n",
      "/Users/rish/Desktop/Mini-Projects/MLProjects/Data/food_not_food/data/food (131) (Copy).jpg\n",
      "/Users/rish/Desktop/Mini-Projects/MLProjects/Data/food_not_food/data/train_image_png_31.png\n",
      "/Users/rish/Desktop/Mini-Projects/MLProjects/Data/food_not_food/data/train_image_png_25.png\n",
      "/Users/rish/Desktop/Mini-Projects/MLProjects/Data/food_not_food/data/food (15) (Copy).jpg\n",
      "/Users/rish/Desktop/Mini-Projects/MLProjects/Data/food_not_food/data/train_image_png_109.png\n",
      "/Users/rish/Desktop/Mini-Projects/MLProjects/Data/food_not_food/data/train_image_png_121.png\n",
      "/Users/rish/Desktop/Mini-Projects/MLProjects/Data/food_not_food/data/train_image_png_135.png\n",
      "/Users/rish/Desktop/Mini-Projects/MLProjects/Data/food_not_food/data/food (141) (Copy).jpg\n",
      "/Users/rish/Desktop/Mini-Projects/MLProjects/Data/food_not_food/data/food (98) (Copy).jpg\n",
      "/Users/rish/Desktop/Mini-Projects/MLProjects/Data/food_not_food/data/food (65) (Copy).jpg\n",
      "/Users/rish/Desktop/Mini-Projects/MLProjects/Data/food_not_food/data/food (192) (Copy).jpg\n",
      "/Users/rish/Desktop/Mini-Projects/MLProjects/Data/food_not_food/data/food (187) (Copy).jpg\n",
      "/Users/rish/Desktop/Mini-Projects/MLProjects/Data/food_not_food/data/food (124) (Copy).jpg\n",
      "/Users/rish/Desktop/Mini-Projects/MLProjects/Data/food_not_food/data/food (154) (Copy).jpg\n",
      "/Users/rish/Desktop/Mini-Projects/MLProjects/Data/food_not_food/data/train_image_png_123.png\n",
      "/Users/rish/Desktop/Mini-Projects/MLProjects/Data/food_not_food/data/train_image_png_137.png\n",
      "/Users/rish/Desktop/Mini-Projects/MLProjects/Data/food_not_food/data/train_image_png_33.png\n",
      "/Users/rish/Desktop/Mini-Projects/MLProjects/Data/food_not_food/data/food (70) (Copy).jpg\n",
      "/Users/rish/Desktop/Mini-Projects/MLProjects/Data/food_not_food/data/train_image_png_27.png\n",
      "/Users/rish/Desktop/Mini-Projects/MLProjects/Data/food_not_food/data/train_image_png_26.png\n",
      "/Users/rish/Desktop/Mini-Projects/MLProjects/Data/food_not_food/data/train_image_png_32.png\n",
      "/Users/rish/Desktop/Mini-Projects/MLProjects/Data/food_not_food/data/food (91) (Copy).jpg\n",
      "/Users/rish/Desktop/Mini-Projects/MLProjects/Data/food_not_food/data/train_image_png_136.png\n",
      "/Users/rish/Desktop/Mini-Projects/MLProjects/Data/food_not_food/data/food (148) (Copy).jpg\n",
      "/Users/rish/Desktop/Mini-Projects/MLProjects/Data/food_not_food/data/train_image_png_122.png\n",
      "/Users/rish/Desktop/Mini-Projects/MLProjects/Data/food_not_food/data/food (138) (Copy).jpg\n",
      "/Users/rish/Desktop/Mini-Projects/MLProjects/Data/food_not_food/data/food (166) (Copy).jpg\n",
      "/Users/rish/Desktop/Mini-Projects/MLProjects/Data/food_not_food/data/food (42) (Copy).jpg\n",
      "/Users/rish/Desktop/Mini-Projects/MLProjects/Data/food_not_food/data/food (116) (Copy).jpg\n",
      "/Users/rish/Desktop/Mini-Projects/MLProjects/Data/food_not_food/data/food (32) (Copy).jpg\n",
      "/Users/rish/Desktop/Mini-Projects/MLProjects/Data/food_not_food/data/food (75) (Copy).jpg\n",
      "/Users/rish/Desktop/Mini-Projects/MLProjects/Data/food_not_food/data/food (151) (Copy).jpg\n",
      "/Users/rish/Desktop/Mini-Projects/MLProjects/Data/food_not_food/data/food (88) (Copy).jpg\n",
      "/Users/rish/Desktop/Mini-Projects/MLProjects/Data/food_not_food/data/food (121) (Copy).jpg\n",
      "/Users/rish/Desktop/Mini-Projects/MLProjects/Data/food_not_food/data/food (182) (Copy).jpg\n",
      "/Users/rish/Desktop/Mini-Projects/MLProjects/Data/food_not_food/data/train_image_png_126.png\n",
      "/Users/rish/Desktop/Mini-Projects/MLProjects/Data/food_not_food/data/train_image_png_132.png\n",
      "/Users/rish/Desktop/Mini-Projects/MLProjects/Data/food_not_food/data/train_image_png_36.png\n",
      "/Users/rish/Desktop/Mini-Projects/MLProjects/Data/food_not_food/data/train_image_png_22.png\n",
      "/Users/rish/Desktop/Mini-Projects/MLProjects/Data/food_not_food/data/train_image_png_23.png\n",
      "/Users/rish/Desktop/Mini-Projects/MLProjects/Data/food_not_food/data/train_image_png_37.png\n",
      "/Users/rish/Desktop/Mini-Projects/MLProjects/Data/food_not_food/data/food (37) (Copy).jpg\n",
      "/Users/rish/Desktop/Mini-Projects/MLProjects/Data/food_not_food/data/food (113) (Copy).jpg\n",
      "/Users/rish/Desktop/Mini-Projects/MLProjects/Data/food_not_food/data/train_image_png_133.png\n",
      "/Users/rish/Desktop/Mini-Projects/MLProjects/Data/food_not_food/data/train_image_png_127.png\n",
      "/Users/rish/Desktop/Mini-Projects/MLProjects/Data/food_not_food/data/food (47) (Copy).jpg\n",
      "/Users/rish/Desktop/Mini-Projects/MLProjects/Data/food_not_food/data/food (163) (Copy).jpg\n",
      "/Users/rish/Desktop/Mini-Projects/MLProjects/Data/food_not_food/data/food (19) (Copy).jpg\n",
      "/Users/rish/Desktop/Mini-Projects/MLProjects/Data/food_not_food/data/food (94) (Copy).jpg\n",
      "/Users/rish/Desktop/Mini-Projects/MLProjects/Data/food_not_food/data/food (69) (Copy).jpg\n",
      "/Users/rish/Desktop/Mini-Projects/MLProjects/Data/food_not_food/data/food (128) (Copy).jpg\n",
      "/Users/rish/Desktop/Mini-Projects/MLProjects/Data/food_not_food/data/food (203) (Copy).jpg\n",
      "/Users/rish/Desktop/Mini-Projects/MLProjects/Data/food_not_food/data/food (81) (Copy).jpg\n",
      "/Users/rish/Desktop/Mini-Projects/MLProjects/Data/food_not_food/data/food (158) (Copy).jpg\n",
      "/Users/rish/Desktop/Mini-Projects/MLProjects/Data/food_not_food/data/food (22) (Copy).jpg\n",
      "/Users/rish/Desktop/Mini-Projects/MLProjects/Data/food_not_food/data/food (106) (Copy).jpg\n",
      "/Users/rish/Desktop/Mini-Projects/MLProjects/Data/food_not_food/data/food (52) (Copy).jpg\n",
      "/Users/rish/Desktop/Mini-Projects/MLProjects/Data/food_not_food/data/train_image_png_119.png\n",
      "/Users/rish/Desktop/Mini-Projects/MLProjects/Data/food_not_food/data/train_image_png_131.png\n",
      "/Users/rish/Desktop/Mini-Projects/MLProjects/Data/food_not_food/data/train_image_png_125.png\n",
      "/Users/rish/Desktop/Mini-Projects/MLProjects/Data/food_not_food/data/food (176) (Copy).jpg\n",
      "/Users/rish/Desktop/Mini-Projects/MLProjects/Data/food_not_food/data/train_image_png_21.png\n",
      "/Users/rish/Desktop/Mini-Projects/MLProjects/Data/food_not_food/data/food (6) (Copy).jpg\n",
      "/Users/rish/Desktop/Mini-Projects/MLProjects/Data/food_not_food/data/train_image_png_35.png\n",
      "/Users/rish/Desktop/Mini-Projects/MLProjects/Data/food_not_food/data/train_image_png_34.png\n",
      "/Users/rish/Desktop/Mini-Projects/MLProjects/Data/food_not_food/data/train_image_png_20.png\n",
      "/Users/rish/Desktop/Mini-Projects/MLProjects/Data/food_not_food/data/food (197) (Copy).jpg\n",
      "/Users/rish/Desktop/Mini-Projects/MLProjects/Data/food_not_food/data/train_image_png_124.png\n",
      "/Users/rish/Desktop/Mini-Projects/MLProjects/Data/food_not_food/data/train_image_png_130.png\n",
      "/Users/rish/Desktop/Mini-Projects/MLProjects/Data/food_not_food/data/train_image_png_118.png\n",
      "/Users/rish/Desktop/Mini-Projects/MLProjects/Data/food_not_food/data/food (60) (Copy).jpg\n",
      "/Users/rish/Desktop/Mini-Projects/MLProjects/Data/food_not_food/data/food (144) (Copy).jpg\n",
      "/Users/rish/Desktop/Mini-Projects/MLProjects/Data/food_not_food/data/food (10) (Copy).jpg\n",
      "/Users/rish/Desktop/Mini-Projects/MLProjects/Data/food_not_food/data/food (134) (Copy).jpg\n"
     ]
    }
   ],
   "source": [
    "for dir_name, _, filenames in os.walk(\"/Users/rish/Desktop/Mini-Projects/MLProjects/Data/food_not_food\"):\n",
    "    for filename in filenames:\n",
    "        print(os.path.join(dir_name, filename))"
   ]
  },
  {
   "cell_type": "code",
   "execution_count": 3,
   "metadata": {},
   "outputs": [
    {
     "name": "stdout",
     "output_type": "stream",
     "text": [
      "/Users/rish/Desktop/Mini-Projects/MLProjects/food_not_food_dir\n",
      "\u001b[34mFood\u001b[m\u001b[m/    \u001b[34mNotFood\u001b[m\u001b[m/\n"
     ]
    }
   ],
   "source": [
    "%mkdir food_not_food_dir\n",
    "%cd food_not_food_dir\n",
    "%mkdir Food NotFood\n",
    "\n",
    "%cp /Users/rish/Desktop/Mini-Projects/MLProjects/Data/food_not_food/data/food*.jpg Food/\n",
    "%cp /Users/rish/Desktop/Mini-Projects/MLProjects/Data/food_not_food/data/train_image_png_*.png NotFood/\n",
    "\n",
    "%ls"
   ]
  },
  {
   "cell_type": "code",
   "execution_count": 3,
   "metadata": {},
   "outputs": [],
   "source": [
    "epochs = 3\n",
    "batch_size = 16\n",
    "img_hieght, img_width = 300, 300\n",
    "input_shape = (img_hieght, img_width, 3)"
   ]
  },
  {
   "cell_type": "code",
   "execution_count": 9,
   "metadata": {},
   "outputs": [],
   "source": [
    "from tensorflow.keras.preprocessing.image import ImageDataGenerator"
   ]
  },
  {
   "cell_type": "code",
   "execution_count": 10,
   "metadata": {},
   "outputs": [],
   "source": [
    "def create_data_binary(data_bs):\n",
    "    data_bs = pathlib.Path(data_bs)\n",
    "    splitfolders.ratio(data_bs, output=\"FoodNotFoodIMG/\", seed = 42, ratio = (0.7, 0.15, 0.15), group_prefix=None)\n",
    "    data_gen = ImageDataGenerator(rescale=1.0/255)\n",
    "    train_ds = data_gen.flow_from_directory(\"FoodNotFoodIMG/train/\", target_size = (img_hieght, img_width), class_mode = 'binary', \n",
    "                                            batch_size = batch_size, subset = \"training\")\n",
    "    val_ds = data_gen.flow_from_directory(\"FoodNotFoodIMG/val/\", target_size = (img_hieght, img_width), class_mode = 'binary', \n",
    "                                            batch_size = batch_size, shuffle = False)\n",
    "    test_ds = data_gen.flow_from_directory(\"FoodNotFoodIMG/test\", target_size = (img_hieght, img_width), class_mode = 'binary',\n",
    "                                            batch_size = batch_size, shuffle = False)\n",
    "    \n",
    "    return train_ds, val_ds, test_ds\n"
   ]
  },
  {
   "cell_type": "code",
   "execution_count": 11,
   "metadata": {},
   "outputs": [
    {
     "name": "stderr",
     "output_type": "stream",
     "text": [
      "Copying files: 408 files [00:00, 1333.40 files/s]"
     ]
    },
    {
     "name": "stdout",
     "output_type": "stream",
     "text": [
      "Found 284 images belonging to 2 classes.\n",
      "Found 60 images belonging to 2 classes.\n",
      "Found 64 images belonging to 2 classes.\n"
     ]
    },
    {
     "name": "stderr",
     "output_type": "stream",
     "text": [
      "\n"
     ]
    }
   ],
   "source": [
    "train_ds, val_ds, test_ds = create_data_binary(\"/Users/rish/Desktop/Mini-Projects/MLProjects/food_not_food_dir\")"
   ]
  },
  {
   "cell_type": "markdown",
   "metadata": {},
   "source": [
    "# Normal Model"
   ]
  },
  {
   "cell_type": "code",
   "execution_count": 13,
   "metadata": {},
   "outputs": [],
   "source": [
    "model_1 = tf.keras.Sequential([\n",
    "    tf.keras.layers.Conv2D(32, (3,3), activation = \"relu\", input_shape = input_shape),\n",
    "    tf.keras.layers.Conv2D(16, (2,2), activation = \"relu\"),\n",
    "    tf.keras.layers.MaxPool2D(2),\n",
    "    tf.keras.layers.Flatten(),\n",
    "\n",
    "    tf.keras.layers.Dense(100, activation = \"relu\"),\n",
    "    tf.keras.layers.Dense(30, activation = \"relu\"),\n",
    "\n",
    "    tf.keras.layers.Dense(1, activation = \"sigmoid\")\n",
    "])"
   ]
  },
  {
   "cell_type": "code",
   "execution_count": 14,
   "metadata": {},
   "outputs": [],
   "source": [
    "model_1.compile(loss = \"binary_crossentropy\", optimizer = \"adam\", \n",
    "metrics = [\"accuracy\"])"
   ]
  },
  {
   "cell_type": "code",
   "execution_count": 15,
   "metadata": {},
   "outputs": [
    {
     "name": "stdout",
     "output_type": "stream",
     "text": [
      "Epoch 1/3\n",
      "18/18 [==============================] - 14s 748ms/step - loss: 1.2235 - accuracy: 0.7077\n",
      "Epoch 2/3\n",
      "18/18 [==============================] - 13s 742ms/step - loss: 0.4117 - accuracy: 0.8803\n",
      "Epoch 3/3\n",
      "18/18 [==============================] - 13s 744ms/step - loss: 0.1888 - accuracy: 0.9331\n"
     ]
    },
    {
     "data": {
      "text/plain": [
       "<keras.callbacks.History at 0x7f85678ea3d0>"
      ]
     },
     "execution_count": 15,
     "metadata": {},
     "output_type": "execute_result"
    }
   ],
   "source": [
    "model_1.fit(train_ds, batch_size = batch_size, epochs = epochs)"
   ]
  },
  {
   "cell_type": "code",
   "execution_count": 17,
   "metadata": {},
   "outputs": [
    {
     "name": "stdout",
     "output_type": "stream",
     "text": [
      "4/4 [==============================] - 1s 146ms/step - loss: 0.4136 - accuracy: 0.8833\n"
     ]
    },
    {
     "data": {
      "text/plain": [
       "[0.41360580921173096, 0.8833333253860474]"
      ]
     },
     "execution_count": 17,
     "metadata": {},
     "output_type": "execute_result"
    }
   ],
   "source": [
    "model_1.evaluate(val_ds)"
   ]
  },
  {
   "cell_type": "code",
   "execution_count": 19,
   "metadata": {},
   "outputs": [
    {
     "name": "stdout",
     "output_type": "stream",
     "text": [
      "4/4 [==============================] - 1s 154ms/step\n"
     ]
    }
   ],
   "source": [
    "preds = model_1.predict(test_ds)"
   ]
  },
  {
   "cell_type": "code",
   "execution_count": 26,
   "metadata": {},
   "outputs": [
    {
     "data": {
      "text/plain": [
       "64"
      ]
     },
     "execution_count": 26,
     "metadata": {},
     "output_type": "execute_result"
    }
   ],
   "source": [
    "len(preds)"
   ]
  },
  {
   "cell_type": "code",
   "execution_count": 21,
   "metadata": {},
   "outputs": [],
   "source": [
    "preds = np.array(preds)"
   ]
  },
  {
   "cell_type": "code",
   "execution_count": 24,
   "metadata": {},
   "outputs": [
    {
     "data": {
      "text/plain": [
       "(64, 1)"
      ]
     },
     "execution_count": 24,
     "metadata": {},
     "output_type": "execute_result"
    }
   ],
   "source": [
    "preds.shape"
   ]
  },
  {
   "cell_type": "code",
   "execution_count": 37,
   "metadata": {},
   "outputs": [],
   "source": [
    "preds = preds.round()"
   ]
  },
  {
   "cell_type": "code",
   "execution_count": 39,
   "metadata": {},
   "outputs": [
    {
     "data": {
      "text/plain": [
       "0.0"
      ]
     },
     "execution_count": 39,
     "metadata": {},
     "output_type": "execute_result"
    }
   ],
   "source": [
    "preds.min()"
   ]
  },
  {
   "cell_type": "code",
   "execution_count": 40,
   "metadata": {},
   "outputs": [
    {
     "data": {
      "text/plain": [
       "1.0"
      ]
     },
     "execution_count": 40,
     "metadata": {},
     "output_type": "execute_result"
    }
   ],
   "source": [
    "preds.max()"
   ]
  },
  {
   "cell_type": "code",
   "execution_count": 44,
   "metadata": {},
   "outputs": [],
   "source": [
    "def num_of_preds_type(preds): \n",
    "    ones = 0\n",
    "    zeros = 0\n",
    "    for i in preds:\n",
    "        if i == 1:\n",
    "            ones += 1\n",
    "        else:\n",
    "            zeros += 1\n",
    "\n",
    "    return ones, zeros"
   ]
  },
  {
   "cell_type": "code",
   "execution_count": 45,
   "metadata": {},
   "outputs": [],
   "source": [
    "ones, zeros = num_of_preds_type(preds)"
   ]
  },
  {
   "cell_type": "code",
   "execution_count": 46,
   "metadata": {},
   "outputs": [
    {
     "name": "stdout",
     "output_type": "stream",
     "text": [
      "26\n",
      "38\n"
     ]
    }
   ],
   "source": [
    "print(ones)\n",
    "print(zeros)"
   ]
  },
  {
   "cell_type": "markdown",
   "metadata": {},
   "source": [
    "# Making Predictions"
   ]
  },
  {
   "cell_type": "code",
   "execution_count": 78,
   "metadata": {},
   "outputs": [],
   "source": [
    "def load_img(img_link):\n",
    "    image = tf.keras.preprocessing.image.load_img(img_link)\n",
    "    image = tf.image.resize(image, (img_hieght, img_width))\n",
    "    image = image/255\n",
    "    return image\n"
   ]
  },
  {
   "cell_type": "code",
   "execution_count": 86,
   "metadata": {},
   "outputs": [],
   "source": [
    "def make_prediction(image):\n",
    "    plt.imshow(image)\n",
    "    image = tf.expand_dims(image, 0)\n",
    "    pred = model_1.predict(image)\n",
    "    pred = np.array(pred)\n",
    "    pred = pred.round()\n",
    "    if pred == 0:\n",
    "        plt.title(\"Food\")\n",
    "    if pred == 1:\n",
    "        plt.title(\"Not Food\")"
   ]
  },
  {
   "cell_type": "code",
   "execution_count": 85,
   "metadata": {},
   "outputs": [],
   "source": [
    "image = load_img(img_link = \"/Users/rish/Desktop/Mini-Projects/MLProjects/Data/not_food.jpg\")"
   ]
  },
  {
   "cell_type": "code",
   "execution_count": 87,
   "metadata": {},
   "outputs": [
    {
     "name": "stdout",
     "output_type": "stream",
     "text": [
      "1/1 [==============================] - 0s 40ms/step\n"
     ]
    },
    {
     "data": {
      "image/png": "[encoded data removed]",
      "text/plain": [
       "<Figure size 432x288 with 1 Axes>"
      ]
     },
     "metadata": {
      "needs_background": "light"
     },
     "output_type": "display_data"
    }
   ],
   "source": [
    "make_prediction(image)"
   ]
  },
  {
   "cell_type": "code",
   "execution_count": null,
   "metadata": {},
   "outputs": [],
   "source": []
  }
 ],
 "metadata": {
  "kernelspec": {
   "display_name": "Python 3.9.12 ('base')",
   "language": "python",
   "name": "python3"
  },
  "language_info": {
   "codemirror_mode": {
    "name": "ipython",
    "version": 3
   },
   "file_extension": ".py",
   "mimetype": "text/x-python",
   "name": "python",
   "nbconvert_exporter": "python",
   "pygments_lexer": "ipython3",
   "version": "3.9.12"
  },
  "orig_nbformat": 4,
  "vscode": {
   "interpreter": {
    "hash": "31b54185ef9236271117b65ccd40447ed8c429f8dbf9fa6a895ee5e4cb482fd5"
   }
  }
 },
 "nbformat": 4,
 "nbformat_minor": 2
}
