{
  "cells": [
    {
      "cell_type": "markdown",
      "metadata": {
        "id": "view-in-github",
        "colab_type": "text"
      },
      "source": [
        "<a href=\"https://colab.research.google.com/github/mrrkdas/Mini-Projects/blob/main/CNN_with_MNIST.ipynb\" target=\"_parent\"><img src=\"https://colab.research.google.com/assets/colab-badge.svg\" alt=\"Open In Colab\"/></a>"
      ]
    },
    {
      "cell_type": "code",
      "execution_count": 14,
      "metadata": {
        "id": "cwdnawp6GVwr"
      },
      "outputs": [],
      "source": [
        "import tensorflow as tf\n",
        "import numpy as np\n",
        "import pandas as pd\n",
        "import matplotlib.pyplot as plt\n",
        "\n",
        "from tensorflow.keras.layers import Dense, Conv2D, MaxPooling2D, Flatten, Input\n",
        "from tensorflow.keras.datasets.mnist import load_data"
      ]
    },
    {
      "cell_type": "code",
      "execution_count": 15,
      "metadata": {
        "colab": {
          "base_uri": "https://localhost:8080/"
        },
        "id": "wSVgnK0-GnrM",
        "outputId": "a7b975e4-6985-449e-8c9b-646da72eaf32"
      },
      "outputs": [
        {
          "output_type": "execute_result",
          "data": {
            "text/plain": [
              "array([5, 0, 4, ..., 5, 6, 8], dtype=uint8)"
            ]
          },
          "metadata": {},
          "execution_count": 15
        }
      ],
      "source": [
        "(train_data, train_label), (test_data, test_label) = load_data()\n",
        "train_label"
      ]
    },
    {
      "cell_type": "markdown",
      "metadata": {
        "id": "hVX-BhW9Gq_g"
      },
      "source": [
        "## Getting to know the Data"
      ]
    },
    {
      "cell_type": "code",
      "execution_count": 16,
      "metadata": {
        "colab": {
          "base_uri": "https://localhost:8080/",
          "height": 589
        },
        "id": "ZjtTeELFGpNO",
        "outputId": "5ca734e5-4838-476f-a686-057700f54fcb"
      },
      "outputs": [
        {
          "output_type": "display_data",
          "data": {
            "text/plain": [
              "<Figure size 720x720 with 25 Axes>"
            ],
            "image/png": "[encoded data removed]"
          },
          "metadata": {}
        }
      ],
      "source": [
        "# Copyed from the tensorflow tutorial \n",
        "classes = ['0', '1', '2', '3', '4','5', '6', '7', '8', ' 9']\n",
        "\n",
        "\n",
        "plt.figure(figsize=(10,10))\n",
        "for i in range(25):\n",
        "    plt.subplot(5,5,i+1)\n",
        "    plt.xticks([])\n",
        "    plt.yticks([])\n",
        "    plt.grid(False)\n",
        "    plt.imshow(train_data[i])\n",
        "    # which is why you need the extra index\n",
        "    plt.xlabel(classes[train_label[i]])\n",
        "plt.show()"
      ]
    },
    {
      "cell_type": "markdown",
      "metadata": {
        "id": "v-FhJC9aG1pN"
      },
      "source": [
        "## Preprocessing"
      ]
    },
    {
      "cell_type": "code",
      "execution_count": 17,
      "metadata": {
        "id": "n_lXBH4nGuWd"
      },
      "outputs": [],
      "source": [
        "# Standardizing\n",
        "train_images = train_data/255\n",
        "test_images = test_data/255"
      ]
    },
    {
      "cell_type": "code",
      "execution_count": 18,
      "metadata": {
        "id": "KcVVfpk3G3l0"
      },
      "outputs": [],
      "source": [
        "# Reshaping the images\n",
        "train_images_s = np.reshape(train_images, (60000, 28, 28, 1))\n",
        "test_images_s = np.reshape(test_images.copy(), (10000, 28, 28, 1))"
      ]
    },
    {
      "cell_type": "code",
      "execution_count": 19,
      "metadata": {
        "id": "1pNQjP2ZG5TL"
      },
      "outputs": [],
      "source": [
        "from tensorflow.keras.utils import to_categorical\n",
        "\n",
        "train_labels = to_categorical(train_label, num_classes = 10)\n",
        "test_labels = to_categorical(test_label.copy(), num_classes = 10)"
      ]
    },
    {
      "cell_type": "code",
      "execution_count": 20,
      "metadata": {
        "colab": {
          "base_uri": "https://localhost:8080/"
        },
        "id": "iaVmRKXwG6mV",
        "outputId": "c62da99c-1da4-447e-f666-4911ec94466d"
      },
      "outputs": [
        {
          "output_type": "execute_result",
          "data": {
            "text/plain": [
              "((60000, 10), (10000, 10))"
            ]
          },
          "metadata": {},
          "execution_count": 20
        }
      ],
      "source": [
        "train_labels.shape, test_labels.shape"
      ]
    },
    {
      "cell_type": "markdown",
      "metadata": {
        "id": "xwzuNrZ6G7u3"
      },
      "source": [
        "## Model"
      ]
    },
    {
      "cell_type": "code",
      "execution_count": 21,
      "metadata": {
        "id": "ZR_Gsch0G9Zo"
      },
      "outputs": [],
      "source": [
        "input = Input(shape = (28, 28, 1))\n",
        "\n",
        "conv1 = Conv2D(32, (2,2),  activation = 'relu')\n",
        "\n",
        "x = conv1(input)\n",
        "x = MaxPooling2D((2,2)) (x)\n",
        "x = Conv2D(16, (2,2), activation = 'relu') (x)\n",
        "x = Flatten() (x)\n",
        "\n",
        "x = Dense(32, activation = 'relu') (x)\n",
        "\n",
        "output = Dense(10, activation = 'softmax') (x)\n",
        "\n",
        "model = tf.keras.models.Model(input, output)"
      ]
    },
    {
      "cell_type": "code",
      "execution_count": 22,
      "metadata": {
        "colab": {
          "base_uri": "https://localhost:8080/"
        },
        "id": "YEcR1hRSG_K4",
        "outputId": "eec3af4a-3576-483d-aca5-ba238dfb8317"
      },
      "outputs": [
        {
          "output_type": "stream",
          "name": "stdout",
          "text": [
            "Model: \"model_1\"\n",
            "_________________________________________________________________\n",
            " Layer (type)                Output Shape              Param #   \n",
            "=================================================================\n",
            " input_2 (InputLayer)        [(None, 28, 28, 1)]       0         \n",
            "                                                                 \n",
            " conv2d_2 (Conv2D)           (None, 27, 27, 32)        160       \n",
            "                                                                 \n",
            " max_pooling2d_1 (MaxPooling  (None, 13, 13, 32)       0         \n",
            " 2D)                                                             \n",
            "                                                                 \n",
            " conv2d_3 (Conv2D)           (None, 12, 12, 16)        2064      \n",
            "                                                                 \n",
            " flatten_1 (Flatten)         (None, 2304)              0         \n",
            "                                                                 \n",
            " dense_2 (Dense)             (None, 32)                73760     \n",
            "                                                                 \n",
            " dense_3 (Dense)             (None, 10)                330       \n",
            "                                                                 \n",
            "=================================================================\n",
            "Total params: 76,314\n",
            "Trainable params: 76,314\n",
            "Non-trainable params: 0\n",
            "_________________________________________________________________\n"
          ]
        }
      ],
      "source": [
        "model.summary()"
      ]
    },
    {
      "cell_type": "code",
      "execution_count": 23,
      "metadata": {
        "id": "n667L7HbHApD"
      },
      "outputs": [],
      "source": [
        "model.compile(loss = 'categorical_crossentropy', optimizer = 'adam', metrics = ['accuracy'])"
      ]
    },
    {
      "cell_type": "code",
      "execution_count": 24,
      "metadata": {
        "colab": {
          "base_uri": "https://localhost:8080/"
        },
        "id": "NvEnIUQRHCRa",
        "outputId": "fa0e323d-939c-438c-9155-5ed28a068316"
      },
      "outputs": [
        {
          "output_type": "stream",
          "name": "stdout",
          "text": [
            "Epoch 1/10\n",
            "1875/1875 [==============================] - 42s 22ms/step - loss: 0.2235 - accuracy: 0.9343\n",
            "Epoch 2/10\n",
            "1875/1875 [==============================] - 36s 19ms/step - loss: 0.0721 - accuracy: 0.9780\n",
            "Epoch 3/10\n",
            "1875/1875 [==============================] - 37s 20ms/step - loss: 0.0503 - accuracy: 0.9843\n",
            "Epoch 4/10\n",
            "1875/1875 [==============================] - 38s 20ms/step - loss: 0.0399 - accuracy: 0.9873\n",
            "Epoch 5/10\n",
            "1875/1875 [==============================] - 36s 19ms/step - loss: 0.0320 - accuracy: 0.9900\n",
            "Epoch 6/10\n",
            "1875/1875 [==============================] - 35s 19ms/step - loss: 0.0256 - accuracy: 0.9916\n",
            "Epoch 7/10\n",
            "1875/1875 [==============================] - 35s 19ms/step - loss: 0.0205 - accuracy: 0.9935\n",
            "Epoch 8/10\n",
            "1875/1875 [==============================] - 35s 19ms/step - loss: 0.0177 - accuracy: 0.9942\n",
            "Epoch 9/10\n",
            "1875/1875 [==============================] - 35s 19ms/step - loss: 0.0150 - accuracy: 0.9952\n",
            "Epoch 10/10\n",
            "1875/1875 [==============================] - 35s 19ms/step - loss: 0.0118 - accuracy: 0.9961\n"
          ]
        }
      ],
      "source": [
        "r = model.fit(train_images_s, train_labels, epochs = 10)"
      ]
    },
    {
      "cell_type": "markdown",
      "metadata": {
        "id": "b8fkANY2HGh8"
      },
      "source": [
        "## After the Model"
      ]
    },
    {
      "cell_type": "code",
      "execution_count": 25,
      "metadata": {
        "colab": {
          "base_uri": "https://localhost:8080/"
        },
        "id": "0hH4GhUNHDy3",
        "outputId": "50cc8a59-390b-4fa0-e799-8fde4d17bee0"
      },
      "outputs": [
        {
          "output_type": "stream",
          "name": "stdout",
          "text": [
            "313/313 [==============================] - 2s 7ms/step - loss: 0.0600 - accuracy: 0.9849\n"
          ]
        },
        {
          "output_type": "execute_result",
          "data": {
            "text/plain": [
              "[0.0600191168487072, 0.9848999977111816]"
            ]
          },
          "metadata": {},
          "execution_count": 25
        }
      ],
      "source": [
        "model.evaluate(test_images, test_labels)"
      ]
    },
    {
      "cell_type": "code",
      "execution_count": 28,
      "metadata": {
        "colab": {
          "base_uri": "https://localhost:8080/",
          "height": 283
        },
        "id": "iLNiD9kCHFNc",
        "outputId": "c9293d86-e63f-49ab-d508-bd35eb094521"
      },
      "outputs": [
        {
          "output_type": "execute_result",
          "data": {
            "text/plain": [
              "[<matplotlib.lines.Line2D at 0x7f7b00994890>]"
            ]
          },
          "metadata": {},
          "execution_count": 28
        },
        {
          "output_type": "display_data",
          "data": {
            "text/plain": [
              "<Figure size 432x288 with 1 Axes>"
            ],
            "image/png": "[encoded data removed]"
          },
          "metadata": {
            "needs_background": "light"
          }
        }
      ],
      "source": [
        "# Loss and Accuracy\n",
        "plt.plot(r.history['loss'], label = 'loss')\n",
        "plt.plot(r.history['accuracy'], label = 'accuracy')"
      ]
    },
    {
      "cell_type": "code",
      "execution_count": 29,
      "metadata": {
        "id": "XHbOGe4tHep7"
      },
      "outputs": [],
      "source": [
        "preds = model.predict(test_images)"
      ]
    },
    {
      "cell_type": "code",
      "execution_count": 30,
      "metadata": {
        "colab": {
          "base_uri": "https://localhost:8080/",
          "height": 300
        },
        "id": "S3nki6oFHgjZ",
        "outputId": "cb3431e9-8214-45f3-be33-b329d662476b"
      },
      "outputs": [
        {
          "output_type": "display_data",
          "data": {
            "text/plain": [
              "<Figure size 432x288 with 1 Axes>"
            ],
            "image/png": "[encoded data removed]"
          },
          "metadata": {
            "needs_background": "light"
          }
        },
        {
          "output_type": "stream",
          "name": "stdout",
          "text": [
            "Predicted: 8\n",
            "Actual: 8\n"
          ]
        }
      ],
      "source": [
        "# Predictions\n",
        "import random\n",
        "i = random.randint(0, 10001)\n",
        "\n",
        "plt.imshow(np.reshape(test_images[i], (28, 28)), cmap = 'gray')\n",
        "plt.show()\n",
        "\n",
        "print(f\"Predicted: {preds[i].argmax()}\")\n",
        "print(f\"Actual: {test_labels[i].argmax()}\")"
      ]
    },
    {
      "cell_type": "markdown",
      "metadata": {
        "id": "ZHZhVWW5IAue"
      },
      "source": [
        "## Saving and Loading"
      ]
    },
    {
      "cell_type": "code",
      "execution_count": 31,
      "metadata": {
        "colab": {
          "base_uri": "https://localhost:8080/"
        },
        "id": "s2ml3x-nHh0Q",
        "outputId": "f9c99ad7-2ed1-46dd-ba10-5316572bfc96"
      },
      "outputs": [
        {
          "output_type": "stream",
          "name": "stdout",
          "text": [
            "INFO:tensorflow:Assets written to: mnist_model/assets\n"
          ]
        }
      ],
      "source": [
        "model.save('mnist_model')"
      ]
    },
    {
      "cell_type": "code",
      "execution_count": 32,
      "metadata": {
        "id": "OR15beNgHqdp"
      },
      "outputs": [],
      "source": [
        "new_model = tf.keras.models.load_model('mnist_model')\n",
        "new_preds = new_model.predict(test_images)"
      ]
    },
    {
      "cell_type": "code",
      "execution_count": 33,
      "metadata": {
        "colab": {
          "base_uri": "https://localhost:8080/",
          "height": 300
        },
        "id": "DtulQfRaH8Co",
        "outputId": "701049b9-4cc5-4d4d-a312-32824cae2768"
      },
      "outputs": [
        {
          "output_type": "display_data",
          "data": {
            "text/plain": [
              "<Figure size 432x288 with 1 Axes>"
            ],
            "image/png": "[encoded data removed]"
          },
          "metadata": {
            "needs_background": "light"
          }
        },
        {
          "output_type": "stream",
          "name": "stdout",
          "text": [
            "Predicted: 0\n",
            "Actual: 0\n"
          ]
        }
      ],
      "source": [
        "import random\n",
        "i = random.randint(0, 10001)\n",
        "\n",
        "plt.imshow(np.reshape(test_images[i], (28, 28)), cmap = 'gray')\n",
        "plt.show()\n",
        "\n",
        "print(f\"Predicted: {new_preds[i].argmax()}\")\n",
        "print(f\"Actual: {test_labels[i].argmax()}\")"
      ]
    }
  ],
  "metadata": {
    "colab": {
      "collapsed_sections": [],
      "name": "**Mini Project** CNN with MNIST",
      "provenance": [],
      "authorship_tag": "ABX9TyO7K+PXhvQK1TlreYJ37YPX",
      "include_colab_link": true
    },
    "kernelspec": {
      "display_name": "Python 3",
      "name": "python3"
    },
    "language_info": {
      "name": "python"
    }
  },
  "nbformat": 4,
  "nbformat_minor": 0
}