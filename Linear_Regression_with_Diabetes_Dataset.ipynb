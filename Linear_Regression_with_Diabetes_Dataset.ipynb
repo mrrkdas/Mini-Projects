{
  "nbformat": 4,
  "nbformat_minor": 0,
  "metadata": {
    "colab": {
      "name": "**Mini Project** Linear Regression with Diabetes Dataset",
      "provenance": [],
      "authorship_tag": "ABX9TyOG0OWKYasue9nXAUKjEyGy",
      "include_colab_link": true
    },
    "kernelspec": {
      "name": "python3",
      "display_name": "Python 3"
    },
    "language_info": {
      "name": "python"
    }
  },
  "cells": [
    {
      "cell_type": "markdown",
      "metadata": {
        "id": "view-in-github",
        "colab_type": "text"
      },
      "source": [
        "<a href=\"https://colab.research.google.com/github/mrrkdas/Mini-Projects/blob/main/Linear_Regression_with_Diabetes_Dataset.ipynb\" target=\"_parent\"><img src=\"https://colab.research.google.com/assets/colab-badge.svg\" alt=\"Open In Colab\"/></a>"
      ]
    },
    {
      "cell_type": "code",
      "execution_count": 25,
      "metadata": {
        "id": "cwFH_bwwVed9"
      },
      "outputs": [],
      "source": [
        "import tensorflow as tf\n",
        "import pandas as pd\n",
        "import numpy as np\n",
        "import matplotlib.pyplot as plt\n",
        "\n",
        "from sklearn.datasets import load_diabetes"
      ]
    },
    {
      "cell_type": "markdown",
      "source": [
        "## Data"
      ],
      "metadata": {
        "id": "c9qvSZ7xVsxk"
      }
    },
    {
      "cell_type": "code",
      "source": [
        "data = load_diabetes()"
      ],
      "metadata": {
        "id": "TK8JuprpVqlJ"
      },
      "execution_count": 26,
      "outputs": []
    },
    {
      "cell_type": "code",
      "source": [
        "data.keys()  # it is a sklearn bunch dataset"
      ],
      "metadata": {
        "colab": {
          "base_uri": "https://localhost:8080/"
        },
        "id": "ltY7aav7VvRy",
        "outputId": "ed2cca37-77fb-4009-8d17-91edf43c142c"
      },
      "execution_count": 27,
      "outputs": [
        {
          "output_type": "execute_result",
          "data": {
            "text/plain": [
              "dict_keys(['data', 'target', 'frame', 'DESCR', 'feature_names', 'data_filename', 'target_filename', 'data_module'])"
            ]
          },
          "metadata": {},
          "execution_count": 27
        }
      ]
    },
    {
      "cell_type": "code",
      "source": [
        "data.data.shape # 442 instances and 10 features"
      ],
      "metadata": {
        "colab": {
          "base_uri": "https://localhost:8080/"
        },
        "id": "F8MMq2_NVwau",
        "outputId": "bb2c77a4-7bed-4f08-c602-e608c8973e1b"
      },
      "execution_count": 28,
      "outputs": [
        {
          "output_type": "execute_result",
          "data": {
            "text/plain": [
              "(442, 10)"
            ]
          },
          "metadata": {},
          "execution_count": 28
        }
      ]
    },
    {
      "cell_type": "code",
      "source": [
        "data.target.shape"
      ],
      "metadata": {
        "colab": {
          "base_uri": "https://localhost:8080/"
        },
        "id": "3i8ehqz5WUTb",
        "outputId": "3307d861-9e2f-43ea-f3fc-767a633e6595"
      },
      "execution_count": 29,
      "outputs": [
        {
          "output_type": "execute_result",
          "data": {
            "text/plain": [
              "(442,)"
            ]
          },
          "metadata": {},
          "execution_count": 29
        }
      ]
    },
    {
      "cell_type": "code",
      "source": [
        "data.feature_names"
      ],
      "metadata": {
        "colab": {
          "base_uri": "https://localhost:8080/"
        },
        "id": "JSR6lZslWtOZ",
        "outputId": "921c88db-d52a-408e-b088-5eccee950929"
      },
      "execution_count": 30,
      "outputs": [
        {
          "output_type": "execute_result",
          "data": {
            "text/plain": [
              "['age', 'sex', 'bmi', 'bp', 's1', 's2', 's3', 's4', 's5', 's6']"
            ]
          },
          "metadata": {},
          "execution_count": 30
        }
      ]
    },
    {
      "cell_type": "markdown",
      "source": [
        "## Preprocessing"
      ],
      "metadata": {
        "id": "ogbVxbmHV8Dh"
      }
    },
    {
      "cell_type": "code",
      "source": [
        "# Defining X and y\n",
        "X = data.data\n",
        "y = data.target"
      ],
      "metadata": {
        "id": "KBv8tZC7WRpt"
      },
      "execution_count": 31,
      "outputs": []
    },
    {
      "cell_type": "code",
      "source": [
        "# train test split\n",
        "from sklearn.model_selection import train_test_split\n",
        "\n",
        "X_train, X_test, y_train, y_test = train_test_split(X,y, test_size = 0.33, random_state = 42)"
      ],
      "metadata": {
        "id": "JILCQ7cYWauq"
      },
      "execution_count": 32,
      "outputs": []
    },
    {
      "cell_type": "code",
      "source": [
        "# Standard Scaling\n",
        "from sklearn.preprocessing import StandardScaler\n",
        "\n",
        "scaler = StandardScaler()\n",
        "\n",
        "X_train_scaled = scaler.fit_transform(X_train)\n",
        "X_test_scaled = scaler.transform(X_test)"
      ],
      "metadata": {
        "id": "KUbhwNSsXFyP"
      },
      "execution_count": 33,
      "outputs": []
    },
    {
      "cell_type": "markdown",
      "source": [
        "## Model"
      ],
      "metadata": {
        "id": "SMREAdBcXMYW"
      }
    },
    {
      "cell_type": "code",
      "source": [
        "X_train.shape"
      ],
      "metadata": {
        "colab": {
          "base_uri": "https://localhost:8080/"
        },
        "id": "Zlwjlfpma3rC",
        "outputId": "055dcbfa-c1a1-49c9-ae3b-5536098f7269"
      },
      "execution_count": 34,
      "outputs": [
        {
          "output_type": "execute_result",
          "data": {
            "text/plain": [
              "(296, 10)"
            ]
          },
          "metadata": {},
          "execution_count": 34
        }
      ]
    },
    {
      "cell_type": "code",
      "source": [
        "from tensorflow.keras.layers import Dense\n",
        "from tensorflow.keras.models import Sequential\n",
        "\n",
        "model = Sequential()\n",
        "\n",
        "model.add(Dense(10, activation = 'relu', input_shape = (10, )))\n",
        "model.add(Dense(1))\n",
        "\n",
        "model.compile(loss = 'MSE', optimizer = 'adam', metrics = ['accuracy'])\n",
        "\n",
        "model.summary()"
      ],
      "metadata": {
        "colab": {
          "base_uri": "https://localhost:8080/"
        },
        "id": "Rp9lpP65a-mw",
        "outputId": "290cbdce-6579-42bb-84df-453a2b21d18b"
      },
      "execution_count": 64,
      "outputs": [
        {
          "output_type": "stream",
          "name": "stdout",
          "text": [
            "Model: \"sequential_1\"\n",
            "_________________________________________________________________\n",
            " Layer (type)                Output Shape              Param #   \n",
            "=================================================================\n",
            " dense_32 (Dense)            (None, 10)                110       \n",
            "                                                                 \n",
            " dense_33 (Dense)            (None, 1)                 11        \n",
            "                                                                 \n",
            "=================================================================\n",
            "Total params: 121\n",
            "Trainable params: 121\n",
            "Non-trainable params: 0\n",
            "_________________________________________________________________\n"
          ]
        }
      ]
    },
    {
      "cell_type": "code",
      "source": [
        "r = model.fit(X_train_scaled, y_train, validation_data = (X_test_scaled, y_test), epochs = 100)"
      ],
      "metadata": {
        "colab": {
          "base_uri": "https://localhost:8080/"
        },
        "id": "zDntkW7yb9RP",
        "outputId": "060333be-28d4-4eaf-ee58-a1cf07b158cd"
      },
      "execution_count": 65,
      "outputs": [
        {
          "output_type": "stream",
          "name": "stdout",
          "text": [
            "Epoch 1/100\n",
            "10/10 [==============================] - 1s 40ms/step - loss: 29313.8066 - accuracy: 0.0000e+00 - val_loss: 29161.8184 - val_accuracy: 0.0000e+00\n",
            "Epoch 2/100\n",
            "10/10 [==============================] - 0s 10ms/step - loss: 29282.2305 - accuracy: 0.0000e+00 - val_loss: 29132.2227 - val_accuracy: 0.0000e+00\n",
            "Epoch 3/100\n",
            "10/10 [==============================] - 0s 17ms/step - loss: 29253.2832 - accuracy: 0.0000e+00 - val_loss: 29103.4238 - val_accuracy: 0.0000e+00\n",
            "Epoch 4/100\n",
            "10/10 [==============================] - 0s 10ms/step - loss: 29223.9395 - accuracy: 0.0000e+00 - val_loss: 29075.9453 - val_accuracy: 0.0000e+00\n",
            "Epoch 5/100\n",
            "10/10 [==============================] - 0s 10ms/step - loss: 29196.0098 - accuracy: 0.0000e+00 - val_loss: 29048.9219 - val_accuracy: 0.0000e+00\n",
            "Epoch 6/100\n",
            "10/10 [==============================] - 0s 14ms/step - loss: 29169.1348 - accuracy: 0.0000e+00 - val_loss: 29022.9277 - val_accuracy: 0.0000e+00\n",
            "Epoch 7/100\n",
            "10/10 [==============================] - 0s 11ms/step - loss: 29143.4316 - accuracy: 0.0000e+00 - val_loss: 28997.9863 - val_accuracy: 0.0000e+00\n",
            "Epoch 8/100\n",
            "10/10 [==============================] - 0s 13ms/step - loss: 29118.4316 - accuracy: 0.0000e+00 - val_loss: 28973.5898 - val_accuracy: 0.0000e+00\n",
            "Epoch 9/100\n",
            "10/10 [==============================] - 0s 8ms/step - loss: 29093.3184 - accuracy: 0.0000e+00 - val_loss: 28949.2852 - val_accuracy: 0.0000e+00\n",
            "Epoch 10/100\n",
            "10/10 [==============================] - 0s 11ms/step - loss: 29069.1758 - accuracy: 0.0000e+00 - val_loss: 28924.1172 - val_accuracy: 0.0000e+00\n",
            "Epoch 11/100\n",
            "10/10 [==============================] - 0s 7ms/step - loss: 29044.0781 - accuracy: 0.0000e+00 - val_loss: 28898.9785 - val_accuracy: 0.0000e+00\n",
            "Epoch 12/100\n",
            "10/10 [==============================] - 0s 9ms/step - loss: 29018.8516 - accuracy: 0.0000e+00 - val_loss: 28874.1191 - val_accuracy: 0.0000e+00\n",
            "Epoch 13/100\n",
            "10/10 [==============================] - 0s 13ms/step - loss: 28994.2305 - accuracy: 0.0000e+00 - val_loss: 28848.9902 - val_accuracy: 0.0000e+00\n",
            "Epoch 14/100\n",
            "10/10 [==============================] - 0s 10ms/step - loss: 28969.1387 - accuracy: 0.0000e+00 - val_loss: 28824.1543 - val_accuracy: 0.0000e+00\n",
            "Epoch 15/100\n",
            "10/10 [==============================] - 0s 11ms/step - loss: 28944.4082 - accuracy: 0.0000e+00 - val_loss: 28798.0449 - val_accuracy: 0.0000e+00\n",
            "Epoch 16/100\n",
            "10/10 [==============================] - 0s 10ms/step - loss: 28917.8418 - accuracy: 0.0000e+00 - val_loss: 28772.3633 - val_accuracy: 0.0000e+00\n",
            "Epoch 17/100\n",
            "10/10 [==============================] - 0s 9ms/step - loss: 28890.8184 - accuracy: 0.0000e+00 - val_loss: 28744.6406 - val_accuracy: 0.0000e+00\n",
            "Epoch 18/100\n",
            "10/10 [==============================] - 0s 10ms/step - loss: 28863.0566 - accuracy: 0.0000e+00 - val_loss: 28713.9355 - val_accuracy: 0.0000e+00\n",
            "Epoch 19/100\n",
            "10/10 [==============================] - 0s 6ms/step - loss: 28832.3809 - accuracy: 0.0000e+00 - val_loss: 28682.4688 - val_accuracy: 0.0000e+00\n",
            "Epoch 20/100\n",
            "10/10 [==============================] - 0s 6ms/step - loss: 28800.9355 - accuracy: 0.0000e+00 - val_loss: 28650.5039 - val_accuracy: 0.0000e+00\n",
            "Epoch 21/100\n",
            "10/10 [==============================] - 0s 6ms/step - loss: 28768.6445 - accuracy: 0.0000e+00 - val_loss: 28617.0918 - val_accuracy: 0.0000e+00\n",
            "Epoch 22/100\n",
            "10/10 [==============================] - 0s 6ms/step - loss: 28736.1191 - accuracy: 0.0000e+00 - val_loss: 28581.2812 - val_accuracy: 0.0000e+00\n",
            "Epoch 23/100\n",
            "10/10 [==============================] - 0s 11ms/step - loss: 28698.4395 - accuracy: 0.0000e+00 - val_loss: 28545.5820 - val_accuracy: 0.0000e+00\n",
            "Epoch 24/100\n",
            "10/10 [==============================] - 0s 11ms/step - loss: 28662.0508 - accuracy: 0.0000e+00 - val_loss: 28506.0723 - val_accuracy: 0.0000e+00\n",
            "Epoch 25/100\n",
            "10/10 [==============================] - 0s 10ms/step - loss: 28622.0410 - accuracy: 0.0000e+00 - val_loss: 28466.5918 - val_accuracy: 0.0000e+00\n",
            "Epoch 26/100\n",
            "10/10 [==============================] - 0s 11ms/step - loss: 28582.8105 - accuracy: 0.0000e+00 - val_loss: 28423.5371 - val_accuracy: 0.0000e+00\n",
            "Epoch 27/100\n",
            "10/10 [==============================] - 0s 9ms/step - loss: 28538.3105 - accuracy: 0.0000e+00 - val_loss: 28381.8770 - val_accuracy: 0.0000e+00\n",
            "Epoch 28/100\n",
            "10/10 [==============================] - 0s 11ms/step - loss: 28497.2559 - accuracy: 0.0000e+00 - val_loss: 28336.8789 - val_accuracy: 0.0000e+00\n",
            "Epoch 29/100\n",
            "10/10 [==============================] - 0s 11ms/step - loss: 28452.2090 - accuracy: 0.0000e+00 - val_loss: 28292.3691 - val_accuracy: 0.0000e+00\n",
            "Epoch 30/100\n",
            "10/10 [==============================] - 0s 10ms/step - loss: 28407.2188 - accuracy: 0.0000e+00 - val_loss: 28246.0625 - val_accuracy: 0.0000e+00\n",
            "Epoch 31/100\n",
            "10/10 [==============================] - 0s 10ms/step - loss: 28361.6797 - accuracy: 0.0000e+00 - val_loss: 28195.9180 - val_accuracy: 0.0000e+00\n",
            "Epoch 32/100\n",
            "10/10 [==============================] - 0s 9ms/step - loss: 28310.3730 - accuracy: 0.0000e+00 - val_loss: 28146.4609 - val_accuracy: 0.0000e+00\n",
            "Epoch 33/100\n",
            "10/10 [==============================] - 0s 7ms/step - loss: 28259.4863 - accuracy: 0.0000e+00 - val_loss: 28096.7480 - val_accuracy: 0.0000e+00\n",
            "Epoch 34/100\n",
            "10/10 [==============================] - 0s 7ms/step - loss: 28209.0547 - accuracy: 0.0000e+00 - val_loss: 28044.6816 - val_accuracy: 0.0000e+00\n",
            "Epoch 35/100\n",
            "10/10 [==============================] - 0s 15ms/step - loss: 28154.6230 - accuracy: 0.0000e+00 - val_loss: 27990.4180 - val_accuracy: 0.0000e+00\n",
            "Epoch 36/100\n",
            "10/10 [==============================] - 0s 18ms/step - loss: 28101.1641 - accuracy: 0.0000e+00 - val_loss: 27933.4082 - val_accuracy: 0.0000e+00\n",
            "Epoch 37/100\n",
            "10/10 [==============================] - 0s 9ms/step - loss: 28042.4355 - accuracy: 0.0000e+00 - val_loss: 27877.3770 - val_accuracy: 0.0000e+00\n",
            "Epoch 38/100\n",
            "10/10 [==============================] - 0s 10ms/step - loss: 27985.9883 - accuracy: 0.0000e+00 - val_loss: 27816.0586 - val_accuracy: 0.0000e+00\n",
            "Epoch 39/100\n",
            "10/10 [==============================] - 0s 10ms/step - loss: 27923.9434 - accuracy: 0.0000e+00 - val_loss: 27753.9785 - val_accuracy: 0.0000e+00\n",
            "Epoch 40/100\n",
            "10/10 [==============================] - 0s 20ms/step - loss: 27862.2480 - accuracy: 0.0000e+00 - val_loss: 27689.1699 - val_accuracy: 0.0000e+00\n",
            "Epoch 41/100\n",
            "10/10 [==============================] - 0s 12ms/step - loss: 27796.5371 - accuracy: 0.0000e+00 - val_loss: 27625.4648 - val_accuracy: 0.0000e+00\n",
            "Epoch 42/100\n",
            "10/10 [==============================] - 0s 10ms/step - loss: 27730.6250 - accuracy: 0.0000e+00 - val_loss: 27558.7500 - val_accuracy: 0.0000e+00\n",
            "Epoch 43/100\n",
            "10/10 [==============================] - 0s 9ms/step - loss: 27666.5781 - accuracy: 0.0000e+00 - val_loss: 27487.1270 - val_accuracy: 0.0000e+00\n",
            "Epoch 44/100\n",
            "10/10 [==============================] - 0s 14ms/step - loss: 27593.4922 - accuracy: 0.0000e+00 - val_loss: 27416.0332 - val_accuracy: 0.0000e+00\n",
            "Epoch 45/100\n",
            "10/10 [==============================] - 0s 13ms/step - loss: 27522.0410 - accuracy: 0.0000e+00 - val_loss: 27342.6445 - val_accuracy: 0.0000e+00\n",
            "Epoch 46/100\n",
            "10/10 [==============================] - 0s 13ms/step - loss: 27451.0059 - accuracy: 0.0000e+00 - val_loss: 27267.5371 - val_accuracy: 0.0000e+00\n",
            "Epoch 47/100\n",
            "10/10 [==============================] - 0s 9ms/step - loss: 27378.2812 - accuracy: 0.0000e+00 - val_loss: 27190.4082 - val_accuracy: 0.0000e+00\n",
            "Epoch 48/100\n",
            "10/10 [==============================] - 0s 19ms/step - loss: 27301.7871 - accuracy: 0.0000e+00 - val_loss: 27115.8008 - val_accuracy: 0.0000e+00\n",
            "Epoch 49/100\n",
            "10/10 [==============================] - 0s 13ms/step - loss: 27224.6934 - accuracy: 0.0000e+00 - val_loss: 27038.0273 - val_accuracy: 0.0000e+00\n",
            "Epoch 50/100\n",
            "10/10 [==============================] - 0s 11ms/step - loss: 27147.8945 - accuracy: 0.0000e+00 - val_loss: 26958.4609 - val_accuracy: 0.0000e+00\n",
            "Epoch 51/100\n",
            "10/10 [==============================] - 0s 16ms/step - loss: 27068.9941 - accuracy: 0.0000e+00 - val_loss: 26882.9980 - val_accuracy: 0.0000e+00\n",
            "Epoch 52/100\n",
            "10/10 [==============================] - 0s 15ms/step - loss: 26994.9219 - accuracy: 0.0000e+00 - val_loss: 26801.8535 - val_accuracy: 0.0000e+00\n",
            "Epoch 53/100\n",
            "10/10 [==============================] - 0s 10ms/step - loss: 26914.9805 - accuracy: 0.0000e+00 - val_loss: 26721.7637 - val_accuracy: 0.0000e+00\n",
            "Epoch 54/100\n",
            "10/10 [==============================] - 0s 10ms/step - loss: 26833.2930 - accuracy: 0.0000e+00 - val_loss: 26640.2676 - val_accuracy: 0.0000e+00\n",
            "Epoch 55/100\n",
            "10/10 [==============================] - 0s 9ms/step - loss: 26749.0469 - accuracy: 0.0000e+00 - val_loss: 26554.2871 - val_accuracy: 0.0000e+00\n",
            "Epoch 56/100\n",
            "10/10 [==============================] - 0s 15ms/step - loss: 26665.6582 - accuracy: 0.0000e+00 - val_loss: 26466.6172 - val_accuracy: 0.0000e+00\n",
            "Epoch 57/100\n",
            "10/10 [==============================] - 0s 9ms/step - loss: 26575.2617 - accuracy: 0.0000e+00 - val_loss: 26374.0020 - val_accuracy: 0.0000e+00\n",
            "Epoch 58/100\n",
            "10/10 [==============================] - 0s 11ms/step - loss: 26485.9863 - accuracy: 0.0000e+00 - val_loss: 26279.9316 - val_accuracy: 0.0000e+00\n",
            "Epoch 59/100\n",
            "10/10 [==============================] - 0s 13ms/step - loss: 26390.9902 - accuracy: 0.0000e+00 - val_loss: 26190.6582 - val_accuracy: 0.0000e+00\n",
            "Epoch 60/100\n",
            "10/10 [==============================] - 0s 13ms/step - loss: 26299.6562 - accuracy: 0.0000e+00 - val_loss: 26102.3262 - val_accuracy: 0.0000e+00\n",
            "Epoch 61/100\n",
            "10/10 [==============================] - 0s 14ms/step - loss: 26212.5410 - accuracy: 0.0000e+00 - val_loss: 26009.5684 - val_accuracy: 0.0000e+00\n",
            "Epoch 62/100\n",
            "10/10 [==============================] - 0s 14ms/step - loss: 26119.3672 - accuracy: 0.0000e+00 - val_loss: 25911.4785 - val_accuracy: 0.0000e+00\n",
            "Epoch 63/100\n",
            "10/10 [==============================] - 0s 11ms/step - loss: 26024.6191 - accuracy: 0.0000e+00 - val_loss: 25809.9824 - val_accuracy: 0.0000e+00\n",
            "Epoch 64/100\n",
            "10/10 [==============================] - 0s 11ms/step - loss: 25923.9902 - accuracy: 0.0000e+00 - val_loss: 25712.4395 - val_accuracy: 0.0000e+00\n",
            "Epoch 65/100\n",
            "10/10 [==============================] - 0s 12ms/step - loss: 25822.8770 - accuracy: 0.0000e+00 - val_loss: 25612.3125 - val_accuracy: 0.0000e+00\n",
            "Epoch 66/100\n",
            "10/10 [==============================] - 0s 17ms/step - loss: 25722.8633 - accuracy: 0.0000e+00 - val_loss: 25506.7715 - val_accuracy: 0.0000e+00\n",
            "Epoch 67/100\n",
            "10/10 [==============================] - 0s 17ms/step - loss: 25621.4414 - accuracy: 0.0000e+00 - val_loss: 25398.2090 - val_accuracy: 0.0000e+00\n",
            "Epoch 68/100\n",
            "10/10 [==============================] - 0s 11ms/step - loss: 25510.3984 - accuracy: 0.0000e+00 - val_loss: 25292.2637 - val_accuracy: 0.0000e+00\n",
            "Epoch 69/100\n",
            "10/10 [==============================] - 0s 17ms/step - loss: 25403.3887 - accuracy: 0.0000e+00 - val_loss: 25178.2480 - val_accuracy: 0.0000e+00\n",
            "Epoch 70/100\n",
            "10/10 [==============================] - 0s 16ms/step - loss: 25290.9922 - accuracy: 0.0000e+00 - val_loss: 25064.5410 - val_accuracy: 0.0000e+00\n",
            "Epoch 71/100\n",
            "10/10 [==============================] - 0s 20ms/step - loss: 25174.2129 - accuracy: 0.0000e+00 - val_loss: 24950.6328 - val_accuracy: 0.0000e+00\n",
            "Epoch 72/100\n",
            "10/10 [==============================] - 0s 26ms/step - loss: 25060.2539 - accuracy: 0.0000e+00 - val_loss: 24830.6738 - val_accuracy: 0.0000e+00\n",
            "Epoch 73/100\n",
            "10/10 [==============================] - 0s 25ms/step - loss: 24940.9004 - accuracy: 0.0000e+00 - val_loss: 24706.5488 - val_accuracy: 0.0000e+00\n",
            "Epoch 74/100\n",
            "10/10 [==============================] - 0s 27ms/step - loss: 24818.0605 - accuracy: 0.0000e+00 - val_loss: 24587.2852 - val_accuracy: 0.0000e+00\n",
            "Epoch 75/100\n",
            "10/10 [==============================] - 0s 26ms/step - loss: 24699.5977 - accuracy: 0.0000e+00 - val_loss: 24465.2324 - val_accuracy: 0.0000e+00\n",
            "Epoch 76/100\n",
            "10/10 [==============================] - 0s 23ms/step - loss: 24577.6953 - accuracy: 0.0000e+00 - val_loss: 24336.5762 - val_accuracy: 0.0000e+00\n",
            "Epoch 77/100\n",
            "10/10 [==============================] - 0s 20ms/step - loss: 24447.7891 - accuracy: 0.0000e+00 - val_loss: 24210.1582 - val_accuracy: 0.0000e+00\n",
            "Epoch 78/100\n",
            "10/10 [==============================] - 0s 16ms/step - loss: 24322.0234 - accuracy: 0.0000e+00 - val_loss: 24077.8984 - val_accuracy: 0.0000e+00\n",
            "Epoch 79/100\n",
            "10/10 [==============================] - 0s 14ms/step - loss: 24191.0898 - accuracy: 0.0000e+00 - val_loss: 23948.1816 - val_accuracy: 0.0000e+00\n",
            "Epoch 80/100\n",
            "10/10 [==============================] - 0s 16ms/step - loss: 24059.4844 - accuracy: 0.0000e+00 - val_loss: 23817.8398 - val_accuracy: 0.0000e+00\n",
            "Epoch 81/100\n",
            "10/10 [==============================] - 0s 24ms/step - loss: 23929.9297 - accuracy: 0.0000e+00 - val_loss: 23681.4766 - val_accuracy: 0.0000e+00\n",
            "Epoch 82/100\n",
            "10/10 [==============================] - 0s 16ms/step - loss: 23794.6543 - accuracy: 0.0000e+00 - val_loss: 23545.5586 - val_accuracy: 0.0000e+00\n",
            "Epoch 83/100\n",
            "10/10 [==============================] - 0s 10ms/step - loss: 23656.9707 - accuracy: 0.0000e+00 - val_loss: 23405.6504 - val_accuracy: 0.0000e+00\n",
            "Epoch 84/100\n",
            "10/10 [==============================] - 0s 16ms/step - loss: 23521.5137 - accuracy: 0.0000e+00 - val_loss: 23262.5605 - val_accuracy: 0.0000e+00\n",
            "Epoch 85/100\n",
            "10/10 [==============================] - 0s 9ms/step - loss: 23381.1992 - accuracy: 0.0000e+00 - val_loss: 23115.1914 - val_accuracy: 0.0000e+00\n",
            "Epoch 86/100\n",
            "10/10 [==============================] - 0s 9ms/step - loss: 23228.4316 - accuracy: 0.0000e+00 - val_loss: 22972.5352 - val_accuracy: 0.0000e+00\n",
            "Epoch 87/100\n",
            "10/10 [==============================] - 0s 15ms/step - loss: 23088.8730 - accuracy: 0.0000e+00 - val_loss: 22818.8594 - val_accuracy: 0.0000e+00\n",
            "Epoch 88/100\n",
            "10/10 [==============================] - 0s 18ms/step - loss: 22937.4492 - accuracy: 0.0000e+00 - val_loss: 22666.5762 - val_accuracy: 0.0000e+00\n",
            "Epoch 89/100\n",
            "10/10 [==============================] - 0s 9ms/step - loss: 22786.4043 - accuracy: 0.0000e+00 - val_loss: 22515.6875 - val_accuracy: 0.0000e+00\n",
            "Epoch 90/100\n",
            "10/10 [==============================] - 0s 13ms/step - loss: 22635.1562 - accuracy: 0.0000e+00 - val_loss: 22365.3594 - val_accuracy: 0.0000e+00\n",
            "Epoch 91/100\n",
            "10/10 [==============================] - 0s 14ms/step - loss: 22489.8691 - accuracy: 0.0000e+00 - val_loss: 22212.5762 - val_accuracy: 0.0000e+00\n",
            "Epoch 92/100\n",
            "10/10 [==============================] - 0s 13ms/step - loss: 22340.0840 - accuracy: 0.0000e+00 - val_loss: 22062.9863 - val_accuracy: 0.0000e+00\n",
            "Epoch 93/100\n",
            "10/10 [==============================] - 0s 13ms/step - loss: 22190.0898 - accuracy: 0.0000e+00 - val_loss: 21909.1699 - val_accuracy: 0.0000e+00\n",
            "Epoch 94/100\n",
            "10/10 [==============================] - 0s 10ms/step - loss: 22036.7812 - accuracy: 0.0000e+00 - val_loss: 21758.8828 - val_accuracy: 0.0000e+00\n",
            "Epoch 95/100\n",
            "10/10 [==============================] - 0s 10ms/step - loss: 21886.0391 - accuracy: 0.0000e+00 - val_loss: 21605.3965 - val_accuracy: 0.0000e+00\n",
            "Epoch 96/100\n",
            "10/10 [==============================] - 0s 13ms/step - loss: 21732.6523 - accuracy: 0.0000e+00 - val_loss: 21450.7012 - val_accuracy: 0.0000e+00\n",
            "Epoch 97/100\n",
            "10/10 [==============================] - 0s 8ms/step - loss: 21576.9004 - accuracy: 0.0000e+00 - val_loss: 21290.9082 - val_accuracy: 0.0000e+00\n",
            "Epoch 98/100\n",
            "10/10 [==============================] - 0s 9ms/step - loss: 21418.7227 - accuracy: 0.0000e+00 - val_loss: 21131.2129 - val_accuracy: 0.0000e+00\n",
            "Epoch 99/100\n",
            "10/10 [==============================] - 0s 11ms/step - loss: 21266.5000 - accuracy: 0.0000e+00 - val_loss: 20971.3555 - val_accuracy: 0.0000e+00\n",
            "Epoch 100/100\n",
            "10/10 [==============================] - 0s 10ms/step - loss: 21106.3105 - accuracy: 0.0000e+00 - val_loss: 20817.8633 - val_accuracy: 0.0000e+00\n"
          ]
        }
      ]
    },
    {
      "cell_type": "code",
      "source": [
        "plt.plot(r.history['accuracy'])"
      ],
      "metadata": {
        "colab": {
          "base_uri": "https://localhost:8080/",
          "height": 283
        },
        "id": "iuXa1CJnfpVO",
        "outputId": "0de68b9a-cc67-4dc3-a3c5-d7fdfafe553d"
      },
      "execution_count": 66,
      "outputs": [
        {
          "output_type": "execute_result",
          "data": {
            "text/plain": [
              "[<matplotlib.lines.Line2D at 0x7f828363bf90>]"
            ]
          },
          "metadata": {},
          "execution_count": 66
        },
        {
          "output_type": "display_data",
          "data": {
            "text/plain": [
              "<Figure size 432x288 with 1 Axes>"
            ],
            "image/png": "[encoded data removed]"
          },
          "metadata": {
            "needs_background": "light"
          }
        }
      ]
    },
    {
      "cell_type": "markdown",
      "source": [
        "## Model_1 using keras functional API"
      ],
      "metadata": {
        "id": "Bm4-vYZucPMa"
      }
    },
    {
      "cell_type": "code",
      "source": [
        "from tensorflow import keras"
      ],
      "metadata": {
        "id": "49BZ5SRKdt0c"
      },
      "execution_count": 42,
      "outputs": []
    },
    {
      "cell_type": "code",
      "source": [
        "inputs = tf.keras.Input((10,))\n",
        "\n",
        "dense = Dense(32, activation = 'relu')\n",
        "\n",
        "x = dense(inputs)\n",
        "x = Dense(10, activation = 'relu') (x)\n",
        "\n",
        "output = Dense(1) (x)\n",
        "\n",
        "model_1 = keras.Model(inputs = inputs, outputs = output, name = 'model_1')\n",
        "\n",
        "model_1.summary()"
      ],
      "metadata": {
        "colab": {
          "base_uri": "https://localhost:8080/"
        },
        "id": "TVPE5OLQcRlC",
        "outputId": "60b582af-be11-435c-c351-fc3dc292164b"
      },
      "execution_count": 62,
      "outputs": [
        {
          "output_type": "stream",
          "name": "stdout",
          "text": [
            "Model: \"model_1\"\n",
            "_________________________________________________________________\n",
            " Layer (type)                Output Shape              Param #   \n",
            "=================================================================\n",
            " input_7 (InputLayer)        [(None, 10)]              0         \n",
            "                                                                 \n",
            " dense_29 (Dense)            (None, 32)                352       \n",
            "                                                                 \n",
            " dense_30 (Dense)            (None, 10)                330       \n",
            "                                                                 \n",
            " dense_31 (Dense)            (None, 1)                 11        \n",
            "                                                                 \n",
            "=================================================================\n",
            "Total params: 693\n",
            "Trainable params: 693\n",
            "Non-trainable params: 0\n",
            "_________________________________________________________________\n"
          ]
        }
      ]
    },
    {
      "cell_type": "code",
      "source": [
        "model_1.compile(loss = 'MSE', optimizer = 'adam', metrics = ['MSE'])"
      ],
      "metadata": {
        "id": "4rAgxIyGe41E"
      },
      "execution_count": 63,
      "outputs": []
    },
    {
      "cell_type": "code",
      "source": [
        "r = model_1.fit(X_train_scaled, y_train, validation_data = (X_test_scaled, y_test), epochs = 100)"
      ],
      "metadata": {
        "colab": {
          "base_uri": "https://localhost:8080/"
        },
        "id": "pGZQZMDndxT4",
        "outputId": "4baded3c-70f6-402c-defd-54e8a04c5299"
      },
      "execution_count": 67,
      "outputs": [
        {
          "output_type": "stream",
          "name": "stdout",
          "text": [
            "Epoch 1/100\n",
            "10/10 [==============================] - 1s 28ms/step - loss: 29131.6816 - MSE: 29131.6816 - val_loss: 28987.5645 - val_MSE: 28987.5645\n",
            "Epoch 2/100\n",
            "10/10 [==============================] - 0s 5ms/step - loss: 29086.1895 - MSE: 29086.1895 - val_loss: 28946.5000 - val_MSE: 28946.5000\n",
            "Epoch 3/100\n",
            "10/10 [==============================] - 0s 6ms/step - loss: 29048.3887 - MSE: 29048.3887 - val_loss: 28909.5098 - val_MSE: 28909.5098\n",
            "Epoch 4/100\n",
            "10/10 [==============================] - 0s 11ms/step - loss: 29011.1816 - MSE: 29011.1816 - val_loss: 28871.9590 - val_MSE: 28871.9590\n",
            "Epoch 5/100\n",
            "10/10 [==============================] - 0s 10ms/step - loss: 28971.8613 - MSE: 28971.8613 - val_loss: 28828.6855 - val_MSE: 28828.6855\n",
            "Epoch 6/100\n",
            "10/10 [==============================] - 0s 10ms/step - loss: 28925.0195 - MSE: 28925.0195 - val_loss: 28778.9414 - val_MSE: 28778.9414\n",
            "Epoch 7/100\n",
            "10/10 [==============================] - 0s 15ms/step - loss: 28870.1523 - MSE: 28870.1523 - val_loss: 28719.7949 - val_MSE: 28719.7949\n",
            "Epoch 8/100\n",
            "10/10 [==============================] - 0s 10ms/step - loss: 28806.1445 - MSE: 28806.1445 - val_loss: 28647.9395 - val_MSE: 28647.9395\n",
            "Epoch 9/100\n",
            "10/10 [==============================] - 0s 10ms/step - loss: 28726.0039 - MSE: 28726.0039 - val_loss: 28561.6641 - val_MSE: 28561.6641\n",
            "Epoch 10/100\n",
            "10/10 [==============================] - 0s 13ms/step - loss: 28628.8516 - MSE: 28628.8516 - val_loss: 28461.0488 - val_MSE: 28461.0488\n",
            "Epoch 11/100\n",
            "10/10 [==============================] - 0s 9ms/step - loss: 28521.2695 - MSE: 28521.2695 - val_loss: 28338.4863 - val_MSE: 28338.4863\n",
            "Epoch 12/100\n",
            "10/10 [==============================] - 0s 9ms/step - loss: 28388.3652 - MSE: 28388.3652 - val_loss: 28192.8418 - val_MSE: 28192.8418\n",
            "Epoch 13/100\n",
            "10/10 [==============================] - 0s 11ms/step - loss: 28230.8965 - MSE: 28230.8965 - val_loss: 28019.3867 - val_MSE: 28019.3867\n",
            "Epoch 14/100\n",
            "10/10 [==============================] - 0s 9ms/step - loss: 28042.5781 - MSE: 28042.5781 - val_loss: 27803.8262 - val_MSE: 27803.8262\n",
            "Epoch 15/100\n",
            "10/10 [==============================] - 0s 9ms/step - loss: 27799.4980 - MSE: 27799.4980 - val_loss: 27558.3906 - val_MSE: 27558.3906\n",
            "Epoch 16/100\n",
            "10/10 [==============================] - 0s 12ms/step - loss: 27532.4688 - MSE: 27532.4688 - val_loss: 27254.0488 - val_MSE: 27254.0488\n",
            "Epoch 17/100\n",
            "10/10 [==============================] - 0s 10ms/step - loss: 27210.7441 - MSE: 27210.7441 - val_loss: 26906.7227 - val_MSE: 26906.7227\n",
            "Epoch 18/100\n",
            "10/10 [==============================] - 0s 13ms/step - loss: 26837.2754 - MSE: 26837.2754 - val_loss: 26506.4746 - val_MSE: 26506.4746\n",
            "Epoch 19/100\n",
            "10/10 [==============================] - 0s 9ms/step - loss: 26418.7520 - MSE: 26418.7520 - val_loss: 26038.8887 - val_MSE: 26038.8887\n",
            "Epoch 20/100\n",
            "10/10 [==============================] - 0s 8ms/step - loss: 25920.8105 - MSE: 25920.8105 - val_loss: 25530.1914 - val_MSE: 25530.1914\n",
            "Epoch 21/100\n",
            "10/10 [==============================] - 0s 9ms/step - loss: 25384.2344 - MSE: 25384.2344 - val_loss: 24959.4590 - val_MSE: 24959.4590\n",
            "Epoch 22/100\n",
            "10/10 [==============================] - 0s 9ms/step - loss: 24786.3203 - MSE: 24786.3203 - val_loss: 24299.1270 - val_MSE: 24299.1270\n",
            "Epoch 23/100\n",
            "10/10 [==============================] - 0s 10ms/step - loss: 24110.1348 - MSE: 24110.1348 - val_loss: 23580.9980 - val_MSE: 23580.9980\n",
            "Epoch 24/100\n",
            "10/10 [==============================] - 0s 9ms/step - loss: 23355.0391 - MSE: 23355.0391 - val_loss: 22810.8145 - val_MSE: 22810.8145\n",
            "Epoch 25/100\n",
            "10/10 [==============================] - 0s 9ms/step - loss: 22583.6562 - MSE: 22583.6562 - val_loss: 21965.0312 - val_MSE: 21965.0312\n",
            "Epoch 26/100\n",
            "10/10 [==============================] - 0s 10ms/step - loss: 21714.6621 - MSE: 21714.6621 - val_loss: 21087.9824 - val_MSE: 21087.9805\n",
            "Epoch 27/100\n",
            "10/10 [==============================] - 0s 9ms/step - loss: 20809.8496 - MSE: 20809.8496 - val_loss: 20123.8203 - val_MSE: 20123.8203\n",
            "Epoch 28/100\n",
            "10/10 [==============================] - 0s 9ms/step - loss: 19855.2305 - MSE: 19855.2305 - val_loss: 19134.1992 - val_MSE: 19134.1992\n",
            "Epoch 29/100\n",
            "10/10 [==============================] - 0s 9ms/step - loss: 18880.4062 - MSE: 18880.4062 - val_loss: 18106.8867 - val_MSE: 18106.8867\n",
            "Epoch 30/100\n",
            "10/10 [==============================] - 0s 9ms/step - loss: 17857.0098 - MSE: 17857.0098 - val_loss: 17056.7578 - val_MSE: 17056.7578\n",
            "Epoch 31/100\n",
            "10/10 [==============================] - 0s 9ms/step - loss: 16852.8789 - MSE: 16852.8789 - val_loss: 15991.8564 - val_MSE: 15991.8564\n",
            "Epoch 32/100\n",
            "10/10 [==============================] - 0s 9ms/step - loss: 15817.7734 - MSE: 15817.7734 - val_loss: 14977.2451 - val_MSE: 14977.2451\n",
            "Epoch 33/100\n",
            "10/10 [==============================] - 0s 11ms/step - loss: 14856.7852 - MSE: 14856.7852 - val_loss: 13949.9434 - val_MSE: 13949.9434\n",
            "Epoch 34/100\n",
            "10/10 [==============================] - 0s 10ms/step - loss: 13892.3906 - MSE: 13892.3906 - val_loss: 13005.0752 - val_MSE: 13005.0752\n",
            "Epoch 35/100\n",
            "10/10 [==============================] - 0s 9ms/step - loss: 13006.9287 - MSE: 13006.9287 - val_loss: 12135.7578 - val_MSE: 12135.7578\n",
            "Epoch 36/100\n",
            "10/10 [==============================] - 0s 8ms/step - loss: 12178.0996 - MSE: 12178.0996 - val_loss: 11288.0068 - val_MSE: 11288.0068\n",
            "Epoch 37/100\n",
            "10/10 [==============================] - 0s 7ms/step - loss: 11410.9014 - MSE: 11410.9014 - val_loss: 10500.0225 - val_MSE: 10500.0225\n",
            "Epoch 38/100\n",
            "10/10 [==============================] - 0s 7ms/step - loss: 10717.5156 - MSE: 10717.5156 - val_loss: 9806.3818 - val_MSE: 9806.3818\n",
            "Epoch 39/100\n",
            "10/10 [==============================] - 0s 9ms/step - loss: 10083.2305 - MSE: 10083.2305 - val_loss: 9176.0518 - val_MSE: 9176.0518\n",
            "Epoch 40/100\n",
            "10/10 [==============================] - 0s 9ms/step - loss: 9522.1318 - MSE: 9522.1318 - val_loss: 8633.6123 - val_MSE: 8633.6123\n",
            "Epoch 41/100\n",
            "10/10 [==============================] - 0s 14ms/step - loss: 9026.3027 - MSE: 9026.3027 - val_loss: 8148.6602 - val_MSE: 8148.6602\n",
            "Epoch 42/100\n",
            "10/10 [==============================] - 0s 8ms/step - loss: 8578.1885 - MSE: 8578.1885 - val_loss: 7724.8022 - val_MSE: 7724.8022\n",
            "Epoch 43/100\n",
            "10/10 [==============================] - 0s 9ms/step - loss: 8196.7725 - MSE: 8196.7725 - val_loss: 7363.8350 - val_MSE: 7363.8350\n",
            "Epoch 44/100\n",
            "10/10 [==============================] - 0s 10ms/step - loss: 7878.3389 - MSE: 7878.3389 - val_loss: 7048.3804 - val_MSE: 7048.3804\n",
            "Epoch 45/100\n",
            "10/10 [==============================] - 0s 9ms/step - loss: 7565.2788 - MSE: 7565.2788 - val_loss: 6800.1157 - val_MSE: 6800.1157\n",
            "Epoch 46/100\n",
            "10/10 [==============================] - 0s 10ms/step - loss: 7303.6548 - MSE: 7303.6548 - val_loss: 6578.5586 - val_MSE: 6578.5586\n",
            "Epoch 47/100\n",
            "10/10 [==============================] - 0s 9ms/step - loss: 7066.7891 - MSE: 7066.7891 - val_loss: 6375.7759 - val_MSE: 6375.7759\n",
            "Epoch 48/100\n",
            "10/10 [==============================] - 0s 8ms/step - loss: 6839.5811 - MSE: 6839.5811 - val_loss: 6196.9419 - val_MSE: 6196.9419\n",
            "Epoch 49/100\n",
            "10/10 [==============================] - 0s 9ms/step - loss: 6640.5659 - MSE: 6640.5659 - val_loss: 6032.1084 - val_MSE: 6032.1084\n",
            "Epoch 50/100\n",
            "10/10 [==============================] - 0s 11ms/step - loss: 6446.1030 - MSE: 6446.1030 - val_loss: 5883.5854 - val_MSE: 5883.5854\n",
            "Epoch 51/100\n",
            "10/10 [==============================] - 0s 11ms/step - loss: 6258.6562 - MSE: 6258.6562 - val_loss: 5767.9546 - val_MSE: 5767.9546\n",
            "Epoch 52/100\n",
            "10/10 [==============================] - 0s 9ms/step - loss: 6096.1489 - MSE: 6096.1489 - val_loss: 5654.0605 - val_MSE: 5654.0605\n",
            "Epoch 53/100\n",
            "10/10 [==============================] - 0s 11ms/step - loss: 5948.3647 - MSE: 5948.3647 - val_loss: 5555.0449 - val_MSE: 5555.0449\n",
            "Epoch 54/100\n",
            "10/10 [==============================] - 0s 10ms/step - loss: 5808.8613 - MSE: 5808.8613 - val_loss: 5474.6753 - val_MSE: 5474.6753\n",
            "Epoch 55/100\n",
            "10/10 [==============================] - 0s 9ms/step - loss: 5662.9473 - MSE: 5662.9473 - val_loss: 5400.5728 - val_MSE: 5400.5728\n",
            "Epoch 56/100\n",
            "10/10 [==============================] - 0s 11ms/step - loss: 5544.6709 - MSE: 5544.6709 - val_loss: 5335.9072 - val_MSE: 5335.9072\n",
            "Epoch 57/100\n",
            "10/10 [==============================] - 0s 11ms/step - loss: 5437.0361 - MSE: 5437.0361 - val_loss: 5283.6060 - val_MSE: 5283.6060\n",
            "Epoch 58/100\n",
            "10/10 [==============================] - 0s 10ms/step - loss: 5330.5156 - MSE: 5330.5156 - val_loss: 5247.4614 - val_MSE: 5247.4614\n",
            "Epoch 59/100\n",
            "10/10 [==============================] - 0s 9ms/step - loss: 5236.4746 - MSE: 5236.4746 - val_loss: 5203.1465 - val_MSE: 5203.1465\n",
            "Epoch 60/100\n",
            "10/10 [==============================] - 0s 8ms/step - loss: 5144.5059 - MSE: 5144.5059 - val_loss: 5170.5020 - val_MSE: 5170.5020\n",
            "Epoch 61/100\n",
            "10/10 [==============================] - 0s 11ms/step - loss: 5066.7275 - MSE: 5066.7275 - val_loss: 5140.0503 - val_MSE: 5140.0503\n",
            "Epoch 62/100\n",
            "10/10 [==============================] - 0s 9ms/step - loss: 4975.5288 - MSE: 4975.5288 - val_loss: 5110.4155 - val_MSE: 5110.4155\n",
            "Epoch 63/100\n",
            "10/10 [==============================] - 0s 10ms/step - loss: 4914.3774 - MSE: 4914.3774 - val_loss: 5074.6978 - val_MSE: 5074.6978\n",
            "Epoch 64/100\n",
            "10/10 [==============================] - 0s 9ms/step - loss: 4844.8672 - MSE: 4844.8672 - val_loss: 5039.1138 - val_MSE: 5039.1138\n",
            "Epoch 65/100\n",
            "10/10 [==============================] - 0s 14ms/step - loss: 4783.5698 - MSE: 4783.5698 - val_loss: 5001.9424 - val_MSE: 5001.9424\n",
            "Epoch 66/100\n",
            "10/10 [==============================] - 0s 9ms/step - loss: 4727.4658 - MSE: 4727.4658 - val_loss: 4978.9863 - val_MSE: 4978.9863\n",
            "Epoch 67/100\n",
            "10/10 [==============================] - 0s 9ms/step - loss: 4670.2861 - MSE: 4670.2861 - val_loss: 4952.8037 - val_MSE: 4952.8037\n",
            "Epoch 68/100\n",
            "10/10 [==============================] - 0s 9ms/step - loss: 4622.8018 - MSE: 4622.8018 - val_loss: 4925.9028 - val_MSE: 4925.9028\n",
            "Epoch 69/100\n",
            "10/10 [==============================] - 0s 9ms/step - loss: 4574.1562 - MSE: 4574.1562 - val_loss: 4889.8760 - val_MSE: 4889.8760\n",
            "Epoch 70/100\n",
            "10/10 [==============================] - 0s 9ms/step - loss: 4526.1904 - MSE: 4526.1904 - val_loss: 4859.2930 - val_MSE: 4859.2930\n",
            "Epoch 71/100\n",
            "10/10 [==============================] - 0s 10ms/step - loss: 4483.5967 - MSE: 4483.5967 - val_loss: 4832.1230 - val_MSE: 4832.1230\n",
            "Epoch 72/100\n",
            "10/10 [==============================] - 0s 9ms/step - loss: 4439.8955 - MSE: 4439.8955 - val_loss: 4806.7139 - val_MSE: 4806.7139\n",
            "Epoch 73/100\n",
            "10/10 [==============================] - 0s 9ms/step - loss: 4402.4233 - MSE: 4402.4233 - val_loss: 4768.7563 - val_MSE: 4768.7563\n",
            "Epoch 74/100\n",
            "10/10 [==============================] - 0s 14ms/step - loss: 4354.6670 - MSE: 4354.6670 - val_loss: 4743.2534 - val_MSE: 4743.2534\n",
            "Epoch 75/100\n",
            "10/10 [==============================] - 0s 9ms/step - loss: 4317.1909 - MSE: 4317.1909 - val_loss: 4720.3662 - val_MSE: 4720.3662\n",
            "Epoch 76/100\n",
            "10/10 [==============================] - 0s 9ms/step - loss: 4274.9014 - MSE: 4274.9014 - val_loss: 4691.8833 - val_MSE: 4691.8833\n",
            "Epoch 77/100\n",
            "10/10 [==============================] - 0s 11ms/step - loss: 4235.0171 - MSE: 4235.0171 - val_loss: 4667.0015 - val_MSE: 4667.0015\n",
            "Epoch 78/100\n",
            "10/10 [==============================] - 0s 9ms/step - loss: 4190.8237 - MSE: 4190.8237 - val_loss: 4652.2109 - val_MSE: 4652.2109\n",
            "Epoch 79/100\n",
            "10/10 [==============================] - 0s 10ms/step - loss: 4158.8281 - MSE: 4158.8281 - val_loss: 4633.4287 - val_MSE: 4633.4287\n",
            "Epoch 80/100\n",
            "10/10 [==============================] - 0s 9ms/step - loss: 4129.1553 - MSE: 4129.1553 - val_loss: 4617.0469 - val_MSE: 4617.0469\n",
            "Epoch 81/100\n",
            "10/10 [==============================] - 0s 11ms/step - loss: 4094.1743 - MSE: 4094.1743 - val_loss: 4592.5474 - val_MSE: 4592.5474\n",
            "Epoch 82/100\n",
            "10/10 [==============================] - 0s 10ms/step - loss: 4063.9456 - MSE: 4063.9456 - val_loss: 4562.8511 - val_MSE: 4562.8511\n",
            "Epoch 83/100\n",
            "10/10 [==============================] - 0s 8ms/step - loss: 4033.0117 - MSE: 4033.0117 - val_loss: 4517.1440 - val_MSE: 4517.1440\n",
            "Epoch 84/100\n",
            "10/10 [==============================] - 0s 10ms/step - loss: 3999.5259 - MSE: 3999.5259 - val_loss: 4486.3008 - val_MSE: 4486.3008\n",
            "Epoch 85/100\n",
            "10/10 [==============================] - 0s 9ms/step - loss: 3971.4966 - MSE: 3971.4966 - val_loss: 4455.2241 - val_MSE: 4455.2241\n",
            "Epoch 86/100\n",
            "10/10 [==============================] - 0s 12ms/step - loss: 3940.1279 - MSE: 3940.1279 - val_loss: 4425.2974 - val_MSE: 4425.2974\n",
            "Epoch 87/100\n",
            "10/10 [==============================] - 0s 7ms/step - loss: 3912.5063 - MSE: 3912.5063 - val_loss: 4393.7832 - val_MSE: 4393.7832\n",
            "Epoch 88/100\n",
            "10/10 [==============================] - 0s 9ms/step - loss: 3884.6841 - MSE: 3884.6841 - val_loss: 4362.4312 - val_MSE: 4362.4312\n",
            "Epoch 89/100\n",
            "10/10 [==============================] - 0s 9ms/step - loss: 3855.3438 - MSE: 3855.3438 - val_loss: 4345.0981 - val_MSE: 4345.0981\n",
            "Epoch 90/100\n",
            "10/10 [==============================] - 0s 9ms/step - loss: 3830.2153 - MSE: 3830.2153 - val_loss: 4339.4521 - val_MSE: 4339.4521\n",
            "Epoch 91/100\n",
            "10/10 [==============================] - 0s 13ms/step - loss: 3798.6360 - MSE: 3798.6360 - val_loss: 4319.0439 - val_MSE: 4319.0439\n",
            "Epoch 92/100\n",
            "10/10 [==============================] - 0s 12ms/step - loss: 3774.2227 - MSE: 3774.2227 - val_loss: 4293.4585 - val_MSE: 4293.4585\n",
            "Epoch 93/100\n",
            "10/10 [==============================] - 0s 11ms/step - loss: 3745.3049 - MSE: 3745.3049 - val_loss: 4260.3945 - val_MSE: 4260.3945\n",
            "Epoch 94/100\n",
            "10/10 [==============================] - 0s 11ms/step - loss: 3721.0054 - MSE: 3721.0054 - val_loss: 4223.9009 - val_MSE: 4223.9009\n",
            "Epoch 95/100\n",
            "10/10 [==============================] - 0s 16ms/step - loss: 3696.2297 - MSE: 3696.2297 - val_loss: 4201.4565 - val_MSE: 4201.4565\n",
            "Epoch 96/100\n",
            "10/10 [==============================] - 0s 10ms/step - loss: 3674.5962 - MSE: 3674.5962 - val_loss: 4182.2476 - val_MSE: 4182.2476\n",
            "Epoch 97/100\n",
            "10/10 [==============================] - 0s 14ms/step - loss: 3651.0930 - MSE: 3651.0930 - val_loss: 4158.1895 - val_MSE: 4158.1895\n",
            "Epoch 98/100\n",
            "10/10 [==============================] - 0s 12ms/step - loss: 3629.5098 - MSE: 3629.5098 - val_loss: 4135.3799 - val_MSE: 4135.3799\n",
            "Epoch 99/100\n",
            "10/10 [==============================] - 0s 23ms/step - loss: 3607.7947 - MSE: 3607.7947 - val_loss: 4109.2510 - val_MSE: 4109.2510\n",
            "Epoch 100/100\n",
            "10/10 [==============================] - 0s 24ms/step - loss: 3583.4619 - MSE: 3583.4619 - val_loss: 4098.5923 - val_MSE: 4098.5923\n"
          ]
        }
      ]
    },
    {
      "cell_type": "code",
      "source": [
        "plt.plot(r.history['MSE'])"
      ],
      "metadata": {
        "colab": {
          "base_uri": "https://localhost:8080/",
          "height": 284
        },
        "id": "VERTOOQJfwhd",
        "outputId": "fd26ddeb-e69e-435f-9aec-b58299375885"
      },
      "execution_count": 68,
      "outputs": [
        {
          "output_type": "execute_result",
          "data": {
            "text/plain": [
              "[<matplotlib.lines.Line2D at 0x7f82834525d0>]"
            ]
          },
          "metadata": {},
          "execution_count": 68
        },
        {
          "output_type": "display_data",
          "data": {
            "text/plain": [
              "<Figure size 432x288 with 1 Axes>"
            ],
            "image/png": "[encoded data removed]"
          },
          "metadata": {
            "needs_background": "light"
          }
        }
      ]
    },
    {
      "cell_type": "markdown",
      "source": [
        "## Model_2 using keras functional API"
      ],
      "metadata": {
        "id": "UnbFk4VSeBBd"
      }
    },
    {
      "cell_type": "code",
      "source": [
        "inputs = keras.Input((10,))\n",
        "\n",
        "dense_1 = Dense(128, activation = 'relu')\n",
        "\n",
        "x = dense_1(inputs)\n",
        "x = Dense(264, activation = 'relu') (x) # Making it big to just experiment\n",
        "x = Dense(100, activation = 'relu') (x)\n",
        "x = Dense(50, activation = 'relu') (x)\n",
        "x = Dense(10, activation = 'relu') (x)\n",
        "\n",
        "output = Dense(1) (x)\n",
        "\n",
        "model_3 = keras.Model(inputs = inputs, outputs = output, name = 'model_3_bigboy')\n",
        "\n",
        "model_3.summary()"
      ],
      "metadata": {
        "colab": {
          "base_uri": "https://localhost:8080/"
        },
        "id": "GCM8yPU6eEKG",
        "outputId": "3231e8c7-503c-4064-a373-b57d273fa494"
      },
      "execution_count": 60,
      "outputs": [
        {
          "output_type": "stream",
          "name": "stdout",
          "text": [
            "Model: \"model_3_bigboy\"\n",
            "_________________________________________________________________\n",
            " Layer (type)                Output Shape              Param #   \n",
            "=================================================================\n",
            " input_6 (InputLayer)        [(None, 10)]              0         \n",
            "                                                                 \n",
            " dense_23 (Dense)            (None, 128)               1408      \n",
            "                                                                 \n",
            " dense_24 (Dense)            (None, 264)               34056     \n",
            "                                                                 \n",
            " dense_25 (Dense)            (None, 100)               26500     \n",
            "                                                                 \n",
            " dense_26 (Dense)            (None, 50)                5050      \n",
            "                                                                 \n",
            " dense_27 (Dense)            (None, 10)                510       \n",
            "                                                                 \n",
            " dense_28 (Dense)            (None, 1)                 11        \n",
            "                                                                 \n",
            "=================================================================\n",
            "Total params: 67,535\n",
            "Trainable params: 67,535\n",
            "Non-trainable params: 0\n",
            "_________________________________________________________________\n"
          ]
        }
      ]
    },
    {
      "cell_type": "code",
      "source": [
        "model_3.compile(loss = 'MAE', optimizer = 'adam', metrics = ['MSE', 'MAE'])"
      ],
      "metadata": {
        "id": "yjTx8BY3fNhg"
      },
      "execution_count": 61,
      "outputs": []
    },
    {
      "cell_type": "code",
      "source": [
        "r = model_3.fit(X_train_scaled, y_train, validation_data = (X_test_scaled, y_test), epochs = 100)"
      ],
      "metadata": {
        "colab": {
          "base_uri": "https://localhost:8080/"
        },
        "id": "7cXisY26es7A",
        "outputId": "e1279470-e7c1-426e-8251-1044347ecae9"
      },
      "execution_count": 69,
      "outputs": [
        {
          "output_type": "stream",
          "name": "stdout",
          "text": [
            "Epoch 1/100\n",
            "10/10 [==============================] - 2s 51ms/step - loss: 151.3705 - MSE: 28927.0430 - MAE: 151.3705 - val_loss: 150.1169 - val_MSE: 28284.4727 - val_MAE: 150.1169\n",
            "Epoch 2/100\n",
            "10/10 [==============================] - 0s 13ms/step - loss: 146.6259 - MSE: 27437.2383 - MAE: 146.6259 - val_loss: 138.9465 - val_MSE: 25021.6934 - val_MAE: 138.9465\n",
            "Epoch 3/100\n",
            "10/10 [==============================] - 0s 14ms/step - loss: 125.0828 - MSE: 21457.4316 - MAE: 125.0828 - val_loss: 96.1722 - val_MSE: 14448.5928 - val_MAE: 96.1722\n",
            "Epoch 4/100\n",
            "10/10 [==============================] - 0s 13ms/step - loss: 73.8764 - MSE: 9202.5078 - MAE: 73.8764 - val_loss: 65.7998 - val_MSE: 6470.4731 - val_MAE: 65.7998\n",
            "Epoch 5/100\n",
            "10/10 [==============================] - 0s 15ms/step - loss: 60.9505 - MSE: 5655.1865 - MAE: 60.9505 - val_loss: 51.8114 - val_MSE: 4337.3516 - val_MAE: 51.8114\n",
            "Epoch 6/100\n",
            "10/10 [==============================] - 0s 15ms/step - loss: 52.4129 - MSE: 4518.2520 - MAE: 52.4129 - val_loss: 49.0242 - val_MSE: 4116.1611 - val_MAE: 49.0242\n",
            "Epoch 7/100\n",
            "10/10 [==============================] - 0s 15ms/step - loss: 48.2595 - MSE: 3902.0295 - MAE: 48.2595 - val_loss: 48.5402 - val_MSE: 3925.0652 - val_MAE: 48.5402\n",
            "Epoch 8/100\n",
            "10/10 [==============================] - 0s 14ms/step - loss: 46.1728 - MSE: 3635.8569 - MAE: 46.1728 - val_loss: 49.7336 - val_MSE: 4018.0591 - val_MAE: 49.7336\n",
            "Epoch 9/100\n",
            "10/10 [==============================] - 0s 14ms/step - loss: 45.3407 - MSE: 3465.6160 - MAE: 45.3407 - val_loss: 50.1157 - val_MSE: 3962.5325 - val_MAE: 50.1157\n",
            "Epoch 10/100\n",
            "10/10 [==============================] - 0s 13ms/step - loss: 45.3518 - MSE: 3463.1631 - MAE: 45.3518 - val_loss: 48.5333 - val_MSE: 3884.3062 - val_MAE: 48.5333\n",
            "Epoch 11/100\n",
            "10/10 [==============================] - 0s 13ms/step - loss: 44.5600 - MSE: 3347.0459 - MAE: 44.5600 - val_loss: 48.7168 - val_MSE: 3778.3604 - val_MAE: 48.7168\n",
            "Epoch 12/100\n",
            "10/10 [==============================] - 0s 13ms/step - loss: 45.1156 - MSE: 3442.9050 - MAE: 45.1156 - val_loss: 47.2151 - val_MSE: 3698.7949 - val_MAE: 47.2151\n",
            "Epoch 13/100\n",
            "10/10 [==============================] - 0s 14ms/step - loss: 46.0541 - MSE: 3546.7512 - MAE: 46.0541 - val_loss: 47.5404 - val_MSE: 3783.5427 - val_MAE: 47.5404\n",
            "Epoch 14/100\n",
            "10/10 [==============================] - 0s 13ms/step - loss: 44.0438 - MSE: 3302.8423 - MAE: 44.0438 - val_loss: 47.2538 - val_MSE: 3629.8186 - val_MAE: 47.2538\n",
            "Epoch 15/100\n",
            "10/10 [==============================] - 0s 14ms/step - loss: 43.1125 - MSE: 3186.6348 - MAE: 43.1125 - val_loss: 46.8414 - val_MSE: 3599.6609 - val_MAE: 46.8414\n",
            "Epoch 16/100\n",
            "10/10 [==============================] - 0s 14ms/step - loss: 42.6518 - MSE: 3077.0625 - MAE: 42.6518 - val_loss: 46.8486 - val_MSE: 3534.4397 - val_MAE: 46.8486\n",
            "Epoch 17/100\n",
            "10/10 [==============================] - 0s 13ms/step - loss: 42.1659 - MSE: 3050.0015 - MAE: 42.1659 - val_loss: 46.4201 - val_MSE: 3555.5698 - val_MAE: 46.4201\n",
            "Epoch 18/100\n",
            "10/10 [==============================] - 0s 13ms/step - loss: 41.9227 - MSE: 3025.8342 - MAE: 41.9227 - val_loss: 46.3043 - val_MSE: 3540.7710 - val_MAE: 46.3043\n",
            "Epoch 19/100\n",
            "10/10 [==============================] - 0s 13ms/step - loss: 41.6577 - MSE: 3015.9741 - MAE: 41.6577 - val_loss: 46.8270 - val_MSE: 3568.6926 - val_MAE: 46.8270\n",
            "Epoch 20/100\n",
            "10/10 [==============================] - 0s 18ms/step - loss: 41.8400 - MSE: 3037.2930 - MAE: 41.8400 - val_loss: 46.2921 - val_MSE: 3556.5266 - val_MAE: 46.2921\n",
            "Epoch 21/100\n",
            "10/10 [==============================] - 0s 13ms/step - loss: 42.0797 - MSE: 3081.4075 - MAE: 42.0797 - val_loss: 45.7062 - val_MSE: 3424.9966 - val_MAE: 45.7062\n",
            "Epoch 22/100\n",
            "10/10 [==============================] - 0s 13ms/step - loss: 41.1564 - MSE: 2949.5505 - MAE: 41.1564 - val_loss: 44.4162 - val_MSE: 3325.4995 - val_MAE: 44.4162\n",
            "Epoch 23/100\n",
            "10/10 [==============================] - 0s 14ms/step - loss: 40.8336 - MSE: 2870.4602 - MAE: 40.8336 - val_loss: 44.5753 - val_MSE: 3303.2915 - val_MAE: 44.5753\n",
            "Epoch 24/100\n",
            "10/10 [==============================] - 0s 15ms/step - loss: 40.9322 - MSE: 2863.1138 - MAE: 40.9322 - val_loss: 45.5553 - val_MSE: 3362.7161 - val_MAE: 45.5553\n",
            "Epoch 25/100\n",
            "10/10 [==============================] - 0s 17ms/step - loss: 40.0529 - MSE: 2816.6021 - MAE: 40.0529 - val_loss: 44.2954 - val_MSE: 3251.7253 - val_MAE: 44.2954\n",
            "Epoch 26/100\n",
            "10/10 [==============================] - 0s 11ms/step - loss: 40.6859 - MSE: 2859.0049 - MAE: 40.6859 - val_loss: 44.2942 - val_MSE: 3256.9417 - val_MAE: 44.2942\n",
            "Epoch 27/100\n",
            "10/10 [==============================] - 0s 16ms/step - loss: 40.1233 - MSE: 2844.5662 - MAE: 40.1233 - val_loss: 44.5428 - val_MSE: 3252.2065 - val_MAE: 44.5428\n",
            "Epoch 28/100\n",
            "10/10 [==============================] - 0s 14ms/step - loss: 39.5794 - MSE: 2767.7078 - MAE: 39.5794 - val_loss: 44.2935 - val_MSE: 3194.1699 - val_MAE: 44.2935\n",
            "Epoch 29/100\n",
            "10/10 [==============================] - 0s 16ms/step - loss: 40.0213 - MSE: 2780.0251 - MAE: 40.0213 - val_loss: 44.0439 - val_MSE: 3214.8984 - val_MAE: 44.0439\n",
            "Epoch 30/100\n",
            "10/10 [==============================] - 0s 15ms/step - loss: 39.4473 - MSE: 2749.7188 - MAE: 39.4473 - val_loss: 44.0229 - val_MSE: 3200.4417 - val_MAE: 44.0229\n",
            "Epoch 31/100\n",
            "10/10 [==============================] - 0s 12ms/step - loss: 39.1478 - MSE: 2758.6416 - MAE: 39.1478 - val_loss: 44.4517 - val_MSE: 3248.0447 - val_MAE: 44.4517\n",
            "Epoch 32/100\n",
            "10/10 [==============================] - 0s 11ms/step - loss: 39.2875 - MSE: 2727.6072 - MAE: 39.2875 - val_loss: 44.4458 - val_MSE: 3179.2683 - val_MAE: 44.4458\n",
            "Epoch 33/100\n",
            "10/10 [==============================] - 0s 13ms/step - loss: 38.8238 - MSE: 2684.3569 - MAE: 38.8238 - val_loss: 44.4831 - val_MSE: 3263.4099 - val_MAE: 44.4831\n",
            "Epoch 34/100\n",
            "10/10 [==============================] - 0s 17ms/step - loss: 38.6052 - MSE: 2641.6931 - MAE: 38.6052 - val_loss: 44.4943 - val_MSE: 3217.5596 - val_MAE: 44.4943\n",
            "Epoch 35/100\n",
            "10/10 [==============================] - 0s 14ms/step - loss: 38.5979 - MSE: 2659.3989 - MAE: 38.5979 - val_loss: 44.5257 - val_MSE: 3240.6948 - val_MAE: 44.5257\n",
            "Epoch 36/100\n",
            "10/10 [==============================] - 0s 14ms/step - loss: 38.6735 - MSE: 2686.7842 - MAE: 38.6735 - val_loss: 43.8415 - val_MSE: 3212.9001 - val_MAE: 43.8415\n",
            "Epoch 37/100\n",
            "10/10 [==============================] - 0s 14ms/step - loss: 38.7941 - MSE: 2697.2246 - MAE: 38.7941 - val_loss: 44.8608 - val_MSE: 3271.7910 - val_MAE: 44.8608\n",
            "Epoch 38/100\n",
            "10/10 [==============================] - 0s 10ms/step - loss: 37.5310 - MSE: 2546.9514 - MAE: 37.5310 - val_loss: 43.4787 - val_MSE: 3189.1382 - val_MAE: 43.4787\n",
            "Epoch 39/100\n",
            "10/10 [==============================] - 0s 11ms/step - loss: 38.0826 - MSE: 2585.7815 - MAE: 38.0826 - val_loss: 43.2636 - val_MSE: 3166.3992 - val_MAE: 43.2636\n",
            "Epoch 40/100\n",
            "10/10 [==============================] - 0s 13ms/step - loss: 37.1522 - MSE: 2519.9387 - MAE: 37.1522 - val_loss: 43.8376 - val_MSE: 3211.7368 - val_MAE: 43.8376\n",
            "Epoch 41/100\n",
            "10/10 [==============================] - 0s 16ms/step - loss: 37.6591 - MSE: 2552.6772 - MAE: 37.6591 - val_loss: 43.3352 - val_MSE: 3151.9697 - val_MAE: 43.3352\n",
            "Epoch 42/100\n",
            "10/10 [==============================] - 0s 14ms/step - loss: 37.2822 - MSE: 2566.2070 - MAE: 37.2822 - val_loss: 43.3880 - val_MSE: 3155.0789 - val_MAE: 43.3880\n",
            "Epoch 43/100\n",
            "10/10 [==============================] - 0s 13ms/step - loss: 36.6441 - MSE: 2484.3281 - MAE: 36.6441 - val_loss: 43.4096 - val_MSE: 3129.4170 - val_MAE: 43.4096\n",
            "Epoch 44/100\n",
            "10/10 [==============================] - 0s 12ms/step - loss: 37.1071 - MSE: 2535.5796 - MAE: 37.1071 - val_loss: 43.2432 - val_MSE: 3127.9575 - val_MAE: 43.2432\n",
            "Epoch 45/100\n",
            "10/10 [==============================] - 0s 13ms/step - loss: 36.7637 - MSE: 2515.3384 - MAE: 36.7637 - val_loss: 43.8264 - val_MSE: 3211.0996 - val_MAE: 43.8264\n",
            "Epoch 46/100\n",
            "10/10 [==============================] - 0s 13ms/step - loss: 36.2060 - MSE: 2474.3040 - MAE: 36.2060 - val_loss: 43.6318 - val_MSE: 3162.9290 - val_MAE: 43.6318\n",
            "Epoch 47/100\n",
            "10/10 [==============================] - 0s 13ms/step - loss: 36.2939 - MSE: 2446.1917 - MAE: 36.2939 - val_loss: 42.9729 - val_MSE: 3065.7222 - val_MAE: 42.9729\n",
            "Epoch 48/100\n",
            "10/10 [==============================] - 0s 13ms/step - loss: 37.4305 - MSE: 2540.6409 - MAE: 37.4305 - val_loss: 43.3398 - val_MSE: 3136.5437 - val_MAE: 43.3398\n",
            "Epoch 49/100\n",
            "10/10 [==============================] - 0s 13ms/step - loss: 36.7535 - MSE: 2475.0723 - MAE: 36.7535 - val_loss: 42.9111 - val_MSE: 3172.1421 - val_MAE: 42.9111\n",
            "Epoch 50/100\n",
            "10/10 [==============================] - 0s 12ms/step - loss: 36.0644 - MSE: 2458.5679 - MAE: 36.0644 - val_loss: 43.8903 - val_MSE: 3233.4619 - val_MAE: 43.8903\n",
            "Epoch 51/100\n",
            "10/10 [==============================] - 0s 13ms/step - loss: 36.2003 - MSE: 2446.6167 - MAE: 36.2003 - val_loss: 42.4228 - val_MSE: 3049.2722 - val_MAE: 42.4228\n",
            "Epoch 52/100\n",
            "10/10 [==============================] - 0s 13ms/step - loss: 35.4743 - MSE: 2369.8655 - MAE: 35.4743 - val_loss: 43.0556 - val_MSE: 3104.4355 - val_MAE: 43.0556\n",
            "Epoch 53/100\n",
            "10/10 [==============================] - 0s 15ms/step - loss: 35.3158 - MSE: 2351.5830 - MAE: 35.3158 - val_loss: 43.4274 - val_MSE: 3220.7212 - val_MAE: 43.4274\n",
            "Epoch 54/100\n",
            "10/10 [==============================] - 0s 14ms/step - loss: 35.5375 - MSE: 2365.0674 - MAE: 35.5375 - val_loss: 42.7020 - val_MSE: 3105.9099 - val_MAE: 42.7020\n",
            "Epoch 55/100\n",
            "10/10 [==============================] - 0s 14ms/step - loss: 35.0946 - MSE: 2368.8940 - MAE: 35.0946 - val_loss: 43.7772 - val_MSE: 3244.7642 - val_MAE: 43.7772\n",
            "Epoch 56/100\n",
            "10/10 [==============================] - 0s 16ms/step - loss: 35.7480 - MSE: 2446.1030 - MAE: 35.7480 - val_loss: 45.1166 - val_MSE: 3529.0393 - val_MAE: 45.1166\n",
            "Epoch 57/100\n",
            "10/10 [==============================] - 0s 14ms/step - loss: 36.3717 - MSE: 2414.4385 - MAE: 36.3717 - val_loss: 43.8517 - val_MSE: 3281.7498 - val_MAE: 43.8517\n",
            "Epoch 58/100\n",
            "10/10 [==============================] - 0s 15ms/step - loss: 34.9645 - MSE: 2279.0081 - MAE: 34.9645 - val_loss: 42.6430 - val_MSE: 3140.0996 - val_MAE: 42.6430\n",
            "Epoch 59/100\n",
            "10/10 [==============================] - 0s 13ms/step - loss: 34.2615 - MSE: 2236.1882 - MAE: 34.2615 - val_loss: 42.9010 - val_MSE: 3125.0256 - val_MAE: 42.9010\n",
            "Epoch 60/100\n",
            "10/10 [==============================] - 0s 17ms/step - loss: 33.9564 - MSE: 2266.2126 - MAE: 33.9564 - val_loss: 42.7363 - val_MSE: 3142.2173 - val_MAE: 42.7363\n",
            "Epoch 61/100\n",
            "10/10 [==============================] - 0s 12ms/step - loss: 33.4639 - MSE: 2179.3140 - MAE: 33.4639 - val_loss: 42.4467 - val_MSE: 3070.3218 - val_MAE: 42.4467\n",
            "Epoch 62/100\n",
            "10/10 [==============================] - 0s 15ms/step - loss: 33.2038 - MSE: 2173.5183 - MAE: 33.2038 - val_loss: 42.0875 - val_MSE: 3023.3538 - val_MAE: 42.0875\n",
            "Epoch 63/100\n",
            "10/10 [==============================] - 0s 15ms/step - loss: 32.9882 - MSE: 2163.8948 - MAE: 32.9882 - val_loss: 42.6240 - val_MSE: 3122.3743 - val_MAE: 42.6240\n",
            "Epoch 64/100\n",
            "10/10 [==============================] - 0s 11ms/step - loss: 33.1500 - MSE: 2161.3308 - MAE: 33.1500 - val_loss: 42.0561 - val_MSE: 3017.9617 - val_MAE: 42.0561\n",
            "Epoch 65/100\n",
            "10/10 [==============================] - 0s 14ms/step - loss: 32.7836 - MSE: 2150.1499 - MAE: 32.7836 - val_loss: 43.0276 - val_MSE: 3180.4241 - val_MAE: 43.0276\n",
            "Epoch 66/100\n",
            "10/10 [==============================] - 0s 13ms/step - loss: 33.4246 - MSE: 2175.8835 - MAE: 33.4246 - val_loss: 42.8283 - val_MSE: 3146.2700 - val_MAE: 42.8283\n",
            "Epoch 67/100\n",
            "10/10 [==============================] - 0s 13ms/step - loss: 32.2370 - MSE: 2092.1133 - MAE: 32.2370 - val_loss: 42.9801 - val_MSE: 3211.0928 - val_MAE: 42.9801\n",
            "Epoch 68/100\n",
            "10/10 [==============================] - 0s 14ms/step - loss: 33.0500 - MSE: 2175.0835 - MAE: 33.0500 - val_loss: 42.7008 - val_MSE: 3046.8464 - val_MAE: 42.7008\n",
            "Epoch 69/100\n",
            "10/10 [==============================] - 0s 14ms/step - loss: 31.2037 - MSE: 2008.4769 - MAE: 31.2037 - val_loss: 42.1790 - val_MSE: 3058.1467 - val_MAE: 42.1790\n",
            "Epoch 70/100\n",
            "10/10 [==============================] - 0s 17ms/step - loss: 31.2772 - MSE: 2009.1924 - MAE: 31.2772 - val_loss: 43.1673 - val_MSE: 3188.8901 - val_MAE: 43.1673\n",
            "Epoch 71/100\n",
            "10/10 [==============================] - 0s 13ms/step - loss: 32.2886 - MSE: 2123.7339 - MAE: 32.2886 - val_loss: 42.6607 - val_MSE: 3150.4751 - val_MAE: 42.6607\n",
            "Epoch 72/100\n",
            "10/10 [==============================] - 0s 15ms/step - loss: 31.6090 - MSE: 2000.3408 - MAE: 31.6090 - val_loss: 42.7057 - val_MSE: 3154.5630 - val_MAE: 42.7057\n",
            "Epoch 73/100\n",
            "10/10 [==============================] - 0s 13ms/step - loss: 30.5629 - MSE: 1939.5090 - MAE: 30.5629 - val_loss: 43.0648 - val_MSE: 3159.4524 - val_MAE: 43.0648\n",
            "Epoch 74/100\n",
            "10/10 [==============================] - 0s 15ms/step - loss: 30.0601 - MSE: 1908.5295 - MAE: 30.0601 - val_loss: 43.6472 - val_MSE: 3260.9419 - val_MAE: 43.6472\n",
            "Epoch 75/100\n",
            "10/10 [==============================] - 0s 11ms/step - loss: 31.0189 - MSE: 1948.6643 - MAE: 31.0189 - val_loss: 43.2071 - val_MSE: 3207.7024 - val_MAE: 43.2071\n",
            "Epoch 76/100\n",
            "10/10 [==============================] - 0s 16ms/step - loss: 30.6193 - MSE: 1914.3660 - MAE: 30.6193 - val_loss: 43.8019 - val_MSE: 3341.9683 - val_MAE: 43.8019\n",
            "Epoch 77/100\n",
            "10/10 [==============================] - 0s 18ms/step - loss: 31.5051 - MSE: 2038.9016 - MAE: 31.5051 - val_loss: 44.1518 - val_MSE: 3329.9556 - val_MAE: 44.1518\n",
            "Epoch 78/100\n",
            "10/10 [==============================] - 0s 16ms/step - loss: 31.4191 - MSE: 1939.1531 - MAE: 31.4191 - val_loss: 43.2468 - val_MSE: 3186.8525 - val_MAE: 43.2468\n",
            "Epoch 79/100\n",
            "10/10 [==============================] - 0s 14ms/step - loss: 30.7234 - MSE: 1932.0872 - MAE: 30.7234 - val_loss: 43.1226 - val_MSE: 3216.8650 - val_MAE: 43.1226\n",
            "Epoch 80/100\n",
            "10/10 [==============================] - 0s 14ms/step - loss: 29.4346 - MSE: 1825.7853 - MAE: 29.4346 - val_loss: 44.1467 - val_MSE: 3254.1592 - val_MAE: 44.1467\n",
            "Epoch 81/100\n",
            "10/10 [==============================] - 0s 15ms/step - loss: 29.8352 - MSE: 1919.1083 - MAE: 29.8352 - val_loss: 42.8888 - val_MSE: 3132.5564 - val_MAE: 42.8888\n",
            "Epoch 82/100\n",
            "10/10 [==============================] - 0s 13ms/step - loss: 29.1233 - MSE: 1781.4901 - MAE: 29.1233 - val_loss: 43.3041 - val_MSE: 3214.6328 - val_MAE: 43.3041\n",
            "Epoch 83/100\n",
            "10/10 [==============================] - 0s 13ms/step - loss: 29.7137 - MSE: 1840.0562 - MAE: 29.7137 - val_loss: 43.7585 - val_MSE: 3272.6724 - val_MAE: 43.7585\n",
            "Epoch 84/100\n",
            "10/10 [==============================] - 0s 15ms/step - loss: 28.2674 - MSE: 1761.8527 - MAE: 28.2674 - val_loss: 43.2882 - val_MSE: 3218.7915 - val_MAE: 43.2882\n",
            "Epoch 85/100\n",
            "10/10 [==============================] - 0s 14ms/step - loss: 28.8699 - MSE: 1819.8362 - MAE: 28.8699 - val_loss: 43.8617 - val_MSE: 3242.8069 - val_MAE: 43.8617\n",
            "Epoch 86/100\n",
            "10/10 [==============================] - 0s 14ms/step - loss: 28.5753 - MSE: 1781.5376 - MAE: 28.5753 - val_loss: 44.6900 - val_MSE: 3365.2778 - val_MAE: 44.6900\n",
            "Epoch 87/100\n",
            "10/10 [==============================] - 0s 14ms/step - loss: 27.8969 - MSE: 1680.9645 - MAE: 27.8969 - val_loss: 44.6281 - val_MSE: 3359.8975 - val_MAE: 44.6281\n",
            "Epoch 88/100\n",
            "10/10 [==============================] - 0s 14ms/step - loss: 27.4654 - MSE: 1720.9159 - MAE: 27.4654 - val_loss: 44.8647 - val_MSE: 3400.9294 - val_MAE: 44.8647\n",
            "Epoch 89/100\n",
            "10/10 [==============================] - 0s 14ms/step - loss: 27.4662 - MSE: 1674.6223 - MAE: 27.4662 - val_loss: 44.6621 - val_MSE: 3453.7710 - val_MAE: 44.6621\n",
            "Epoch 90/100\n",
            "10/10 [==============================] - 0s 15ms/step - loss: 28.6747 - MSE: 1715.8082 - MAE: 28.6747 - val_loss: 45.1468 - val_MSE: 3468.0491 - val_MAE: 45.1468\n",
            "Epoch 91/100\n",
            "10/10 [==============================] - 0s 13ms/step - loss: 27.1404 - MSE: 1619.1683 - MAE: 27.1404 - val_loss: 44.7980 - val_MSE: 3417.7979 - val_MAE: 44.7980\n",
            "Epoch 92/100\n",
            "10/10 [==============================] - 0s 12ms/step - loss: 26.8422 - MSE: 1651.1273 - MAE: 26.8422 - val_loss: 44.2700 - val_MSE: 3341.6648 - val_MAE: 44.2700\n",
            "Epoch 93/100\n",
            "10/10 [==============================] - 0s 13ms/step - loss: 26.2065 - MSE: 1570.6731 - MAE: 26.2065 - val_loss: 44.1843 - val_MSE: 3348.6077 - val_MAE: 44.1843\n",
            "Epoch 94/100\n",
            "10/10 [==============================] - 0s 19ms/step - loss: 25.3765 - MSE: 1532.5457 - MAE: 25.3765 - val_loss: 43.9985 - val_MSE: 3291.2261 - val_MAE: 43.9985\n",
            "Epoch 95/100\n",
            "10/10 [==============================] - 0s 16ms/step - loss: 25.1208 - MSE: 1518.6835 - MAE: 25.1208 - val_loss: 44.3176 - val_MSE: 3364.4363 - val_MAE: 44.3176\n",
            "Epoch 96/100\n",
            "10/10 [==============================] - 0s 14ms/step - loss: 25.0903 - MSE: 1526.9639 - MAE: 25.0903 - val_loss: 44.9887 - val_MSE: 3450.2598 - val_MAE: 44.9887\n",
            "Epoch 97/100\n",
            "10/10 [==============================] - 0s 16ms/step - loss: 25.1904 - MSE: 1492.3152 - MAE: 25.1904 - val_loss: 45.0498 - val_MSE: 3479.7227 - val_MAE: 45.0498\n",
            "Epoch 98/100\n",
            "10/10 [==============================] - 0s 15ms/step - loss: 24.5030 - MSE: 1467.9387 - MAE: 24.5030 - val_loss: 44.5275 - val_MSE: 3384.6179 - val_MAE: 44.5275\n",
            "Epoch 99/100\n",
            "10/10 [==============================] - 0s 12ms/step - loss: 24.4008 - MSE: 1448.5480 - MAE: 24.4008 - val_loss: 44.4555 - val_MSE: 3424.1448 - val_MAE: 44.4555\n",
            "Epoch 100/100\n",
            "10/10 [==============================] - 0s 12ms/step - loss: 24.8957 - MSE: 1476.8787 - MAE: 24.8957 - val_loss: 45.2930 - val_MSE: 3527.8779 - val_MAE: 45.2930\n"
          ]
        }
      ]
    },
    {
      "cell_type": "code",
      "source": [
        "plt.plot(r.history['MSE'], label = 'MSE')\n",
        "plt.plot(r.history['MAE'], label = 'MAE')\n",
        "\n",
        "plt.legend()"
      ],
      "metadata": {
        "colab": {
          "base_uri": "https://localhost:8080/",
          "height": 285
        },
        "id": "xFsR-USkfenk",
        "outputId": "d314562b-bfc6-42ab-f9e2-30f8a9301219"
      },
      "execution_count": 70,
      "outputs": [
        {
          "output_type": "execute_result",
          "data": {
            "text/plain": [
              "<matplotlib.legend.Legend at 0x7f82818a4d90>"
            ]
          },
          "metadata": {},
          "execution_count": 70
        },
        {
          "output_type": "display_data",
          "data": {
            "text/plain": [
              "<Figure size 432x288 with 1 Axes>"
            ],
            "image/png": "[encoded data removed]"
          },
          "metadata": {
            "needs_background": "light"
          }
        }
      ]
    }
  ]
}
