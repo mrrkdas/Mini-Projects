{
  "cells": [
    {
      "cell_type": "markdown",
      "metadata": {
        "id": "view-in-github",
        "colab_type": "text"
      },
      "source": [
        "<a href=\"https://colab.research.google.com/github/mrrkdas/Mini-Projects/blob/main/Linear_Classification_with_20_newsgroups_dataset.ipynb\" target=\"_parent\"><img src=\"https://colab.research.google.com/assets/colab-badge.svg\" alt=\"Open In Colab\"/></a>"
      ]
    },
    {
      "cell_type": "code",
      "execution_count": null,
      "metadata": {
        "id": "3jYIRV_0U2ts"
      },
      "outputs": [],
      "source": [
        "import tensorflow as tf\n",
        "import pandas as pd\n",
        "import numpy as np\n",
        "import matplotlib.pyplot as plt\n",
        "\n",
        "from sklearn.datasets import fetch_20newsgroups_vectorized\n",
        "from sklearn.model_selection import train_test_split\n",
        "from sklearn.preprocessing import StandardScaler\n",
        "\n",
        "from tensorflow.keras.layers import Dense\n",
        "from tensorflow.keras.callbacks import EarlyStopping, LearningRateScheduler\n",
        "from tensorflow.keras import Model\n",
        "from tensorflow.keras import Input"
      ]
    },
    {
      "cell_type": "markdown",
      "metadata": {
        "id": "1SDrOM1WU9c_"
      },
      "source": [
        "## Getting to know the data"
      ]
    },
    {
      "cell_type": "code",
      "execution_count": null,
      "metadata": {
        "id": "CTgeBGA2U_iA"
      },
      "outputs": [],
      "source": [
        "data = fetch_20newsgroups_vectorized()"
      ]
    },
    {
      "cell_type": "code",
      "execution_count": null,
      "metadata": {
        "colab": {
          "base_uri": "https://localhost:8080/"
        },
        "id": "oIPC66GNVBXB",
        "outputId": "496f4768-adda-47e2-b19e-d435115bf2eb"
      },
      "outputs": [
        {
          "data": {
            "text/plain": [
              "dict_keys(['data', 'target', 'frame', 'target_names', 'feature_names', 'DESCR'])"
            ]
          },
          "execution_count": 3,
          "metadata": {},
          "output_type": "execute_result"
        }
      ],
      "source": [
        "data.keys()"
      ]
    },
    {
      "cell_type": "code",
      "execution_count": null,
      "metadata": {
        "colab": {
          "base_uri": "https://localhost:8080/"
        },
        "id": "UqeYojg-VEaI",
        "outputId": "a526bc09-cf74-4fca-fb1b-e7d3b125ff48"
      },
      "outputs": [
        {
          "data": {
            "text/plain": [
              "(11314, 130107)"
            ]
          },
          "execution_count": 4,
          "metadata": {},
          "output_type": "execute_result"
        }
      ],
      "source": [
        "data.data.shape # 11314 entries and 130107 features??"
      ]
    },
    {
      "cell_type": "code",
      "execution_count": null,
      "metadata": {
        "colab": {
          "base_uri": "https://localhost:8080/"
        },
        "id": "gfFCmyOzVGDM",
        "outputId": "54a39fc1-277b-43ca-bf37-760c467f9a00"
      },
      "outputs": [
        {
          "data": {
            "text/plain": [
              "(11314,)"
            ]
          },
          "execution_count": 5,
          "metadata": {},
          "output_type": "execute_result"
        }
      ],
      "source": [
        "data.target.shape"
      ]
    },
    {
      "cell_type": "code",
      "execution_count": null,
      "metadata": {
        "colab": {
          "base_uri": "https://localhost:8080/"
        },
        "id": "EAOmcviEVIUy",
        "outputId": "ec4a1313-59e3-42c8-b0a4-ff0337b02bfa"
      },
      "outputs": [
        {
          "data": {
            "text/plain": [
              "array([17,  7, 10, ..., 14, 12, 11])"
            ]
          },
          "execution_count": 6,
          "metadata": {},
          "output_type": "execute_result"
        }
      ],
      "source": [
        "data.target"
      ]
    },
    {
      "cell_type": "code",
      "execution_count": null,
      "metadata": {
        "colab": {
          "base_uri": "https://localhost:8080/"
        },
        "id": "rwmvLH0rVKVM",
        "outputId": "85d80a32-91ed-4378-c858-19f5e253147d"
      },
      "outputs": [
        {
          "data": {
            "text/plain": [
              "20"
            ]
          },
          "execution_count": 7,
          "metadata": {},
          "output_type": "execute_result"
        }
      ],
      "source": [
        "len(data.target_names) # Now we know that there are 20 classes"
      ]
    },
    {
      "cell_type": "code",
      "execution_count": null,
      "metadata": {
        "colab": {
          "base_uri": "https://localhost:8080/"
        },
        "id": "87OGCCnhVMd-",
        "outputId": "c7bedd07-c054-4b32-950a-93ea5cac69a1"
      },
      "outputs": [
        {
          "data": {
            "text/plain": [
              "array(['00', '000', '0000', ..., 'íålittin', 'ñaustin', 'ýé'],\n",
              "      dtype=object)"
            ]
          },
          "execution_count": 8,
          "metadata": {},
          "output_type": "execute_result"
        }
      ],
      "source": [
        "data.feature_names"
      ]
    },
    {
      "cell_type": "code",
      "execution_count": null,
      "metadata": {
        "colab": {
          "base_uri": "https://localhost:8080/"
        },
        "id": "Kgx7lOckVRTW",
        "outputId": "62ab347f-9051-4e42-97dd-8df0aec7f26f"
      },
      "outputs": [
        {
          "data": {
            "text/plain": [
              "(130107,)"
            ]
          },
          "execution_count": 9,
          "metadata": {},
          "output_type": "execute_result"
        }
      ],
      "source": [
        "data.feature_names.shape # 130107"
      ]
    },
    {
      "cell_type": "markdown",
      "metadata": {
        "id": "QZMRttxBVTSv"
      },
      "source": [
        "## Preprocessing"
      ]
    },
    {
      "cell_type": "code",
      "execution_count": null,
      "metadata": {
        "id": "6N3eM8pBVUkn"
      },
      "outputs": [],
      "source": [
        "X = data.data\n",
        "y = data.target"
      ]
    },
    {
      "cell_type": "code",
      "execution_count": null,
      "metadata": {
        "id": "4sciJEH1VaIU"
      },
      "outputs": [],
      "source": [
        "# train test split\n",
        "X_train, X_test, y_train, y_test = train_test_split(X, y, test_size = 0.3, random_state = 42)"
      ]
    },
    {
      "cell_type": "code",
      "execution_count": null,
      "metadata": {
        "id": "kn3EizPEVa3q"
      },
      "outputs": [],
      "source": [
        "# Standard Scaling\n",
        "scaler = StandardScaler(with_mean = False)\n",
        "\n",
        "X_train_scaled = scaler.fit_transform(X_train)\n",
        "X_test_scaled = scaler.transform(X_test)"
      ]
    },
    {
      "cell_type": "code",
      "execution_count": null,
      "metadata": {
        "id": "bHdFXubcVdf9"
      },
      "outputs": [],
      "source": [
        "from tensorflow.keras.utils import to_categorical\n",
        "\n",
        "y_train_cat = to_categorical(y_train, num_classes = 20)\n",
        "y_test_cat = to_categorical(y_test.copy())"
      ]
    },
    {
      "cell_type": "markdown",
      "metadata": {
        "id": "KCtragA7Vkot"
      },
      "source": [
        "## Model"
      ]
    },
    {
      "cell_type": "code",
      "execution_count": null,
      "metadata": {
        "id": "H9Ujr7J4VoLU"
      },
      "outputs": [],
      "source": [
        "# Giant Model\n",
        "input = Input((130107, ))\n",
        "\n",
        "dense = Dense(1024, activation = 'relu')\n",
        "\n",
        "x = dense(input)\n",
        "x = Dense(964, activation = 'relu') (x)\n",
        "x = Dense(864, activation = 'relu') (x)\n",
        "x = Dense(700, activation = 'relu') (x)\n",
        "x = Dense(664, activation = 'relu') (x)\n",
        "x = Dense(584, activation = 'relu') (x)\n",
        "x = Dense(484, activation = 'relu') (x)\n",
        "x = Dense(300, activation = 'relu') (x)\n",
        "x = Dense(200, activation = 'relu') (x)\n",
        "x = Dense(100, activation = 'relu') (x)\n",
        "\n",
        "output = Dense(20) (x)\n",
        "\n",
        "model = Model(inputs = input, outputs = output)"
      ]
    },
    {
      "cell_type": "code",
      "execution_count": null,
      "metadata": {
        "id": "cKbvcEkSVp9r"
      },
      "outputs": [],
      "source": [
        "model.compile(loss = 'categorical_crossentropy', optimizer = 'adam', metrics = [\"accuracy\"])"
      ]
    },
    {
      "cell_type": "code",
      "execution_count": null,
      "metadata": {
        "id": "mzF62eT5Vsmw"
      },
      "outputs": [],
      "source": [
        "# Callbacks\n",
        "\n",
        "# Learning Rate Scheduler\n",
        "def scheduler(epoch, lr):\n",
        "  if epoch< 20:\n",
        "    return lr\n",
        "  else:\n",
        "    return lr * tf.math.exp(-0.1)\n",
        "\n",
        "lr_callback = LearningRateScheduler(schedule = scheduler)\n",
        "\n",
        "# Early Stopping\n",
        "es_callback = EarlyStopping(monitor = 'accuracy', min_delta = 0.2, patience = 2)"
      ]
    },
    {
      "cell_type": "code",
      "execution_count": null,
      "metadata": {
        "colab": {
          "background_save": true,
          "base_uri": "https://localhost:8080/"
        },
        "id": "x750FA7IVvGB",
        "outputId": "913285a6-4d41-4eb3-e474-97045fbc1966"
      },
      "outputs": [
        {
          "name": "stdout",
          "output_type": "stream",
          "text": [
            "Epoch 1/100\n",
            "248/248 [==============================] - 156s 630ms/step - loss: 6.3117 - accuracy: 0.0527 - val_loss: 6.2146 - val_accuracy: 0.0518 - lr: 0.0010\n",
            "Epoch 2/100\n",
            "248/248 [==============================] - 154s 621ms/step - loss: 6.3117 - accuracy: 0.0527 - val_loss: 6.2146 - val_accuracy: 0.0518 - lr: 0.0010\n",
            "Epoch 3/100\n",
            "248/248 [==============================] - 158s 636ms/step - loss: 6.3117 - accuracy: 0.0527 - val_loss: 6.2146 - val_accuracy: 0.0518 - lr: 0.0010\n",
            "Epoch 4/100\n",
            "248/248 [==============================] - 158s 637ms/step - loss: 6.3117 - accuracy: 0.0527 - val_loss: 6.2146 - val_accuracy: 0.0518 - lr: 0.0010\n",
            "Epoch 5/100\n",
            "248/248 [==============================] - 162s 654ms/step - loss: 6.3117 - accuracy: 0.0527 - val_loss: 6.2146 - val_accuracy: 0.0518 - lr: 0.0010\n",
            "Epoch 6/100\n",
            "248/248 [==============================] - 165s 665ms/step - loss: 6.3117 - accuracy: 0.0527 - val_loss: 6.2146 - val_accuracy: 0.0518 - lr: 0.0010\n",
            "Epoch 7/100\n",
            "248/248 [==============================] - 161s 650ms/step - loss: 6.3117 - accuracy: 0.0527 - val_loss: 6.2146 - val_accuracy: 0.0518 - lr: 0.0010\n",
            "Epoch 8/100\n",
            "248/248 [==============================] - 159s 642ms/step - loss: 6.3117 - accuracy: 0.0527 - val_loss: 6.2146 - val_accuracy: 0.0518 - lr: 0.0010\n",
            "Epoch 9/100\n",
            "248/248 [==============================] - 163s 656ms/step - loss: 6.3117 - accuracy: 0.0527 - val_loss: 6.2146 - val_accuracy: 0.0518 - lr: 0.0010\n",
            "Epoch 10/100\n",
            "248/248 [==============================] - 162s 654ms/step - loss: 6.3117 - accuracy: 0.0527 - val_loss: 6.2146 - val_accuracy: 0.0518 - lr: 0.0010\n",
            "Epoch 11/100\n",
            "248/248 [==============================] - 160s 647ms/step - loss: 6.3117 - accuracy: 0.0527 - val_loss: 6.2146 - val_accuracy: 0.0518 - lr: 0.0010\n"
          ]
        },
        {
          "data": {
            "text/plain": [
              "<keras.callbacks.History at 0x7f641dedc490>"
            ]
          },
          "execution_count": null,
          "metadata": {},
          "output_type": "execute_result"
        }
      ],
      "source": [
        "model.fit(X_train_scaled, y_train_cat, validation_data = (X_test_scaled, y_test_cat), epochs = 100, callbacks = [lr_callback, es_callback])"
      ]
    },
    {
      "cell_type": "markdown",
      "metadata": {
        "id": "H5Ry6TNtVx1O"
      },
      "source": [
        "### I' m not sure why the accuracy was so bad, or why the model took so long to train, I think it has something to do with the amount of layers but, I think I have the hang of the functional API, which was my goal of this project. "
      ]
    }
  ],
  "metadata": {
    "colab": {
      "name": "**Mini Project** Linear Classification with 20 newsgroups dataset",
      "provenance": [],
      "authorship_tag": "ABX9TyM4XkBnHokUpegff374Odic",
      "include_colab_link": true
    },
    "kernelspec": {
      "display_name": "Python 3",
      "name": "python3"
    },
    "language_info": {
      "name": "python"
    }
  },
  "nbformat": 4,
  "nbformat_minor": 0
}
