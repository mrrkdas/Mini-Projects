{
  "nbformat": 4,
  "nbformat_minor": 0,
  "metadata": {
    "colab": {
      "name": "** Mini Project ** ANN with fashion-mnist dataset",
      "provenance": [],
      "authorship_tag": "ABX9TyMG420/m9pLPhpqgl4tRleY",
      "include_colab_link": true
    },
    "kernelspec": {
      "name": "python3",
      "display_name": "Python 3"
    },
    "language_info": {
      "name": "python"
    }
  },
  "cells": [
    {
      "cell_type": "markdown",
      "metadata": {
        "id": "view-in-github",
        "colab_type": "text"
      },
      "source": [
        "<a href=\"https://colab.research.google.com/github/mrrkdas/Mini-Projects/blob/main/ANN_with_fashion_mnist_dataset.ipynb\" target=\"_parent\"><img src=\"https://colab.research.google.com/assets/colab-badge.svg\" alt=\"Open In Colab\"/></a>"
      ]
    },
    {
      "cell_type": "code",
      "execution_count": 1,
      "metadata": {
        "id": "CA0r3wsLfzpm"
      },
      "outputs": [],
      "source": [
        "import tensorflow as tf\n",
        "import pandas as pd\n",
        "import numpy as np\n",
        "import matplotlib.pyplot as plt\n",
        "\n",
        "from tensorflow.keras.layers import Dense\n",
        "from tensorflow.keras.layers import Input\n",
        "from tensorflow.keras.models import Model\n",
        "from tensorflow.keras.datasets.fashion_mnist import load_data\n",
        "from tensorflow.keras.utils import to_categorical\n",
        "from tensorflow.keras.callbacks import EarlyStopping, LearningRateScheduler"
      ]
    },
    {
      "cell_type": "code",
      "source": [
        "(X_train, y_train), (X_test, y_test) = load_data()\n",
        "\n",
        "X_train.shape, y_train.shape, X_test.shape, y_test.shape"
      ],
      "metadata": {
        "colab": {
          "base_uri": "https://localhost:8080/"
        },
        "id": "3-LqlLndf-TI",
        "outputId": "f88f8d4f-062d-4116-cc58-957347cbe0c0"
      },
      "execution_count": 2,
      "outputs": [
        {
          "output_type": "stream",
          "name": "stdout",
          "text": [
            "Downloading data from https://storage.googleapis.com/tensorflow/tf-keras-datasets/train-labels-idx1-ubyte.gz\n",
            "32768/29515 [=================================] - 0s 0us/step\n",
            "40960/29515 [=========================================] - 0s 0us/step\n",
            "Downloading data from https://storage.googleapis.com/tensorflow/tf-keras-datasets/train-images-idx3-ubyte.gz\n",
            "26427392/26421880 [==============================] - 0s 0us/step\n",
            "26435584/26421880 [==============================] - 0s 0us/step\n",
            "Downloading data from https://storage.googleapis.com/tensorflow/tf-keras-datasets/t10k-labels-idx1-ubyte.gz\n",
            "16384/5148 [===============================================================================================] - 0s 0us/step\n",
            "Downloading data from https://storage.googleapis.com/tensorflow/tf-keras-datasets/t10k-images-idx3-ubyte.gz\n",
            "4423680/4422102 [==============================] - 0s 0us/step\n",
            "4431872/4422102 [==============================] - 0s 0us/step\n"
          ]
        },
        {
          "output_type": "execute_result",
          "data": {
            "text/plain": [
              "((60000, 28, 28), (60000,), (10000, 28, 28), (10000,))"
            ]
          },
          "metadata": {},
          "execution_count": 2
        }
      ]
    },
    {
      "cell_type": "code",
      "source": [
        "classes = ['T-shirt/top', '\tTrouser', 'Pullover', '\tDress', '\tCoat',  ' Sandal', 'Shirt', 'Sneaker', 'Bag', 'Ankle Boot']"
      ],
      "metadata": {
        "id": "Nnormgo8f-1v"
      },
      "execution_count": 3,
      "outputs": []
    },
    {
      "cell_type": "code",
      "source": [
        "import random \n",
        "\n",
        "random_ind = random.randint(0, 60001)\n",
        "\n",
        "plt.imshow(X_train[random_ind])\n",
        "print(y_train[random_ind])\n",
        "print(classes[y_train[random_ind]])"
      ],
      "metadata": {
        "colab": {
          "base_uri": "https://localhost:8080/",
          "height": 300
        },
        "id": "8mtEtVgzgAdv",
        "outputId": "17278aea-e422-4767-f98d-912d46b3c938"
      },
      "execution_count": 4,
      "outputs": [
        {
          "output_type": "stream",
          "name": "stdout",
          "text": [
            "5\n",
            " Sandal\n"
          ]
        },
        {
          "output_type": "display_data",
          "data": {
            "text/plain": [
              "<Figure size 432x288 with 1 Axes>"
            ],
            "image/png": "[encoded data removed]"
          },
          "metadata": {
            "needs_background": "light"
          }
        }
      ]
    },
    {
      "cell_type": "code",
      "source": [
        "X_train.max(), X_train.min()"
      ],
      "metadata": {
        "colab": {
          "base_uri": "https://localhost:8080/"
        },
        "id": "sFSnwnz5gCeb",
        "outputId": "83f48481-98b5-4cab-c4ef-f83e2a4f51c6"
      },
      "execution_count": 5,
      "outputs": [
        {
          "output_type": "execute_result",
          "data": {
            "text/plain": [
              "(255, 0)"
            ]
          },
          "metadata": {},
          "execution_count": 5
        }
      ]
    },
    {
      "cell_type": "code",
      "source": [
        "y_train.max(), y_train.min() #10 classes"
      ],
      "metadata": {
        "colab": {
          "base_uri": "https://localhost:8080/"
        },
        "id": "aaGJWKWXgFNu",
        "outputId": "775ec018-c96e-4794-d57d-78aa36cceec5"
      },
      "execution_count": 6,
      "outputs": [
        {
          "output_type": "execute_result",
          "data": {
            "text/plain": [
              "(9, 0)"
            ]
          },
          "metadata": {},
          "execution_count": 6
        }
      ]
    },
    {
      "cell_type": "code",
      "source": [
        "X_test = X_test.copy()\n",
        "X_test.shape"
      ],
      "metadata": {
        "colab": {
          "base_uri": "https://localhost:8080/"
        },
        "id": "RCCtg9sQgGrM",
        "outputId": "3a753c59-b3fe-4049-e427-1197b76fad19"
      },
      "execution_count": 7,
      "outputs": [
        {
          "output_type": "execute_result",
          "data": {
            "text/plain": [
              "(10000, 28, 28)"
            ]
          },
          "metadata": {},
          "execution_count": 7
        }
      ]
    },
    {
      "cell_type": "markdown",
      "source": [
        "## Preprocessing"
      ],
      "metadata": {
        "id": "mqNYl6FhgMzj"
      }
    },
    {
      "cell_type": "code",
      "source": [
        "# Standardizing\n",
        "X_train = X_train/255\n",
        "X_test = X_test/255"
      ],
      "metadata": {
        "id": "n509XLuzgILo"
      },
      "execution_count": 8,
      "outputs": []
    },
    {
      "cell_type": "code",
      "source": [
        "# Reshaping\n",
        "X_train = np.reshape(X_train, (60000, 784))\n",
        "X_test = np.reshape(X_test, (10000, 784))"
      ],
      "metadata": {
        "id": "1pG0h2lOgJgO"
      },
      "execution_count": 9,
      "outputs": []
    },
    {
      "cell_type": "code",
      "source": [
        "y_train = to_categorical(y_train, num_classes = 10)\n",
        "y_test  = to_categorical(y_test, num_classes = 10)"
      ],
      "metadata": {
        "id": "OUeq1ZLIgK-8"
      },
      "execution_count": 10,
      "outputs": []
    },
    {
      "cell_type": "markdown",
      "source": [
        "## Model"
      ],
      "metadata": {
        "id": "NSBa98uogSyW"
      }
    },
    {
      "cell_type": "code",
      "source": [
        "input = Input((784, ))\n",
        "\n",
        "dense = Dense(128, activation = 'relu')\n",
        "\n",
        "x = dense(input)\n",
        "x = tf.keras.layers.Dropout(0.2) (x)\n",
        "\n",
        "output = Dense(10, activation = 'softmax') (x)\n",
        "\n",
        "model = Model(inputs = input, outputs = output, name = \"Fashion_mnist_model\")\n",
        "\n",
        "model.compile(loss = 'categorical_crossentropy', optimizer = 'adam',  metrics = ['categorical_accuracy'])\n",
        "\n",
        "model.summary()"
      ],
      "metadata": {
        "colab": {
          "base_uri": "https://localhost:8080/"
        },
        "id": "zsxfo9yAgQhW",
        "outputId": "33f11231-d5dd-404d-8fbd-2930f7acedf0"
      },
      "execution_count": 11,
      "outputs": [
        {
          "output_type": "stream",
          "name": "stdout",
          "text": [
            "Model: \"Fashion_mnist_model\"\n",
            "_________________________________________________________________\n",
            " Layer (type)                Output Shape              Param #   \n",
            "=================================================================\n",
            " input_1 (InputLayer)        [(None, 784)]             0         \n",
            "                                                                 \n",
            " dense (Dense)               (None, 128)               100480    \n",
            "                                                                 \n",
            " dropout (Dropout)           (None, 128)               0         \n",
            "                                                                 \n",
            " dense_1 (Dense)             (None, 10)                1290      \n",
            "                                                                 \n",
            "=================================================================\n",
            "Total params: 101,770\n",
            "Trainable params: 101,770\n",
            "Non-trainable params: 0\n",
            "_________________________________________________________________\n"
          ]
        }
      ]
    },
    {
      "cell_type": "code",
      "source": [
        "# Callbacks\n",
        "# Early Stopping\n",
        "es_callback = EarlyStopping(monitor = 'loss', min_delta = 0.4, patience = 10)\n",
        "\n",
        "# Learning Rate Scheduler \n",
        "def scheduler(epoch, lr):\n",
        "  if epoch < 20:\n",
        "    return lr\n",
        "  else:\n",
        "    lr * tf.math.exp(-0.1)\n",
        "\n",
        "lr_callback = LearningRateScheduler(scheduler)"
      ],
      "metadata": {
        "id": "rlCoHa-UgSWB"
      },
      "execution_count": 12,
      "outputs": []
    },
    {
      "cell_type": "code",
      "source": [
        "model.fit(X_train, y_train, validation_data = (X_test, y_test), epochs = 100, callbacks = [es_callback, lr_callback])"
      ],
      "metadata": {
        "colab": {
          "base_uri": "https://localhost:8080/"
        },
        "id": "n8HGt7VYgV32",
        "outputId": "e4d06505-ba2d-4bd5-a25a-146389f2779b"
      },
      "execution_count": 13,
      "outputs": [
        {
          "output_type": "stream",
          "name": "stdout",
          "text": [
            "Epoch 1/100\n",
            "1875/1875 [==============================] - 10s 5ms/step - loss: 0.5346 - categorical_accuracy: 0.8104 - val_loss: 0.4367 - val_categorical_accuracy: 0.8395 - lr: 0.0010\n",
            "Epoch 2/100\n",
            "1875/1875 [==============================] - 5s 3ms/step - loss: 0.4030 - categorical_accuracy: 0.8531 - val_loss: 0.4057 - val_categorical_accuracy: 0.8528 - lr: 0.0010\n",
            "Epoch 3/100\n",
            "1875/1875 [==============================] - 5s 3ms/step - loss: 0.3707 - categorical_accuracy: 0.8638 - val_loss: 0.3640 - val_categorical_accuracy: 0.8688 - lr: 0.0010\n",
            "Epoch 4/100\n",
            "1875/1875 [==============================] - 5s 2ms/step - loss: 0.3481 - categorical_accuracy: 0.8720 - val_loss: 0.3760 - val_categorical_accuracy: 0.8631 - lr: 0.0010\n",
            "Epoch 5/100\n",
            "1875/1875 [==============================] - 6s 3ms/step - loss: 0.3324 - categorical_accuracy: 0.8781 - val_loss: 0.3664 - val_categorical_accuracy: 0.8648 - lr: 0.0010\n",
            "Epoch 6/100\n",
            "1875/1875 [==============================] - 5s 3ms/step - loss: 0.3195 - categorical_accuracy: 0.8830 - val_loss: 0.3654 - val_categorical_accuracy: 0.8655 - lr: 0.0010\n",
            "Epoch 7/100\n",
            "1875/1875 [==============================] - 5s 3ms/step - loss: 0.3085 - categorical_accuracy: 0.8860 - val_loss: 0.3607 - val_categorical_accuracy: 0.8737 - lr: 0.0010\n",
            "Epoch 8/100\n",
            "1875/1875 [==============================] - 5s 3ms/step - loss: 0.2992 - categorical_accuracy: 0.8895 - val_loss: 0.3521 - val_categorical_accuracy: 0.8741 - lr: 0.0010\n",
            "Epoch 9/100\n",
            "1875/1875 [==============================] - 5s 3ms/step - loss: 0.2932 - categorical_accuracy: 0.8924 - val_loss: 0.3373 - val_categorical_accuracy: 0.8782 - lr: 0.0010\n",
            "Epoch 10/100\n",
            "1875/1875 [==============================] - 5s 3ms/step - loss: 0.2835 - categorical_accuracy: 0.8949 - val_loss: 0.3371 - val_categorical_accuracy: 0.8808 - lr: 0.0010\n",
            "Epoch 11/100\n",
            "1875/1875 [==============================] - 5s 3ms/step - loss: 0.2789 - categorical_accuracy: 0.8965 - val_loss: 0.3432 - val_categorical_accuracy: 0.8815 - lr: 0.0010\n"
          ]
        },
        {
          "output_type": "execute_result",
          "data": {
            "text/plain": [
              "<keras.callbacks.History at 0x7f2c40149fd0>"
            ]
          },
          "metadata": {},
          "execution_count": 13
        }
      ]
    },
    {
      "cell_type": "code",
      "source": [
        "model.evaluate(X_test, y_test)"
      ],
      "metadata": {
        "colab": {
          "base_uri": "https://localhost:8080/"
        },
        "id": "qykfvreEgXjI",
        "outputId": "36dca7e8-592f-40d7-c9ae-510b170e0e5f"
      },
      "execution_count": 14,
      "outputs": [
        {
          "output_type": "stream",
          "name": "stdout",
          "text": [
            "313/313 [==============================] - 1s 2ms/step - loss: 0.3432 - categorical_accuracy: 0.8815\n"
          ]
        },
        {
          "output_type": "execute_result",
          "data": {
            "text/plain": [
              "[0.3431946039199829, 0.8815000057220459]"
            ]
          },
          "metadata": {},
          "execution_count": 14
        }
      ]
    },
    {
      "cell_type": "markdown",
      "source": [
        "## Predictions"
      ],
      "metadata": {
        "id": "e5wVNG-agaDE"
      }
    },
    {
      "cell_type": "code",
      "source": [
        "preds = model.predict(X_test)"
      ],
      "metadata": {
        "id": "GKYVpqJigdD9"
      },
      "execution_count": 15,
      "outputs": []
    },
    {
      "cell_type": "code",
      "source": [
        "# Call this cell over and over again \n",
        "import random \n",
        "\n",
        "i = random.randint(0, 10001)\n",
        "\n",
        "print(classes[y_test[i].argmax()])\n",
        "print(classes[preds[i].argmax()])"
      ],
      "metadata": {
        "colab": {
          "base_uri": "https://localhost:8080/"
        },
        "id": "9I1IEd99geOn",
        "outputId": "006b66e5-073b-4240-d9b6-714bd00d4ac2"
      },
      "execution_count": 22,
      "outputs": [
        {
          "output_type": "stream",
          "name": "stdout",
          "text": [
            "\tDress\n",
            "\tDress\n"
          ]
        }
      ]
    },
    {
      "cell_type": "markdown",
      "source": [
        "## Saving"
      ],
      "metadata": {
        "id": "B8NuPYyagsMN"
      }
    },
    {
      "cell_type": "code",
      "source": [
        "model.save('fashion_mnist_model')"
      ],
      "metadata": {
        "colab": {
          "base_uri": "https://localhost:8080/"
        },
        "id": "mq5z3UWlgtX6",
        "outputId": "248c9078-0cac-4ee1-8169-c36fa345e731"
      },
      "execution_count": 17,
      "outputs": [
        {
          "output_type": "stream",
          "name": "stdout",
          "text": [
            "INFO:tensorflow:Assets written to: fashion_mnist_model/assets\n"
          ]
        }
      ]
    },
    {
      "cell_type": "code",
      "source": [
        "new_model = tf.keras.models.load_model('fashion_mnist_model')"
      ],
      "metadata": {
        "id": "CqKI9IIogxkr"
      },
      "execution_count": 18,
      "outputs": []
    },
    {
      "cell_type": "code",
      "source": [
        "new_model_preds = new_model.predict(X_test)"
      ],
      "metadata": {
        "id": "oq0XkMY_hZCc"
      },
      "execution_count": 20,
      "outputs": []
    },
    {
      "cell_type": "code",
      "source": [
        "import random \n",
        "\n",
        "i = random.randint(0, 10001)\n",
        "\n",
        "print(classes[y_test[i].argmax()])\n",
        "print(classes[new_model_preds[i].argmax()])"
      ],
      "metadata": {
        "colab": {
          "base_uri": "https://localhost:8080/"
        },
        "id": "9h6xAsjChgc2",
        "outputId": "ca6cf8dd-935a-44d2-fdc4-fefa4d60a6ff"
      },
      "execution_count": 23,
      "outputs": [
        {
          "output_type": "stream",
          "name": "stdout",
          "text": [
            "\tTrouser\n",
            "\tTrouser\n"
          ]
        }
      ]
    }
  ]
}